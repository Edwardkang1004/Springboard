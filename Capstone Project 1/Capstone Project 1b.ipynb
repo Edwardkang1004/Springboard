{
 "cells": [
  {
   "cell_type": "markdown",
   "metadata": {},
   "source": [
    "# Part 1 Data Wrangling"
   ]
  },
  {
   "cell_type": "code",
   "execution_count": 1,
   "metadata": {
    "scrolled": true
   },
   "outputs": [
    {
     "data": {
      "text/html": [
       "<div>\n",
       "<style scoped>\n",
       "    .dataframe tbody tr th:only-of-type {\n",
       "        vertical-align: middle;\n",
       "    }\n",
       "\n",
       "    .dataframe tbody tr th {\n",
       "        vertical-align: top;\n",
       "    }\n",
       "\n",
       "    .dataframe thead th {\n",
       "        text-align: right;\n",
       "    }\n",
       "</style>\n",
       "<table border=\"1\" class=\"dataframe\">\n",
       "  <thead>\n",
       "    <tr style=\"text-align: right;\">\n",
       "      <th></th>\n",
       "      <th>state</th>\n",
       "      <th>city</th>\n",
       "      <th>colour</th>\n",
       "      <th>shape</th>\n",
       "      <th>mday</th>\n",
       "      <th>month</th>\n",
       "      <th>year</th>\n",
       "      <th>hour</th>\n",
       "      <th>id</th>\n",
       "      <th>duration (seconds)</th>\n",
       "      <th>...</th>\n",
       "      <th>dewpoint</th>\n",
       "      <th>thunder</th>\n",
       "      <th>fog</th>\n",
       "      <th>precip</th>\n",
       "      <th>wingspeed</th>\n",
       "      <th>tornado</th>\n",
       "      <th>hum</th>\n",
       "      <th>snow</th>\n",
       "      <th>wgust</th>\n",
       "      <th>condition</th>\n",
       "    </tr>\n",
       "  </thead>\n",
       "  <tbody>\n",
       "    <tr>\n",
       "      <th>0</th>\n",
       "      <td>WA</td>\n",
       "      <td>Olympia</td>\n",
       "      <td>NaN</td>\n",
       "      <td>Formation</td>\n",
       "      <td>14</td>\n",
       "      <td>11</td>\n",
       "      <td>1997</td>\n",
       "      <td>21</td>\n",
       "      <td>NaN</td>\n",
       "      <td>2700.0</td>\n",
       "      <td>...</td>\n",
       "      <td>-0.867472</td>\n",
       "      <td>0</td>\n",
       "      <td>0</td>\n",
       "      <td>NaN</td>\n",
       "      <td>-0.357641</td>\n",
       "      <td>0</td>\n",
       "      <td>1.598872</td>\n",
       "      <td>0</td>\n",
       "      <td>NaN</td>\n",
       "      <td>Clear</td>\n",
       "    </tr>\n",
       "    <tr>\n",
       "      <th>1</th>\n",
       "      <td>WA</td>\n",
       "      <td>Olympia</td>\n",
       "      <td>NaN</td>\n",
       "      <td>Fireball</td>\n",
       "      <td>14</td>\n",
       "      <td>11</td>\n",
       "      <td>1997</td>\n",
       "      <td>21</td>\n",
       "      <td>NaN</td>\n",
       "      <td>7200.0</td>\n",
       "      <td>...</td>\n",
       "      <td>-0.867472</td>\n",
       "      <td>0</td>\n",
       "      <td>0</td>\n",
       "      <td>NaN</td>\n",
       "      <td>-0.357641</td>\n",
       "      <td>0</td>\n",
       "      <td>1.598872</td>\n",
       "      <td>0</td>\n",
       "      <td>NaN</td>\n",
       "      <td>Clear</td>\n",
       "    </tr>\n",
       "    <tr>\n",
       "      <th>2</th>\n",
       "      <td>WA</td>\n",
       "      <td>Olympia</td>\n",
       "      <td>NaN</td>\n",
       "      <td>Formation</td>\n",
       "      <td>14</td>\n",
       "      <td>11</td>\n",
       "      <td>1997</td>\n",
       "      <td>21</td>\n",
       "      <td>NaN</td>\n",
       "      <td>20.0</td>\n",
       "      <td>...</td>\n",
       "      <td>-0.867472</td>\n",
       "      <td>0</td>\n",
       "      <td>0</td>\n",
       "      <td>NaN</td>\n",
       "      <td>-0.357641</td>\n",
       "      <td>0</td>\n",
       "      <td>1.598872</td>\n",
       "      <td>0</td>\n",
       "      <td>NaN</td>\n",
       "      <td>Clear</td>\n",
       "    </tr>\n",
       "    <tr>\n",
       "      <th>3</th>\n",
       "      <td>MD</td>\n",
       "      <td>Salisbury</td>\n",
       "      <td>NaN</td>\n",
       "      <td>Oval</td>\n",
       "      <td>24</td>\n",
       "      <td>11</td>\n",
       "      <td>1997</td>\n",
       "      <td>2</td>\n",
       "      <td>NaN</td>\n",
       "      <td>20.0</td>\n",
       "      <td>...</td>\n",
       "      <td>-0.464073</td>\n",
       "      <td>0</td>\n",
       "      <td>0</td>\n",
       "      <td>NaN</td>\n",
       "      <td>-0.911239</td>\n",
       "      <td>0</td>\n",
       "      <td>0.980525</td>\n",
       "      <td>0</td>\n",
       "      <td>NaN</td>\n",
       "      <td>Mostly Cloudy</td>\n",
       "    </tr>\n",
       "    <tr>\n",
       "      <th>4</th>\n",
       "      <td>MD</td>\n",
       "      <td>Salisbury</td>\n",
       "      <td>YELLOW</td>\n",
       "      <td>Oval</td>\n",
       "      <td>24</td>\n",
       "      <td>11</td>\n",
       "      <td>1997</td>\n",
       "      <td>2</td>\n",
       "      <td>NaN</td>\n",
       "      <td>900.0</td>\n",
       "      <td>...</td>\n",
       "      <td>-0.464073</td>\n",
       "      <td>0</td>\n",
       "      <td>0</td>\n",
       "      <td>NaN</td>\n",
       "      <td>-0.911239</td>\n",
       "      <td>0</td>\n",
       "      <td>0.980525</td>\n",
       "      <td>0</td>\n",
       "      <td>NaN</td>\n",
       "      <td>Mostly Cloudy</td>\n",
       "    </tr>\n",
       "  </tbody>\n",
       "</table>\n",
       "<p>5 rows × 29 columns</p>\n",
       "</div>"
      ],
      "text/plain": [
       "  state       city  colour      shape  mday  month  year  hour  id  \\\n",
       "0    WA    Olympia     NaN  Formation    14     11  1997    21 NaN   \n",
       "1    WA    Olympia     NaN   Fireball    14     11  1997    21 NaN   \n",
       "2    WA    Olympia     NaN  Formation    14     11  1997    21 NaN   \n",
       "3    MD  Salisbury     NaN       Oval    24     11  1997     2 NaN   \n",
       "4    MD  Salisbury  YELLOW       Oval    24     11  1997     2 NaN   \n",
       "\n",
       "   duration (seconds)      ...        dewpoint  thunder  fog  precip  \\\n",
       "0              2700.0      ...       -0.867472        0    0     NaN   \n",
       "1              7200.0      ...       -0.867472        0    0     NaN   \n",
       "2                20.0      ...       -0.867472        0    0     NaN   \n",
       "3                20.0      ...       -0.464073        0    0     NaN   \n",
       "4               900.0      ...       -0.464073        0    0     NaN   \n",
       "\n",
       "   wingspeed  tornado       hum  snow wgust      condition  \n",
       "0  -0.357641        0  1.598872     0   NaN          Clear  \n",
       "1  -0.357641        0  1.598872     0   NaN          Clear  \n",
       "2  -0.357641        0  1.598872     0   NaN          Clear  \n",
       "3  -0.911239        0  0.980525     0   NaN  Mostly Cloudy  \n",
       "4  -0.911239        0  0.980525     0   NaN  Mostly Cloudy  \n",
       "\n",
       "[5 rows x 29 columns]"
      ]
     },
     "execution_count": 1,
     "metadata": {},
     "output_type": "execute_result"
    }
   ],
   "source": [
    "import pandas as pd\n",
    "#read ufo.csv file into data frame\n",
    "ufo = pd.read_csv(\"ufo.csv\")\n",
    "ufo.head()"
   ]
  },
  {
   "cell_type": "code",
   "execution_count": 2,
   "metadata": {
    "scrolled": true
   },
   "outputs": [
    {
     "data": {
      "text/html": [
       "<div>\n",
       "<style scoped>\n",
       "    .dataframe tbody tr th:only-of-type {\n",
       "        vertical-align: middle;\n",
       "    }\n",
       "\n",
       "    .dataframe tbody tr th {\n",
       "        vertical-align: top;\n",
       "    }\n",
       "\n",
       "    .dataframe thead th {\n",
       "        text-align: right;\n",
       "    }\n",
       "</style>\n",
       "<table border=\"1\" class=\"dataframe\">\n",
       "  <thead>\n",
       "    <tr style=\"text-align: right;\">\n",
       "      <th></th>\n",
       "      <th>state</th>\n",
       "      <th>city</th>\n",
       "      <th>colour</th>\n",
       "      <th>shape</th>\n",
       "      <th>mday</th>\n",
       "      <th>month</th>\n",
       "      <th>year</th>\n",
       "      <th>hour</th>\n",
       "      <th>duration (seconds)</th>\n",
       "      <th>pressure</th>\n",
       "      <th>...</th>\n",
       "      <th>dewpoint</th>\n",
       "      <th>thunder</th>\n",
       "      <th>fog</th>\n",
       "      <th>precip</th>\n",
       "      <th>wingspeed</th>\n",
       "      <th>tornado</th>\n",
       "      <th>hum</th>\n",
       "      <th>snow</th>\n",
       "      <th>wgust</th>\n",
       "      <th>condition</th>\n",
       "    </tr>\n",
       "  </thead>\n",
       "  <tbody>\n",
       "    <tr>\n",
       "      <th>0</th>\n",
       "      <td>WA</td>\n",
       "      <td>Olympia</td>\n",
       "      <td>NaN</td>\n",
       "      <td>Formation</td>\n",
       "      <td>14</td>\n",
       "      <td>11</td>\n",
       "      <td>1997</td>\n",
       "      <td>21</td>\n",
       "      <td>2700.0</td>\n",
       "      <td>-0.163149</td>\n",
       "      <td>...</td>\n",
       "      <td>-0.867472</td>\n",
       "      <td>0</td>\n",
       "      <td>0</td>\n",
       "      <td>NaN</td>\n",
       "      <td>-0.357641</td>\n",
       "      <td>0</td>\n",
       "      <td>1.598872</td>\n",
       "      <td>0</td>\n",
       "      <td>NaN</td>\n",
       "      <td>Clear</td>\n",
       "    </tr>\n",
       "    <tr>\n",
       "      <th>1</th>\n",
       "      <td>WA</td>\n",
       "      <td>Olympia</td>\n",
       "      <td>NaN</td>\n",
       "      <td>Fireball</td>\n",
       "      <td>14</td>\n",
       "      <td>11</td>\n",
       "      <td>1997</td>\n",
       "      <td>21</td>\n",
       "      <td>7200.0</td>\n",
       "      <td>-0.163149</td>\n",
       "      <td>...</td>\n",
       "      <td>-0.867472</td>\n",
       "      <td>0</td>\n",
       "      <td>0</td>\n",
       "      <td>NaN</td>\n",
       "      <td>-0.357641</td>\n",
       "      <td>0</td>\n",
       "      <td>1.598872</td>\n",
       "      <td>0</td>\n",
       "      <td>NaN</td>\n",
       "      <td>Clear</td>\n",
       "    </tr>\n",
       "    <tr>\n",
       "      <th>2</th>\n",
       "      <td>WA</td>\n",
       "      <td>Olympia</td>\n",
       "      <td>NaN</td>\n",
       "      <td>Formation</td>\n",
       "      <td>14</td>\n",
       "      <td>11</td>\n",
       "      <td>1997</td>\n",
       "      <td>21</td>\n",
       "      <td>20.0</td>\n",
       "      <td>-0.163149</td>\n",
       "      <td>...</td>\n",
       "      <td>-0.867472</td>\n",
       "      <td>0</td>\n",
       "      <td>0</td>\n",
       "      <td>NaN</td>\n",
       "      <td>-0.357641</td>\n",
       "      <td>0</td>\n",
       "      <td>1.598872</td>\n",
       "      <td>0</td>\n",
       "      <td>NaN</td>\n",
       "      <td>Clear</td>\n",
       "    </tr>\n",
       "    <tr>\n",
       "      <th>3</th>\n",
       "      <td>MD</td>\n",
       "      <td>Salisbury</td>\n",
       "      <td>NaN</td>\n",
       "      <td>Oval</td>\n",
       "      <td>24</td>\n",
       "      <td>11</td>\n",
       "      <td>1997</td>\n",
       "      <td>2</td>\n",
       "      <td>20.0</td>\n",
       "      <td>-0.189379</td>\n",
       "      <td>...</td>\n",
       "      <td>-0.464073</td>\n",
       "      <td>0</td>\n",
       "      <td>0</td>\n",
       "      <td>NaN</td>\n",
       "      <td>-0.911239</td>\n",
       "      <td>0</td>\n",
       "      <td>0.980525</td>\n",
       "      <td>0</td>\n",
       "      <td>NaN</td>\n",
       "      <td>Mostly Cloudy</td>\n",
       "    </tr>\n",
       "    <tr>\n",
       "      <th>4</th>\n",
       "      <td>MD</td>\n",
       "      <td>Salisbury</td>\n",
       "      <td>YELLOW</td>\n",
       "      <td>Oval</td>\n",
       "      <td>24</td>\n",
       "      <td>11</td>\n",
       "      <td>1997</td>\n",
       "      <td>2</td>\n",
       "      <td>900.0</td>\n",
       "      <td>-0.189379</td>\n",
       "      <td>...</td>\n",
       "      <td>-0.464073</td>\n",
       "      <td>0</td>\n",
       "      <td>0</td>\n",
       "      <td>NaN</td>\n",
       "      <td>-0.911239</td>\n",
       "      <td>0</td>\n",
       "      <td>0.980525</td>\n",
       "      <td>0</td>\n",
       "      <td>NaN</td>\n",
       "      <td>Mostly Cloudy</td>\n",
       "    </tr>\n",
       "  </tbody>\n",
       "</table>\n",
       "<p>5 rows × 27 columns</p>\n",
       "</div>"
      ],
      "text/plain": [
       "  state       city  colour      shape  mday  month  year  hour  \\\n",
       "0    WA    Olympia     NaN  Formation    14     11  1997    21   \n",
       "1    WA    Olympia     NaN   Fireball    14     11  1997    21   \n",
       "2    WA    Olympia     NaN  Formation    14     11  1997    21   \n",
       "3    MD  Salisbury     NaN       Oval    24     11  1997     2   \n",
       "4    MD  Salisbury  YELLOW       Oval    24     11  1997     2   \n",
       "\n",
       "   duration (seconds)  pressure      ...        dewpoint  thunder  fog  \\\n",
       "0              2700.0 -0.163149      ...       -0.867472        0    0   \n",
       "1              7200.0 -0.163149      ...       -0.867472        0    0   \n",
       "2                20.0 -0.163149      ...       -0.867472        0    0   \n",
       "3                20.0 -0.189379      ...       -0.464073        0    0   \n",
       "4               900.0 -0.189379      ...       -0.464073        0    0   \n",
       "\n",
       "   precip  wingspeed  tornado       hum  snow  wgust      condition  \n",
       "0     NaN  -0.357641        0  1.598872     0    NaN          Clear  \n",
       "1     NaN  -0.357641        0  1.598872     0    NaN          Clear  \n",
       "2     NaN  -0.357641        0  1.598872     0    NaN          Clear  \n",
       "3     NaN  -0.911239        0  0.980525     0    NaN  Mostly Cloudy  \n",
       "4     NaN  -0.911239        0  0.980525     0    NaN  Mostly Cloudy  \n",
       "\n",
       "[5 rows x 27 columns]"
      ]
     },
     "execution_count": 2,
     "metadata": {},
     "output_type": "execute_result"
    }
   ],
   "source": [
    "# drop the usless columns\n",
    "ufo = ufo.drop(columns=['duration (hours/min)','id'],axis=1)\n",
    "ufo.head()"
   ]
  },
  {
   "cell_type": "code",
   "execution_count": 3,
   "metadata": {},
   "outputs": [
    {
     "data": {
      "text/html": [
       "<div>\n",
       "<style scoped>\n",
       "    .dataframe tbody tr th:only-of-type {\n",
       "        vertical-align: middle;\n",
       "    }\n",
       "\n",
       "    .dataframe tbody tr th {\n",
       "        vertical-align: top;\n",
       "    }\n",
       "\n",
       "    .dataframe thead th {\n",
       "        text-align: right;\n",
       "    }\n",
       "</style>\n",
       "<table border=\"1\" class=\"dataframe\">\n",
       "  <thead>\n",
       "    <tr style=\"text-align: right;\">\n",
       "      <th></th>\n",
       "      <th>state</th>\n",
       "      <th>city</th>\n",
       "      <th>colour</th>\n",
       "      <th>shape</th>\n",
       "      <th>mday</th>\n",
       "      <th>month</th>\n",
       "      <th>year</th>\n",
       "      <th>hour</th>\n",
       "      <th>duration</th>\n",
       "      <th>pressure</th>\n",
       "      <th>...</th>\n",
       "      <th>dewpoint</th>\n",
       "      <th>thunder</th>\n",
       "      <th>fog</th>\n",
       "      <th>precip</th>\n",
       "      <th>wingspeed</th>\n",
       "      <th>tornado</th>\n",
       "      <th>hum</th>\n",
       "      <th>snow</th>\n",
       "      <th>wgust</th>\n",
       "      <th>condition</th>\n",
       "    </tr>\n",
       "  </thead>\n",
       "  <tbody>\n",
       "    <tr>\n",
       "      <th>0</th>\n",
       "      <td>WA</td>\n",
       "      <td>Olympia</td>\n",
       "      <td>NaN</td>\n",
       "      <td>Formation</td>\n",
       "      <td>14</td>\n",
       "      <td>11</td>\n",
       "      <td>1997</td>\n",
       "      <td>21</td>\n",
       "      <td>2700.0</td>\n",
       "      <td>-0.163149</td>\n",
       "      <td>...</td>\n",
       "      <td>-0.867472</td>\n",
       "      <td>0</td>\n",
       "      <td>0</td>\n",
       "      <td>NaN</td>\n",
       "      <td>-0.357641</td>\n",
       "      <td>0</td>\n",
       "      <td>1.598872</td>\n",
       "      <td>0</td>\n",
       "      <td>NaN</td>\n",
       "      <td>Clear</td>\n",
       "    </tr>\n",
       "    <tr>\n",
       "      <th>1</th>\n",
       "      <td>WA</td>\n",
       "      <td>Olympia</td>\n",
       "      <td>NaN</td>\n",
       "      <td>Fireball</td>\n",
       "      <td>14</td>\n",
       "      <td>11</td>\n",
       "      <td>1997</td>\n",
       "      <td>21</td>\n",
       "      <td>7200.0</td>\n",
       "      <td>-0.163149</td>\n",
       "      <td>...</td>\n",
       "      <td>-0.867472</td>\n",
       "      <td>0</td>\n",
       "      <td>0</td>\n",
       "      <td>NaN</td>\n",
       "      <td>-0.357641</td>\n",
       "      <td>0</td>\n",
       "      <td>1.598872</td>\n",
       "      <td>0</td>\n",
       "      <td>NaN</td>\n",
       "      <td>Clear</td>\n",
       "    </tr>\n",
       "    <tr>\n",
       "      <th>2</th>\n",
       "      <td>WA</td>\n",
       "      <td>Olympia</td>\n",
       "      <td>NaN</td>\n",
       "      <td>Formation</td>\n",
       "      <td>14</td>\n",
       "      <td>11</td>\n",
       "      <td>1997</td>\n",
       "      <td>21</td>\n",
       "      <td>20.0</td>\n",
       "      <td>-0.163149</td>\n",
       "      <td>...</td>\n",
       "      <td>-0.867472</td>\n",
       "      <td>0</td>\n",
       "      <td>0</td>\n",
       "      <td>NaN</td>\n",
       "      <td>-0.357641</td>\n",
       "      <td>0</td>\n",
       "      <td>1.598872</td>\n",
       "      <td>0</td>\n",
       "      <td>NaN</td>\n",
       "      <td>Clear</td>\n",
       "    </tr>\n",
       "    <tr>\n",
       "      <th>3</th>\n",
       "      <td>MD</td>\n",
       "      <td>Salisbury</td>\n",
       "      <td>NaN</td>\n",
       "      <td>Oval</td>\n",
       "      <td>24</td>\n",
       "      <td>11</td>\n",
       "      <td>1997</td>\n",
       "      <td>2</td>\n",
       "      <td>20.0</td>\n",
       "      <td>-0.189379</td>\n",
       "      <td>...</td>\n",
       "      <td>-0.464073</td>\n",
       "      <td>0</td>\n",
       "      <td>0</td>\n",
       "      <td>NaN</td>\n",
       "      <td>-0.911239</td>\n",
       "      <td>0</td>\n",
       "      <td>0.980525</td>\n",
       "      <td>0</td>\n",
       "      <td>NaN</td>\n",
       "      <td>Mostly Cloudy</td>\n",
       "    </tr>\n",
       "    <tr>\n",
       "      <th>4</th>\n",
       "      <td>MD</td>\n",
       "      <td>Salisbury</td>\n",
       "      <td>YELLOW</td>\n",
       "      <td>Oval</td>\n",
       "      <td>24</td>\n",
       "      <td>11</td>\n",
       "      <td>1997</td>\n",
       "      <td>2</td>\n",
       "      <td>900.0</td>\n",
       "      <td>-0.189379</td>\n",
       "      <td>...</td>\n",
       "      <td>-0.464073</td>\n",
       "      <td>0</td>\n",
       "      <td>0</td>\n",
       "      <td>NaN</td>\n",
       "      <td>-0.911239</td>\n",
       "      <td>0</td>\n",
       "      <td>0.980525</td>\n",
       "      <td>0</td>\n",
       "      <td>NaN</td>\n",
       "      <td>Mostly Cloudy</td>\n",
       "    </tr>\n",
       "  </tbody>\n",
       "</table>\n",
       "<p>5 rows × 27 columns</p>\n",
       "</div>"
      ],
      "text/plain": [
       "  state       city  colour      shape  mday  month  year  hour  duration  \\\n",
       "0    WA    Olympia     NaN  Formation    14     11  1997    21    2700.0   \n",
       "1    WA    Olympia     NaN   Fireball    14     11  1997    21    7200.0   \n",
       "2    WA    Olympia     NaN  Formation    14     11  1997    21      20.0   \n",
       "3    MD  Salisbury     NaN       Oval    24     11  1997     2      20.0   \n",
       "4    MD  Salisbury  YELLOW       Oval    24     11  1997     2     900.0   \n",
       "\n",
       "   pressure      ...        dewpoint  thunder  fog  precip  wingspeed  \\\n",
       "0 -0.163149      ...       -0.867472        0    0     NaN  -0.357641   \n",
       "1 -0.163149      ...       -0.867472        0    0     NaN  -0.357641   \n",
       "2 -0.163149      ...       -0.867472        0    0     NaN  -0.357641   \n",
       "3 -0.189379      ...       -0.464073        0    0     NaN  -0.911239   \n",
       "4 -0.189379      ...       -0.464073        0    0     NaN  -0.911239   \n",
       "\n",
       "   tornado       hum  snow  wgust      condition  \n",
       "0        0  1.598872     0    NaN          Clear  \n",
       "1        0  1.598872     0    NaN          Clear  \n",
       "2        0  1.598872     0    NaN          Clear  \n",
       "3        0  0.980525     0    NaN  Mostly Cloudy  \n",
       "4        0  0.980525     0    NaN  Mostly Cloudy  \n",
       "\n",
       "[5 rows x 27 columns]"
      ]
     },
     "execution_count": 3,
     "metadata": {},
     "output_type": "execute_result"
    }
   ],
   "source": [
    "#rename 'duration (seconds)' columns\n",
    "ufo = ufo.rename(columns={'duration (seconds)': 'duration'})\n",
    "ufo.head()"
   ]
  },
  {
   "cell_type": "code",
   "execution_count": 4,
   "metadata": {},
   "outputs": [
    {
     "data": {
      "text/plain": [
       "(51870, 27)"
      ]
     },
     "execution_count": 4,
     "metadata": {},
     "output_type": "execute_result"
    }
   ],
   "source": [
    "#check how many rows in the data\n",
    "ufo.shape"
   ]
  },
  {
   "cell_type": "code",
   "execution_count": 5,
   "metadata": {},
   "outputs": [
    {
     "data": {
      "text/plain": [
       "state             0\n",
       "city              0\n",
       "colour        51790\n",
       "shape             2\n",
       "mday              0\n",
       "month             0\n",
       "year              0\n",
       "hour              0\n",
       "duration          1\n",
       "pressure        211\n",
       "temp            326\n",
       "hail              0\n",
       "heatindex     48281\n",
       "windchill     43152\n",
       "rain              0\n",
       "visibility      700\n",
       "winddire          7\n",
       "dewpoint        477\n",
       "thunder           0\n",
       "fog               0\n",
       "precip        49859\n",
       "wingspeed       347\n",
       "tornado           0\n",
       "hum             478\n",
       "snow              0\n",
       "wgust         48596\n",
       "condition         7\n",
       "dtype: int64"
      ]
     },
     "execution_count": 5,
     "metadata": {},
     "output_type": "execute_result"
    }
   ],
   "source": [
    "#check how many null values of every columns\n",
    "ufo.isnull().sum(axis = 0)"
   ]
  },
  {
   "cell_type": "code",
   "execution_count": 6,
   "metadata": {},
   "outputs": [
    {
     "data": {
      "text/html": [
       "<div>\n",
       "<style scoped>\n",
       "    .dataframe tbody tr th:only-of-type {\n",
       "        vertical-align: middle;\n",
       "    }\n",
       "\n",
       "    .dataframe tbody tr th {\n",
       "        vertical-align: top;\n",
       "    }\n",
       "\n",
       "    .dataframe thead th {\n",
       "        text-align: right;\n",
       "    }\n",
       "</style>\n",
       "<table border=\"1\" class=\"dataframe\">\n",
       "  <thead>\n",
       "    <tr style=\"text-align: right;\">\n",
       "      <th></th>\n",
       "      <th>state</th>\n",
       "      <th>city</th>\n",
       "      <th>shape</th>\n",
       "      <th>mday</th>\n",
       "      <th>month</th>\n",
       "      <th>year</th>\n",
       "      <th>hour</th>\n",
       "      <th>duration</th>\n",
       "      <th>pressure</th>\n",
       "      <th>temp</th>\n",
       "      <th>...</th>\n",
       "      <th>visibility</th>\n",
       "      <th>winddire</th>\n",
       "      <th>dewpoint</th>\n",
       "      <th>thunder</th>\n",
       "      <th>fog</th>\n",
       "      <th>wingspeed</th>\n",
       "      <th>tornado</th>\n",
       "      <th>hum</th>\n",
       "      <th>snow</th>\n",
       "      <th>condition</th>\n",
       "    </tr>\n",
       "  </thead>\n",
       "  <tbody>\n",
       "    <tr>\n",
       "      <th>0</th>\n",
       "      <td>WA</td>\n",
       "      <td>Olympia</td>\n",
       "      <td>Formation</td>\n",
       "      <td>14</td>\n",
       "      <td>11</td>\n",
       "      <td>1997</td>\n",
       "      <td>21</td>\n",
       "      <td>2700.0</td>\n",
       "      <td>-0.163149</td>\n",
       "      <td>-1.618531</td>\n",
       "      <td>...</td>\n",
       "      <td>-2.461666</td>\n",
       "      <td>South</td>\n",
       "      <td>-0.867472</td>\n",
       "      <td>0</td>\n",
       "      <td>0</td>\n",
       "      <td>-0.357641</td>\n",
       "      <td>0</td>\n",
       "      <td>1.598872</td>\n",
       "      <td>0</td>\n",
       "      <td>Clear</td>\n",
       "    </tr>\n",
       "    <tr>\n",
       "      <th>1</th>\n",
       "      <td>WA</td>\n",
       "      <td>Olympia</td>\n",
       "      <td>Fireball</td>\n",
       "      <td>14</td>\n",
       "      <td>11</td>\n",
       "      <td>1997</td>\n",
       "      <td>21</td>\n",
       "      <td>7200.0</td>\n",
       "      <td>-0.163149</td>\n",
       "      <td>-1.618531</td>\n",
       "      <td>...</td>\n",
       "      <td>-2.461666</td>\n",
       "      <td>South</td>\n",
       "      <td>-0.867472</td>\n",
       "      <td>0</td>\n",
       "      <td>0</td>\n",
       "      <td>-0.357641</td>\n",
       "      <td>0</td>\n",
       "      <td>1.598872</td>\n",
       "      <td>0</td>\n",
       "      <td>Clear</td>\n",
       "    </tr>\n",
       "    <tr>\n",
       "      <th>2</th>\n",
       "      <td>WA</td>\n",
       "      <td>Olympia</td>\n",
       "      <td>Formation</td>\n",
       "      <td>14</td>\n",
       "      <td>11</td>\n",
       "      <td>1997</td>\n",
       "      <td>21</td>\n",
       "      <td>20.0</td>\n",
       "      <td>-0.163149</td>\n",
       "      <td>-1.618531</td>\n",
       "      <td>...</td>\n",
       "      <td>-2.461666</td>\n",
       "      <td>South</td>\n",
       "      <td>-0.867472</td>\n",
       "      <td>0</td>\n",
       "      <td>0</td>\n",
       "      <td>-0.357641</td>\n",
       "      <td>0</td>\n",
       "      <td>1.598872</td>\n",
       "      <td>0</td>\n",
       "      <td>Clear</td>\n",
       "    </tr>\n",
       "    <tr>\n",
       "      <th>3</th>\n",
       "      <td>MD</td>\n",
       "      <td>Salisbury</td>\n",
       "      <td>Oval</td>\n",
       "      <td>24</td>\n",
       "      <td>11</td>\n",
       "      <td>1997</td>\n",
       "      <td>2</td>\n",
       "      <td>20.0</td>\n",
       "      <td>-0.189379</td>\n",
       "      <td>-1.005539</td>\n",
       "      <td>...</td>\n",
       "      <td>-0.493176</td>\n",
       "      <td>North</td>\n",
       "      <td>-0.464073</td>\n",
       "      <td>0</td>\n",
       "      <td>0</td>\n",
       "      <td>-0.911239</td>\n",
       "      <td>0</td>\n",
       "      <td>0.980525</td>\n",
       "      <td>0</td>\n",
       "      <td>Mostly Cloudy</td>\n",
       "    </tr>\n",
       "    <tr>\n",
       "      <th>4</th>\n",
       "      <td>MD</td>\n",
       "      <td>Salisbury</td>\n",
       "      <td>Oval</td>\n",
       "      <td>24</td>\n",
       "      <td>11</td>\n",
       "      <td>1997</td>\n",
       "      <td>2</td>\n",
       "      <td>900.0</td>\n",
       "      <td>-0.189379</td>\n",
       "      <td>-1.005539</td>\n",
       "      <td>...</td>\n",
       "      <td>-0.493176</td>\n",
       "      <td>North</td>\n",
       "      <td>-0.464073</td>\n",
       "      <td>0</td>\n",
       "      <td>0</td>\n",
       "      <td>-0.911239</td>\n",
       "      <td>0</td>\n",
       "      <td>0.980525</td>\n",
       "      <td>0</td>\n",
       "      <td>Mostly Cloudy</td>\n",
       "    </tr>\n",
       "  </tbody>\n",
       "</table>\n",
       "<p>5 rows × 22 columns</p>\n",
       "</div>"
      ],
      "text/plain": [
       "  state       city      shape  mday  month  year  hour  duration  pressure  \\\n",
       "0    WA    Olympia  Formation    14     11  1997    21    2700.0 -0.163149   \n",
       "1    WA    Olympia   Fireball    14     11  1997    21    7200.0 -0.163149   \n",
       "2    WA    Olympia  Formation    14     11  1997    21      20.0 -0.163149   \n",
       "3    MD  Salisbury       Oval    24     11  1997     2      20.0 -0.189379   \n",
       "4    MD  Salisbury       Oval    24     11  1997     2     900.0 -0.189379   \n",
       "\n",
       "       temp      ...        visibility  winddire  dewpoint thunder  fog  \\\n",
       "0 -1.618531      ...         -2.461666     South -0.867472       0    0   \n",
       "1 -1.618531      ...         -2.461666     South -0.867472       0    0   \n",
       "2 -1.618531      ...         -2.461666     South -0.867472       0    0   \n",
       "3 -1.005539      ...         -0.493176     North -0.464073       0    0   \n",
       "4 -1.005539      ...         -0.493176     North -0.464073       0    0   \n",
       "\n",
       "   wingspeed  tornado       hum  snow      condition  \n",
       "0  -0.357641        0  1.598872     0          Clear  \n",
       "1  -0.357641        0  1.598872     0          Clear  \n",
       "2  -0.357641        0  1.598872     0          Clear  \n",
       "3  -0.911239        0  0.980525     0  Mostly Cloudy  \n",
       "4  -0.911239        0  0.980525     0  Mostly Cloudy  \n",
       "\n",
       "[5 rows x 22 columns]"
      ]
     },
     "execution_count": 6,
     "metadata": {},
     "output_type": "execute_result"
    }
   ],
   "source": [
    "#drop the columns that have 80% or above null values\n",
    "ufo = ufo.drop(columns=['colour','heatindex','heatindex','windchill','precip','wgust'],axis=1)\n",
    "ufo.head()"
   ]
  },
  {
   "cell_type": "code",
   "execution_count": 7,
   "metadata": {},
   "outputs": [
    {
     "data": {
      "text/plain": [
       "state         0\n",
       "city          0\n",
       "shape         0\n",
       "mday          0\n",
       "month         0\n",
       "year          0\n",
       "hour          0\n",
       "duration      0\n",
       "pressure      0\n",
       "temp          0\n",
       "hail          0\n",
       "rain          0\n",
       "visibility    0\n",
       "winddire      0\n",
       "dewpoint      0\n",
       "thunder       0\n",
       "fog           0\n",
       "wingspeed     0\n",
       "tornado       0\n",
       "hum           0\n",
       "snow          0\n",
       "condition     0\n",
       "dtype: int64"
      ]
     },
     "execution_count": 7,
     "metadata": {},
     "output_type": "execute_result"
    }
   ],
   "source": [
    "#drop the null value in 'duration' ,'shape','winddire','condition' columns\n",
    "ufo = ufo.dropna(subset=['duration','pressure','temp','visibility','dewpoint','wingspeed','winddire','hum','shape','condition'])\n",
    "ufo.isnull().sum()"
   ]
  },
  {
   "cell_type": "code",
   "execution_count": 8,
   "metadata": {},
   "outputs": [],
   "source": [
    "#in the 'duration' column, the '0' rows are also null values\n",
    "ufo = ufo[ufo['duration'] != 0]"
   ]
  },
  {
   "cell_type": "code",
   "execution_count": 9,
   "metadata": {},
   "outputs": [],
   "source": [
    "import requests\n",
    "import json"
   ]
  },
  {
   "cell_type": "code",
   "execution_count": 10,
   "metadata": {},
   "outputs": [],
   "source": [
    "API_KEY = 'ce571b74b167ec66426ce321af16cc781191a5cc'\n",
    "url = 'https://api.census.gov/data/2018/pep/population?get=DENSITY,POP,GEONAME&for=state:*&key=' + API_KEY\n",
    "r = requests.get(url)\n",
    "r_json = r.json()"
   ]
  },
  {
   "cell_type": "code",
   "execution_count": 11,
   "metadata": {},
   "outputs": [],
   "source": [
    "#convert the jason data into DataFrame\n",
    "population = pd.DataFrame(r_json[1:], columns = r_json[0])"
   ]
  },
  {
   "cell_type": "code",
   "execution_count": 12,
   "metadata": {},
   "outputs": [],
   "source": [
    "state = {\n",
    "    'Alabama': 'AL',\n",
    "    'Alaska': 'AK',\n",
    "    'Arizona': 'AZ',\n",
    "    'Arkansas': 'AR',\n",
    "    'California': 'CA',\n",
    "    'Colorado': 'CO',\n",
    "    'Connecticut': 'CT',\n",
    "    'Delaware': 'DE',\n",
    "    'Florida': 'FL',\n",
    "    'Georgia': 'GA',\n",
    "    'Hawaii': 'HI',\n",
    "    'Idaho': 'ID',\n",
    "    'Illinois': 'IL',\n",
    "    'Indiana': 'IN',\n",
    "    'Iowa': 'IA',\n",
    "    'Kansas': 'KS',\n",
    "    'Kentucky': 'KY',\n",
    "    'Louisiana': 'LA',\n",
    "    'Maine': 'ME',\n",
    "    'Maryland': 'MD',\n",
    "    'Massachusetts': 'MA',\n",
    "    'Michigan': 'MI',\n",
    "    'Minnesota': 'MN',\n",
    "    'Mississippi': 'MS',\n",
    "    'Missouri': 'MO',\n",
    "    'Montana': 'MT',\n",
    "    'Nebraska': 'NE',\n",
    "    'Nevada': 'NV',\n",
    "    'New Hampshire': 'NH',\n",
    "    'New Jersey': 'NJ',\n",
    "    'New Mexico': 'NM',\n",
    "    'New York': 'NY',\n",
    "    'North Carolina': 'NC',\n",
    "    'North Dakota': 'ND',\n",
    "    'Ohio': 'OH',\n",
    "    'Oklahoma': 'OK',\n",
    "    'Oregon': 'OR',\n",
    "    'Pennsylvania': 'PA',\n",
    "    'Rhode Island': 'RI',\n",
    "    'South Carolina': 'SC',\n",
    "    'South Dakota': 'SD',\n",
    "    'Tennessee': 'TN',\n",
    "    'Texas': 'TX',\n",
    "    'Utah': 'UT',\n",
    "    'Vermont': 'VT',\n",
    "    'Virginia': 'VA',\n",
    "    'Washington': 'WA',\n",
    "    'West Virginia': 'WV',\n",
    "    'Wisconsin': 'WI',\n",
    "    'Wyoming': 'WY',\n",
    "}"
   ]
  },
  {
   "cell_type": "code",
   "execution_count": 13,
   "metadata": {},
   "outputs": [],
   "source": [
    "population['state']= population['GEONAME'].map(state)"
   ]
  },
  {
   "cell_type": "code",
   "execution_count": 14,
   "metadata": {},
   "outputs": [
    {
     "name": "stdout",
     "output_type": "stream",
     "text": [
      "  state       city      shape  mday  month  year  hour  duration  pressure  \\\n",
      "0    WA    Olympia  Formation    14     11  1997    21    2700.0 -0.163149   \n",
      "1    WA    Olympia   Fireball    14     11  1997    21    7200.0 -0.163149   \n",
      "2    WA    Olympia  Formation    14     11  1997    21      20.0 -0.163149   \n",
      "3    MD  Salisbury       Oval    24     11  1997     2      20.0 -0.189379   \n",
      "4    MD  Salisbury       Oval    24     11  1997     2     900.0 -0.189379   \n",
      "\n",
      "       temp   ...     dewpoint  thunder  fog wingspeed  tornado       hum  \\\n",
      "0 -1.618531   ...    -0.867472        0    0 -0.357641        0  1.598872   \n",
      "1 -1.618531   ...    -0.867472        0    0 -0.357641        0  1.598872   \n",
      "2 -1.618531   ...    -0.867472        0    0 -0.357641        0  1.598872   \n",
      "3 -1.005539   ...    -0.464073        0    0 -0.911239        0  0.980525   \n",
      "4 -1.005539   ...    -0.464073        0    0 -0.911239        0  0.980525   \n",
      "\n",
      "   snow      condition       DENSITY      POP  \n",
      "0     0          Clear  113.39722716  7535591  \n",
      "1     0          Clear  113.39722716  7535591  \n",
      "2     0          Clear  113.39722716  7535591  \n",
      "3     0  Mostly Cloudy  622.26172745  6042718  \n",
      "4     0  Mostly Cloudy  622.26172745  6042718  \n",
      "\n",
      "[5 rows x 24 columns]\n"
     ]
    }
   ],
   "source": [
    "#merge the density and population data into ufo\n",
    "ufo_new = pd.merge(ufo, population[['DENSITY','POP','state']],on='state', how = 'left')\n",
    "print(ufo_new.head())"
   ]
  },
  {
   "cell_type": "code",
   "execution_count": 15,
   "metadata": {},
   "outputs": [],
   "source": [
    "#check if there are null values in 'DENSITY'and 'POP' coulumns\n",
    "ufo_new[['DENSITY','POP']].isnull().sum(axis = 0)\n",
    "ufo_new['POP'] = ufo_new['POP'].astype('float64')\n",
    "ufo_new['DENSITY'] = ufo_new['DENSITY'].astype('float64')"
   ]
  },
  {
   "cell_type": "code",
   "execution_count": 16,
   "metadata": {},
   "outputs": [
    {
     "name": "stdout",
     "output_type": "stream",
     "text": [
      "  state       city      shape  mday  month  year  hour  duration  pressure  \\\n",
      "0    WA    Olympia  Formation    14     11  1997    21    2700.0 -0.163149   \n",
      "1    WA    Olympia   Fireball    14     11  1997    21    7200.0 -0.163149   \n",
      "2    WA    Olympia  Formation    14     11  1997    21      20.0 -0.163149   \n",
      "3    MD  Salisbury       Oval    24     11  1997     2      20.0 -0.189379   \n",
      "4    MD  Salisbury       Oval    24     11  1997     2     900.0 -0.189379   \n",
      "\n",
      "       temp    ...      dewpoint  thunder  fog wingspeed  tornado       hum  \\\n",
      "0 -1.618531    ...     -0.867472        0    0 -0.357641        0  1.598872   \n",
      "1 -1.618531    ...     -0.867472        0    0 -0.357641        0  1.598872   \n",
      "2 -1.618531    ...     -0.867472        0    0 -0.357641        0  1.598872   \n",
      "3 -1.005539    ...     -0.464073        0    0 -0.911239        0  0.980525   \n",
      "4 -1.005539    ...     -0.464073        0    0 -0.911239        0  0.980525   \n",
      "\n",
      "   snow      condition     density        pop  \n",
      "0     0          Clear  113.397227  7535591.0  \n",
      "1     0          Clear  113.397227  7535591.0  \n",
      "2     0          Clear  113.397227  7535591.0  \n",
      "3     0  Mostly Cloudy  622.261727  6042718.0  \n",
      "4     0  Mostly Cloudy  622.261727  6042718.0  \n",
      "\n",
      "[5 rows x 24 columns]\n"
     ]
    },
    {
     "data": {
      "text/plain": [
       "(46356, 24)"
      ]
     },
     "execution_count": 16,
     "metadata": {},
     "output_type": "execute_result"
    }
   ],
   "source": [
    "#drop the null values row in 'DENSITY'and 'POP' coulumns\n",
    "ufo_final = ufo_new.dropna(subset=['DENSITY','POP'])\n",
    "ufo_final.columns = ufo_final.columns.str.lower()\n",
    "print(ufo_final.head())\n",
    "ufo_final.shape"
   ]
  },
  {
   "cell_type": "markdown",
   "metadata": {},
   "source": [
    "# Part 2 Data Story Telling"
   ]
  },
  {
   "cell_type": "code",
   "execution_count": 20,
   "metadata": {},
   "outputs": [],
   "source": [
    "import numpy as np\n",
    "import matplotlib.pyplot as plt\n",
    "import seaborn as sns"
   ]
  },
  {
   "cell_type": "code",
   "execution_count": 18,
   "metadata": {},
   "outputs": [
    {
     "data": {
      "image/png": "[encoded data removed]",
      "text/plain": [
       "<matplotlib.figure.Figure at 0x2519814cb00>"
      ]
     },
     "metadata": {},
     "output_type": "display_data"
    }
   ],
   "source": [
    "#plot the trend of ufo sighting every years\n",
    "ufo_peryear = ufo_final.groupby('year').year.count()\n",
    "year = ufo_final['year'].unique()\n",
    "plt.figure(figsize=(20,10))\n",
    "plt.xticks(year)\n",
    "plt.title('UFO Sightings per Year')\n",
    "plt.xlabel('Year')\n",
    "plt.ylabel('Number of Sightings')\n",
    "plt.plot(ufo_peryear)\n",
    "plt.show()"
   ]
  },
  {
   "cell_type": "markdown",
   "metadata": {},
   "source": [
    "From the plot we can see the unmber of UFO sighting has an upward trend from 1997 till 2014. 2014 was the year recorded sighting the most UFOs. The number of UFO sighting started decreasing after 2014."
   ]
  },
  {
   "cell_type": "code",
   "execution_count": 19,
   "metadata": {},
   "outputs": [
    {
     "data": {
      "image/png": "[encoded data removed]",
      "text/plain": [
       "<matplotlib.figure.Figure at 0x25198325c50>"
      ]
     },
     "metadata": {},
     "output_type": "display_data"
    }
   ],
   "source": [
    "#plot to see which months sighted ufo\n",
    "plt.figure(figsize=(20,10))\n",
    "mc = ufo_final['month'].value_counts().sort_index()\n",
    "mci = mc.index\n",
    "mcy = mc.get_values()\n",
    "sns.barplot(x=mci, y=mcy)\n",
    "plt.xlabel('Month')\n",
    "plt.ylabel(\"Frequency\")\n",
    "plt.title(\"Sightings - Month\")\n",
    "plt.show()"
   ]
  },
  {
   "cell_type": "markdown",
   "metadata": {},
   "source": [
    "From the plot we can see Summer and Fall have higher frequency of UFO sighting."
   ]
  },
  {
   "cell_type": "code",
   "execution_count": 20,
   "metadata": {},
   "outputs": [
    {
     "data": {
      "image/png": "[encoded data removed]",
      "text/plain": [
       "<matplotlib.figure.Figure at 0x251981d8a20>"
      ]
     },
     "metadata": {},
     "output_type": "display_data"
    }
   ],
   "source": [
    "#plot the trend of ufo sighting during a day\n",
    "ufo_perhour= ufo_final.groupby('hour').hour.count()\n",
    "year = ufo_final['hour'].unique()\n",
    "plt.figure(figsize=(20,10))\n",
    "plt.xticks(year)\n",
    "plt.title('UFO Sightings during a Day')\n",
    "plt.xlabel('Hour')\n",
    "plt.ylabel('Number of Sightings')\n",
    "plt.plot(ufo_perhour)\n",
    "plt.show()"
   ]
  },
  {
   "cell_type": "markdown",
   "metadata": {},
   "source": [
    "We can see UFO sightings mostly happened during night time from 6 pm to 12 am. The trend starts to drop down after 12 since people go to sleep."
   ]
  },
  {
   "cell_type": "code",
   "execution_count": 21,
   "metadata": {},
   "outputs": [
    {
     "data": {
      "image/png": "[encoded data removed]",
      "text/plain": [
       "<matplotlib.figure.Figure at 0x25198164a20>"
      ]
     },
     "metadata": {},
     "output_type": "display_data"
    }
   ],
   "source": [
    "#plot to see what shapes were sighted\n",
    "plt.figure(figsize=(20,10))\n",
    "plt.title('UFO Shape')\n",
    "plt.xlabel('Shape')\n",
    "plt.ylabel('Different Shape Counting')\n",
    "ufo_final['shape'].value_counts().plot('bar')\n",
    "plt.xticks(rotation=45)\n",
    "plt.show()"
   ]
  },
  {
   "cell_type": "markdown",
   "metadata": {},
   "source": [
    "From the plot we can see most of the UFOs shape is light."
   ]
  },
  {
   "cell_type": "code",
   "execution_count": 22,
   "metadata": {},
   "outputs": [
    {
     "data": {
      "image/png": "[encoded data removed]",
      "text/plain": [
       "<Figure size 1440x720 with 1 Axes>"
      ]
     },
     "metadata": {
      "needs_background": "light"
     },
     "output_type": "display_data"
    }
   ],
   "source": [
    "#how long did the sighting last \n",
    "plt.figure(figsize=(20,10))\n",
    "duration = [i for i in ufo_final['duration'].value_counts()]\n",
    "duration_list = []\n",
    "for i in duration:\n",
    "    if i in range(0,16):\n",
    "        duration_list.append(\"0-15\")\n",
    "    if i in range(15,31):\n",
    "        duration_list.append(\"15-30\")\n",
    "    if i in range(31,61):\n",
    "        duration_list.append(\"30-60\")\n",
    "    if i in range(60,121):\n",
    "        duration_list.append(\"60-120\")\n",
    "    if i in range(120,241):\n",
    "        duration_list.append(\"120-240\")\n",
    "    if i > 240:\n",
    "        duration_list.append(\">240\")\n",
    "duration_list = pd.Series(duration_list)\n",
    "di = duration_list.value_counts().index\n",
    "dv = duration_list.value_counts().get_values()\n",
    "sns.barplot(di,dv)\n",
    "plt.title('Duration')\n",
    "plt.xlabel('Seconds')\n",
    "plt.ylabel('Rates')\n",
    "plt.show()"
   ]
  },
  {
   "cell_type": "markdown",
   "metadata": {},
   "source": [
    "From the plot we can see most of the UFOs only last for 0-15 minitunes."
   ]
  },
  {
   "cell_type": "code",
   "execution_count": 22,
   "metadata": {},
   "outputs": [
    {
     "data": {
      "text/html": [
       "        <script type=\"text/javascript\">\n",
       "        window.PlotlyConfig = {MathJaxConfig: 'local'};\n",
       "        if (window.MathJax) {MathJax.Hub.Config({SVG: {font: \"STIX-Web\"}});}\n",
       "        if (typeof require !== 'undefined') {\n",
       "        require.undef(\"plotly\");\n",
       "        requirejs.config({\n",
       "            paths: {\n",
       "                'plotly': ['https://cdn.plot.ly/plotly-latest.min']\n",
       "            }\n",
       "        });\n",
       "        require(['plotly'], function(Plotly) {\n",
       "            window._Plotly = Plotly;\n",
       "        });\n",
       "        }\n",
       "        </script>\n",
       "        "
      ]
     },
     "metadata": {},
     "output_type": "display_data"
    },
    {
     "data": {
      "application/vnd.plotly.v1+json": {
       "config": {
        "linkText": "Export to plot.ly",
        "plotlyServerURL": "https://plot.ly",
        "showLink": false
       },
       "data": [
        {
         "colorbar": {
          "title": {
           "text": "Sighting rates by states"
          }
         },
         "locationmode": "USA-states",
         "locations": [
          "CA",
          "FL",
          "WA",
          "NY",
          "TX",
          "PA",
          "IL",
          "OH",
          "AZ",
          "NC",
          "MI",
          "OR",
          "VA",
          "CO",
          "NJ",
          "MO",
          "MA",
          "GA",
          "WI",
          "IN",
          "SC",
          "TN",
          "MN",
          "CT",
          "KY",
          "MD",
          "NV",
          "IA",
          "NM",
          "OK",
          "ID",
          "AL",
          "UT",
          "NH",
          "ME",
          "LA",
          "KS",
          "AR",
          "MT",
          "WV",
          "MS",
          "NE",
          "AK",
          "HI",
          "VT",
          "RI",
          "DE",
          "WY",
          "SD",
          "ND"
         ],
         "marker": {
          "line": {
           "color": "rgb(255,255,255)",
           "width": 2
          }
         },
         "text": "times",
         "type": "choropleth",
         "uid": "5b72820a-f94e-423b-9c20-a360388c98f8",
         "z": [
          5799,
          3016,
          2625,
          2158,
          2158,
          1854,
          1653,
          1593,
          1573,
          1441,
          1401,
          1301,
          1004,
          986,
          968,
          966,
          955,
          916,
          909,
          895,
          876,
          816,
          653,
          649,
          607,
          543,
          541,
          520,
          494,
          490,
          452,
          449,
          446,
          433,
          424,
          422,
          422,
          360,
          327,
          324,
          284,
          257,
          241,
          226,
          222,
          215,
          156,
          126,
          120,
          90
         ]
        }
       ],
       "layout": {
        "geo": {
         "lakecolor": "rgb(255, 255, 255)",
         "projection": {
          "type": "albers usa"
         },
         "scope": "usa",
         "showlakes": true
        },
        "title": {
         "text": "UFO Sighting Rates in USA"
        }
       }
      },
      "text/html": [
       "<div>\n",
       "        \n",
       "        \n",
       "            <div id=\"d45e8250-37df-41bc-afb3-3981878fe122\" class=\"plotly-graph-div\" style=\"height:525px; width:100%;\"></div>\n",
       "            <script type=\"text/javascript\">\n",
       "                require([\"plotly\"], function(Plotly) {\n",
       "                    window.PLOTLYENV=window.PLOTLYENV || {};\n",
       "                    window.PLOTLYENV.BASE_URL='https://plot.ly';\n",
       "                    \n",
       "                if (document.getElementById(\"d45e8250-37df-41bc-afb3-3981878fe122\")) {\n",
       "                    Plotly.newPlot(\n",
       "                        'd45e8250-37df-41bc-afb3-3981878fe122',\n",
       "                        [{\"colorbar\": {\"title\": {\"text\": \"Sighting rates by states\"}}, \"locationmode\": \"USA-states\", \"locations\": [\"CA\", \"FL\", \"WA\", \"NY\", \"TX\", \"PA\", \"IL\", \"OH\", \"AZ\", \"NC\", \"MI\", \"OR\", \"VA\", \"CO\", \"NJ\", \"MO\", \"MA\", \"GA\", \"WI\", \"IN\", \"SC\", \"TN\", \"MN\", \"CT\", \"KY\", \"MD\", \"NV\", \"IA\", \"NM\", \"OK\", \"ID\", \"AL\", \"UT\", \"NH\", \"ME\", \"LA\", \"KS\", \"AR\", \"MT\", \"WV\", \"MS\", \"NE\", \"AK\", \"HI\", \"VT\", \"RI\", \"DE\", \"WY\", \"SD\", \"ND\"], \"marker\": {\"line\": {\"color\": \"rgb(255,255,255)\", \"width\": 2}}, \"text\": \"times\", \"type\": \"choropleth\", \"uid\": \"5b72820a-f94e-423b-9c20-a360388c98f8\", \"z\": [5799, 3016, 2625, 2158, 2158, 1854, 1653, 1593, 1573, 1441, 1401, 1301, 1004, 986, 968, 966, 955, 916, 909, 895, 876, 816, 653, 649, 607, 543, 541, 520, 494, 490, 452, 449, 446, 433, 424, 422, 422, 360, 327, 324, 284, 257, 241, 226, 222, 215, 156, 126, 120, 90]}],\n",
       "                        {\"geo\": {\"lakecolor\": \"rgb(255, 255, 255)\", \"projection\": {\"type\": \"albers usa\"}, \"scope\": \"usa\", \"showlakes\": true}, \"title\": {\"text\": \"UFO Sighting Rates in USA\"}},\n",
       "                        {\"showLink\": false, \"linkText\": \"Export to plot.ly\", \"plotlyServerURL\": \"https://plot.ly\", \"responsive\": true}\n",
       "                    ).then(function(){\n",
       "                            \n",
       "var gd = document.getElementById('d45e8250-37df-41bc-afb3-3981878fe122');\n",
       "var x = new MutationObserver(function (mutations, observer) {{\n",
       "        var display = window.getComputedStyle(gd).display;\n",
       "        if (!display || display === 'none') {{\n",
       "            console.log([gd, 'removed!']);\n",
       "            Plotly.purge(gd);\n",
       "            observer.disconnect();\n",
       "        }}\n",
       "}});\n",
       "\n",
       "// Listen for the removal of the full notebook cells\n",
       "var notebookContainer = gd.closest('#notebook-container');\n",
       "if (notebookContainer) {{\n",
       "    x.observe(notebookContainer, {childList: true});\n",
       "}}\n",
       "\n",
       "// Listen for the clearing of the current output cell\n",
       "var outputEl = gd.closest('.output');\n",
       "if (outputEl) {{\n",
       "    x.observe(outputEl, {childList: true});\n",
       "}}\n",
       "\n",
       "                        })\n",
       "                };\n",
       "                });\n",
       "            </script>\n",
       "        </div>"
      ]
     },
     "metadata": {},
     "output_type": "display_data"
    }
   ],
   "source": [
    "#which States sighted the most UFO\n",
    "import plotly.offline as py\n",
    "import plotly.graph_objs as go\n",
    "from plotly.offline import init_notebook_mode\n",
    "init_notebook_mode(connected=True) \n",
    "states_us = ufo_final['state'].value_counts().index\n",
    "states_ratio = ufo_final['state'].value_counts().values\n",
    "data = [\n",
    "        dict(\n",
    "        type='choropleth',\n",
    "        locations = states_us,\n",
    "        z = states_ratio,\n",
    "        locationmode = 'USA-states',\n",
    "        text = 'times',\n",
    "        marker = dict(\n",
    "            line = dict (\n",
    "                color = 'rgb(255,255,255)',\n",
    "                width = 2\n",
    "            ) ),\n",
    "        colorbar = dict(\n",
    "            title = 'Sighting rates by states')\n",
    "        )\n",
    "        ]\n",
    "\n",
    "layout = dict(\n",
    "        title = 'UFO Sighting Rates in USA',\n",
    "        geo = dict(\n",
    "            scope='usa',\n",
    "            projection=dict( type='albers usa' ),\n",
    "            showlakes = True,\n",
    "            lakecolor = 'rgb(255, 255, 255)'),\n",
    "              )\n",
    "fig = go.Figure(data=data, layout=layout)\n",
    "py.iplot(fig)"
   ]
  },
  {
   "cell_type": "markdown",
   "metadata": {},
   "source": [
    "Most of the UFO sightings happened in California, the second highest UFO sightings occur in Florida."
   ]
  },
  {
   "cell_type": "code",
   "execution_count": 24,
   "metadata": {},
   "outputs": [
    {
     "data": {
      "image/png": "[encoded data removed]",
      "text/plain": [
       "<Figure size 1440x720 with 1 Axes>"
      ]
     },
     "metadata": {
      "needs_background": "light"
     },
     "output_type": "display_data"
    }
   ],
   "source": [
    "#see wether there is correlation between populations and the sighting rates\n",
    "states_us = np.array(states_us)\n",
    "states_ufo = {'state' : states_us, 'times': states_ratio}\n",
    "states_ufo = pd.DataFrame(states_ufo)\n",
    "states_ufo = pd.merge(states_ufo, population[['DENSITY','POP','state']],on='state', how = 'left')\n",
    "states_ufo['DENSITY'] = pd.to_numeric(states_ufo['DENSITY'])\n",
    "states_ufo['POP'] = pd.to_numeric(states_ufo['POP'])\n",
    "plt.figure(figsize=(20,10))\n",
    "plt.scatter(states_ufo['POP'], states_ufo['times'])\n",
    "plt.title('Population vs. Rates')\n",
    "plt.xlabel('Population')\n",
    "plt.ylabel('Rates')\n",
    "plt.show()"
   ]
  },
  {
   "cell_type": "code",
   "execution_count": 69,
   "metadata": {},
   "outputs": [
    {
     "data": {
      "image/png": "[encoded data removed]",
      "text/plain": [
       "<Figure size 1440x720 with 1 Axes>"
      ]
     },
     "metadata": {
      "needs_background": "light"
     },
     "output_type": "display_data"
    }
   ],
   "source": [
    "#see wether there is correlation between populations density and the sighting rates\n",
    "plt.figure(figsize=(20,10))\n",
    "plt.scatter(states_ufo['DENSITY'], states_ufo['times'])\n",
    "plt.title('Population Density vs. Rates')\n",
    "plt.xlabel('Density')\n",
    "plt.ylabel('Rates')\n",
    "plt.show()"
   ]
  },
  {
   "cell_type": "markdown",
   "metadata": {},
   "source": [
    "On the other hand, correlation relationship between populations density and the sighting rates is not that strong. There are a couples of outliers."
   ]
  },
  {
   "cell_type": "code",
   "execution_count": 25,
   "metadata": {},
   "outputs": [
    {
     "data": {
      "image/png": "[encoded data removed]",
      "text/plain": [
       "<Figure size 1440x720 with 1 Axes>"
      ]
     },
     "metadata": {
      "needs_background": "light"
     },
     "output_type": "display_data"
    }
   ],
   "source": [
    "#what weather other than sunny would sighting happen\n",
    "plt.figure(figsize=(20,10))\n",
    "hail = len(ufo_final[ufo_final['hail']==1])\n",
    "snow = len(ufo_final[ufo_final['snow']==1])\n",
    "rain = len(ufo_final[ufo_final['rain']==1])\n",
    "thunder = len(ufo_final[ufo_final['thunder']==1])\n",
    "snow = len(ufo_final[ufo_final['snow']==1])\n",
    "fog = len(ufo_final[ufo_final['fog']==1])\n",
    "tornado = len(ufo_final[ufo_final['tornado']==1])\n",
    "wv = [hail,snow,rain,thunder,snow,fog,tornado]\n",
    "wi = ['hail','snow','rain','thunder','snow','fog','tornado']\n",
    "sns.barplot(wi,wv)\n",
    "plt.title('Weather')\n",
    "plt.xlabel('Weather')\n",
    "plt.ylabel('Rates')\n",
    "plt.show()"
   ]
  },
  {
   "cell_type": "markdown",
   "metadata": {},
   "source": [
    "Other than sunny weather, UFO sightings most occur in rainy weather. There is no UFO sighting during hail."
   ]
  },
  {
   "cell_type": "code",
   "execution_count": 26,
   "metadata": {},
   "outputs": [
    {
     "data": {
      "text/plain": [
       "<matplotlib.axes._subplots.AxesSubplot at 0x1e938c92518>"
      ]
     },
     "execution_count": 26,
     "metadata": {},
     "output_type": "execute_result"
    },
    {
     "data": {
      "image/png": "[encoded data removed]",
      "text/plain": [
       "<Figure size 1440x720 with 2 Axes>"
      ]
     },
     "metadata": {
      "needs_background": "light"
     },
     "output_type": "display_data"
    }
   ],
   "source": [
    "#does duration of sightings correlate with weather factors and populations\n",
    "d = ufo_final[['duration','pressure','temp','visibility','dewpoint','wingspeed','hum','pop','density']]\n",
    "corr = d.corr()\n",
    "mask = np.zeros_like(corr, dtype=np.bool)\n",
    "mask[np.triu_indices_from(mask)] = True\n",
    "plt.figure(figsize=(20,10))\n",
    "cmap = sns.diverging_palette(220, 10, as_cmap=True)\n",
    "sns.heatmap(corr, mask=mask, cmap=cmap, vmax=.3, center=0,square=True, linewidths=.5, cbar_kws={\"shrink\": .5})"
   ]
  },
  {
   "cell_type": "markdown",
   "metadata": {},
   "source": [
    "The plot shows that duration does not have correlation relationship with the weather factors and populations."
   ]
  },
  {
   "cell_type": "code",
   "execution_count": 27,
   "metadata": {},
   "outputs": [
    {
     "data": {
      "image/png": "[encoded data removed]",
      "text/plain": [
       "<Figure size 1440x720 with 1 Axes>"
      ]
     },
     "metadata": {
      "needs_background": "light"
     },
     "output_type": "display_data"
    }
   ],
   "source": [
    "#what is the wind direction during UFO sightings\n",
    "plt.figure(figsize=(20,10))\n",
    "plt.title('Wind Direction')\n",
    "plt.xlabel('Wind Direction')\n",
    "plt.ylabel('Rates')\n",
    "ufo_final['winddire'].value_counts().plot('bar')\n",
    "plt.xticks(rotation=45)\n",
    "plt.show()"
   ]
  },
  {
   "cell_type": "markdown",
   "metadata": {},
   "source": [
    "Most UFOs were sighted during North wind direction. "
   ]
  },
  {
   "cell_type": "code",
   "execution_count": 28,
   "metadata": {},
   "outputs": [
    {
     "data": {
      "image/png": "[encoded data removed]",
      "text/plain": [
       "<Figure size 1440x720 with 1 Axes>"
      ]
     },
     "metadata": {
      "needs_background": "light"
     },
     "output_type": "display_data"
    }
   ],
   "source": [
    "#what are the weather conditions during UFO sightings\n",
    "plt.figure(figsize=(20,10))\n",
    "plt.title('Weather Condition')\n",
    "plt.xlabel('Conditions')\n",
    "plt.ylabel('Rates')\n",
    "ufo_final['condition'].value_counts().plot('bar')\n",
    "plt.xticks(rotation=90)\n",
    "plt.show()"
   ]
  },
  {
   "cell_type": "markdown",
   "metadata": {},
   "source": [
    "We can see there is correlation between populations and the sighting rates. More population States are more likely to see UFOs."
   ]
  },
  {
   "cell_type": "markdown",
   "metadata": {},
   "source": [
    "The weather conditions during the sightings are mostly clear."
   ]
  },
  {
   "cell_type": "markdown",
   "metadata": {},
   "source": [
    "# Part 3 Apply Inferential Statistics"
   ]
  },
  {
   "cell_type": "code",
   "execution_count": 29,
   "metadata": {},
   "outputs": [],
   "source": [
    "import scipy.stats as stats"
   ]
  },
  {
   "cell_type": "markdown",
   "metadata": {},
   "source": [
    "# Is there correlation between populations and the sighting duration?"
   ]
  },
  {
   "cell_type": "markdown",
   "metadata": {},
   "source": [
    "H0: There is no correlation between populations and the sighting duration\n",
    "HA: There is correlation between populations and the sighting duration"
   ]
  },
  {
   "cell_type": "code",
   "execution_count": 30,
   "metadata": {},
   "outputs": [
    {
     "data": {
      "text/html": [
       "<div>\n",
       "<style scoped>\n",
       "    .dataframe tbody tr th:only-of-type {\n",
       "        vertical-align: middle;\n",
       "    }\n",
       "\n",
       "    .dataframe tbody tr th {\n",
       "        vertical-align: top;\n",
       "    }\n",
       "\n",
       "    .dataframe thead th {\n",
       "        text-align: right;\n",
       "    }\n",
       "</style>\n",
       "<table border=\"1\" class=\"dataframe\">\n",
       "  <thead>\n",
       "    <tr style=\"text-align: right;\">\n",
       "      <th></th>\n",
       "      <th>state</th>\n",
       "      <th>city</th>\n",
       "      <th>shape</th>\n",
       "      <th>mday</th>\n",
       "      <th>month</th>\n",
       "      <th>year</th>\n",
       "      <th>hour</th>\n",
       "      <th>duration</th>\n",
       "      <th>pressure</th>\n",
       "      <th>temp</th>\n",
       "      <th>...</th>\n",
       "      <th>fog</th>\n",
       "      <th>precip</th>\n",
       "      <th>wingspeed</th>\n",
       "      <th>tornado</th>\n",
       "      <th>hum</th>\n",
       "      <th>snow</th>\n",
       "      <th>wgust</th>\n",
       "      <th>condition</th>\n",
       "      <th>density</th>\n",
       "      <th>pop</th>\n",
       "    </tr>\n",
       "  </thead>\n",
       "  <tbody>\n",
       "    <tr>\n",
       "      <th>0</th>\n",
       "      <td>WA</td>\n",
       "      <td>Olympia</td>\n",
       "      <td>Formation</td>\n",
       "      <td>14</td>\n",
       "      <td>11</td>\n",
       "      <td>1997</td>\n",
       "      <td>21</td>\n",
       "      <td>2700.0</td>\n",
       "      <td>-0.163149</td>\n",
       "      <td>-1.618531</td>\n",
       "      <td>...</td>\n",
       "      <td>0</td>\n",
       "      <td>NaN</td>\n",
       "      <td>-0.357641</td>\n",
       "      <td>0</td>\n",
       "      <td>1.598872</td>\n",
       "      <td>0</td>\n",
       "      <td>NaN</td>\n",
       "      <td>Clear</td>\n",
       "      <td>113.397227</td>\n",
       "      <td>7535591.0</td>\n",
       "    </tr>\n",
       "    <tr>\n",
       "      <th>1</th>\n",
       "      <td>WA</td>\n",
       "      <td>Olympia</td>\n",
       "      <td>Fireball</td>\n",
       "      <td>14</td>\n",
       "      <td>11</td>\n",
       "      <td>1997</td>\n",
       "      <td>21</td>\n",
       "      <td>7200.0</td>\n",
       "      <td>-0.163149</td>\n",
       "      <td>-1.618531</td>\n",
       "      <td>...</td>\n",
       "      <td>0</td>\n",
       "      <td>NaN</td>\n",
       "      <td>-0.357641</td>\n",
       "      <td>0</td>\n",
       "      <td>1.598872</td>\n",
       "      <td>0</td>\n",
       "      <td>NaN</td>\n",
       "      <td>Clear</td>\n",
       "      <td>113.397227</td>\n",
       "      <td>7535591.0</td>\n",
       "    </tr>\n",
       "    <tr>\n",
       "      <th>2</th>\n",
       "      <td>WA</td>\n",
       "      <td>Olympia</td>\n",
       "      <td>Formation</td>\n",
       "      <td>14</td>\n",
       "      <td>11</td>\n",
       "      <td>1997</td>\n",
       "      <td>21</td>\n",
       "      <td>20.0</td>\n",
       "      <td>-0.163149</td>\n",
       "      <td>-1.618531</td>\n",
       "      <td>...</td>\n",
       "      <td>0</td>\n",
       "      <td>NaN</td>\n",
       "      <td>-0.357641</td>\n",
       "      <td>0</td>\n",
       "      <td>1.598872</td>\n",
       "      <td>0</td>\n",
       "      <td>NaN</td>\n",
       "      <td>Clear</td>\n",
       "      <td>113.397227</td>\n",
       "      <td>7535591.0</td>\n",
       "    </tr>\n",
       "    <tr>\n",
       "      <th>3</th>\n",
       "      <td>MD</td>\n",
       "      <td>Salisbury</td>\n",
       "      <td>Oval</td>\n",
       "      <td>24</td>\n",
       "      <td>11</td>\n",
       "      <td>1997</td>\n",
       "      <td>2</td>\n",
       "      <td>20.0</td>\n",
       "      <td>-0.189379</td>\n",
       "      <td>-1.005539</td>\n",
       "      <td>...</td>\n",
       "      <td>0</td>\n",
       "      <td>NaN</td>\n",
       "      <td>-0.911239</td>\n",
       "      <td>0</td>\n",
       "      <td>0.980525</td>\n",
       "      <td>0</td>\n",
       "      <td>NaN</td>\n",
       "      <td>Mostly Cloudy</td>\n",
       "      <td>622.261727</td>\n",
       "      <td>6042718.0</td>\n",
       "    </tr>\n",
       "    <tr>\n",
       "      <th>4</th>\n",
       "      <td>MD</td>\n",
       "      <td>Salisbury</td>\n",
       "      <td>Oval</td>\n",
       "      <td>24</td>\n",
       "      <td>11</td>\n",
       "      <td>1997</td>\n",
       "      <td>2</td>\n",
       "      <td>900.0</td>\n",
       "      <td>-0.189379</td>\n",
       "      <td>-1.005539</td>\n",
       "      <td>...</td>\n",
       "      <td>0</td>\n",
       "      <td>NaN</td>\n",
       "      <td>-0.911239</td>\n",
       "      <td>0</td>\n",
       "      <td>0.980525</td>\n",
       "      <td>0</td>\n",
       "      <td>NaN</td>\n",
       "      <td>Mostly Cloudy</td>\n",
       "      <td>622.261727</td>\n",
       "      <td>6042718.0</td>\n",
       "    </tr>\n",
       "  </tbody>\n",
       "</table>\n",
       "<p>5 rows × 27 columns</p>\n",
       "</div>"
      ],
      "text/plain": [
       "  state       city      shape  mday  month  year  hour  duration  pressure  \\\n",
       "0    WA    Olympia  Formation    14     11  1997    21    2700.0 -0.163149   \n",
       "1    WA    Olympia   Fireball    14     11  1997    21    7200.0 -0.163149   \n",
       "2    WA    Olympia  Formation    14     11  1997    21      20.0 -0.163149   \n",
       "3    MD  Salisbury       Oval    24     11  1997     2      20.0 -0.189379   \n",
       "4    MD  Salisbury       Oval    24     11  1997     2     900.0 -0.189379   \n",
       "\n",
       "       temp  ...  fog  precip  wingspeed  tornado       hum  snow  wgust  \\\n",
       "0 -1.618531  ...    0     NaN  -0.357641        0  1.598872     0    NaN   \n",
       "1 -1.618531  ...    0     NaN  -0.357641        0  1.598872     0    NaN   \n",
       "2 -1.618531  ...    0     NaN  -0.357641        0  1.598872     0    NaN   \n",
       "3 -1.005539  ...    0     NaN  -0.911239        0  0.980525     0    NaN   \n",
       "4 -1.005539  ...    0     NaN  -0.911239        0  0.980525     0    NaN   \n",
       "\n",
       "       condition     density        pop  \n",
       "0          Clear  113.397227  7535591.0  \n",
       "1          Clear  113.397227  7535591.0  \n",
       "2          Clear  113.397227  7535591.0  \n",
       "3  Mostly Cloudy  622.261727  6042718.0  \n",
       "4  Mostly Cloudy  622.261727  6042718.0  \n",
       "\n",
       "[5 rows x 27 columns]"
      ]
     },
     "execution_count": 30,
     "metadata": {},
     "output_type": "execute_result"
    }
   ],
   "source": [
    "df = ufo_final\n",
    "df.head()"
   ]
  },
  {
   "cell_type": "code",
   "execution_count": 31,
   "metadata": {},
   "outputs": [
    {
     "name": "stdout",
     "output_type": "stream",
     "text": [
      "BOOTSTRAP RESULTS\n",
      "Bootstrap r: \t \t -0.0039624\n",
      "|obs r - bs r| : \t 0.0\n",
      "\n",
      "Bootstrap p-value: \t 0.39357\n"
     ]
    }
   ],
   "source": [
    "hyp_r = 0\n",
    "n = len(df.duration)\n",
    "\n",
    "# Observed corr coeff\n",
    "obs_r, obs_p_value = stats.pearsonr(df['duration'],df['pop'])\n",
    "\n",
    "bs_r = np.empty(10000) \n",
    "bs_p = np.empty(10000)\n",
    "\n",
    "# generate pairs bootstrap samples\n",
    "for i in range(10000):\n",
    "   idx = np.random.choice(range(n), n)\n",
    "   bs_r[i], bs_p[i] = stats.pearsonr(df['duration'],df['pop'])\n",
    "\n",
    "bs_r_mean = np.mean(bs_r)\n",
    "bs_p_mean = np.mean(bs_p)\n",
    "\n",
    "print('BOOTSTRAP RESULTS\\nBootstrap r: \\t \\t {:0.5}\\n|obs r - bs r| : \\t {:0.5}'.format(bs_r_mean, np.abs(obs_r - bs_r_mean)))\n",
    "\n",
    "print('\\nBootstrap p-value: \\t {:0.5}'.format(bs_p_mean))"
   ]
  },
  {
   "cell_type": "markdown",
   "metadata": {},
   "source": [
    "Since the p value is greater than 0.05, we cannot reject the null hypothesis and conclude that there is no correlation between populations and the sighting duration."
   ]
  },
  {
   "cell_type": "markdown",
   "metadata": {},
   "source": [
    "# Is there correlation between populations and the sighting rates?"
   ]
  },
  {
   "cell_type": "markdown",
   "metadata": {},
   "source": [
    "H0: There is no correlation between populations and the sighting rates\n",
    "HA: There is correlation between populations and the sighting rates"
   ]
  },
  {
   "cell_type": "code",
   "execution_count": 32,
   "metadata": {},
   "outputs": [
    {
     "data": {
      "text/html": [
       "<div>\n",
       "<style scoped>\n",
       "    .dataframe tbody tr th:only-of-type {\n",
       "        vertical-align: middle;\n",
       "    }\n",
       "\n",
       "    .dataframe tbody tr th {\n",
       "        vertical-align: top;\n",
       "    }\n",
       "\n",
       "    .dataframe thead th {\n",
       "        text-align: right;\n",
       "    }\n",
       "</style>\n",
       "<table border=\"1\" class=\"dataframe\">\n",
       "  <thead>\n",
       "    <tr style=\"text-align: right;\">\n",
       "      <th></th>\n",
       "      <th>state</th>\n",
       "      <th>times</th>\n",
       "      <th>DENSITY</th>\n",
       "      <th>POP</th>\n",
       "    </tr>\n",
       "  </thead>\n",
       "  <tbody>\n",
       "    <tr>\n",
       "      <th>0</th>\n",
       "      <td>CA</td>\n",
       "      <td>5799</td>\n",
       "      <td>253.906502</td>\n",
       "      <td>39557045</td>\n",
       "    </tr>\n",
       "    <tr>\n",
       "      <th>1</th>\n",
       "      <td>FL</td>\n",
       "      <td>3018</td>\n",
       "      <td>397.015754</td>\n",
       "      <td>21299325</td>\n",
       "    </tr>\n",
       "    <tr>\n",
       "      <th>2</th>\n",
       "      <td>WA</td>\n",
       "      <td>2625</td>\n",
       "      <td>113.397227</td>\n",
       "      <td>7535591</td>\n",
       "    </tr>\n",
       "    <tr>\n",
       "      <th>3</th>\n",
       "      <td>NY</td>\n",
       "      <td>2158</td>\n",
       "      <td>414.702494</td>\n",
       "      <td>19542209</td>\n",
       "    </tr>\n",
       "    <tr>\n",
       "      <th>4</th>\n",
       "      <td>TX</td>\n",
       "      <td>2158</td>\n",
       "      <td>109.860468</td>\n",
       "      <td>28701845</td>\n",
       "    </tr>\n",
       "  </tbody>\n",
       "</table>\n",
       "</div>"
      ],
      "text/plain": [
       "  state  times     DENSITY       POP\n",
       "0    CA   5799  253.906502  39557045\n",
       "1    FL   3018  397.015754  21299325\n",
       "2    WA   2625  113.397227   7535591\n",
       "3    NY   2158  414.702494  19542209\n",
       "4    TX   2158  109.860468  28701845"
      ]
     },
     "execution_count": 32,
     "metadata": {},
     "output_type": "execute_result"
    }
   ],
   "source": [
    "df1 = states_ufo\n",
    "df1.head()"
   ]
  },
  {
   "cell_type": "code",
   "execution_count": 33,
   "metadata": {},
   "outputs": [
    {
     "name": "stdout",
     "output_type": "stream",
     "text": [
      "BOOTSTRAP RESULTS\n",
      "Bootstrap r: \t \t 0.91766\n",
      "|obs r - bs r| : \t 3.3307e-16\n",
      "\n",
      "Bootstrap p-value: \t 7.1762e-21\n"
     ]
    }
   ],
   "source": [
    "hyp_r = 0\n",
    "n = len(df1.times)\n",
    "\n",
    "# Observed corr coeff\n",
    "obs_r, obs_p_value = stats.pearsonr(df1['times'],df1['POP'])\n",
    "\n",
    "bs_r = np.empty(10000) \n",
    "bs_p = np.empty(10000)\n",
    "\n",
    "# generate pairs bootstrap samples\n",
    "for i in range(10000):\n",
    "   idx = np.random.choice(range(n), n)\n",
    "   bs_r[i], bs_p[i] = stats.pearsonr(df1['times'],df1['POP'])\n",
    "\n",
    "bs_r_mean = np.mean(bs_r)\n",
    "bs_p_mean = np.mean(bs_p)\n",
    "\n",
    "print('BOOTSTRAP RESULTS\\nBootstrap r: \\t \\t {:0.5}\\n|obs r - bs r| : \\t {:0.5}'.format(bs_r_mean, np.abs(obs_r - bs_r_mean)))\n",
    "\n",
    "print('\\nBootstrap p-value: \\t {:0.5}'.format(bs_p_mean))"
   ]
  },
  {
   "cell_type": "markdown",
   "metadata": {},
   "source": [
    "Since the p value is less than 0.05, we can reject the null hypothesis and conclude that there is correlation between populations and the sighting rates."
   ]
  },
  {
   "cell_type": "markdown",
   "metadata": {},
   "source": [
    "# Is there ccorrelation between populations density and the sighting rates?"
   ]
  },
  {
   "cell_type": "markdown",
   "metadata": {},
   "source": [
    "H0: There is no correlation between populations density and the sighting rates\n",
    "HA: There is correlation between populations density and the sighting rates"
   ]
  },
  {
   "cell_type": "code",
   "execution_count": 34,
   "metadata": {},
   "outputs": [
    {
     "data": {
      "text/html": [
       "<div>\n",
       "<style scoped>\n",
       "    .dataframe tbody tr th:only-of-type {\n",
       "        vertical-align: middle;\n",
       "    }\n",
       "\n",
       "    .dataframe tbody tr th {\n",
       "        vertical-align: top;\n",
       "    }\n",
       "\n",
       "    .dataframe thead th {\n",
       "        text-align: right;\n",
       "    }\n",
       "</style>\n",
       "<table border=\"1\" class=\"dataframe\">\n",
       "  <thead>\n",
       "    <tr style=\"text-align: right;\">\n",
       "      <th></th>\n",
       "      <th>state</th>\n",
       "      <th>times</th>\n",
       "      <th>DENSITY</th>\n",
       "      <th>POP</th>\n",
       "    </tr>\n",
       "  </thead>\n",
       "  <tbody>\n",
       "    <tr>\n",
       "      <th>0</th>\n",
       "      <td>CA</td>\n",
       "      <td>5799</td>\n",
       "      <td>253.906502</td>\n",
       "      <td>39557045</td>\n",
       "    </tr>\n",
       "    <tr>\n",
       "      <th>1</th>\n",
       "      <td>FL</td>\n",
       "      <td>3018</td>\n",
       "      <td>397.015754</td>\n",
       "      <td>21299325</td>\n",
       "    </tr>\n",
       "    <tr>\n",
       "      <th>2</th>\n",
       "      <td>WA</td>\n",
       "      <td>2625</td>\n",
       "      <td>113.397227</td>\n",
       "      <td>7535591</td>\n",
       "    </tr>\n",
       "    <tr>\n",
       "      <th>3</th>\n",
       "      <td>NY</td>\n",
       "      <td>2158</td>\n",
       "      <td>414.702494</td>\n",
       "      <td>19542209</td>\n",
       "    </tr>\n",
       "    <tr>\n",
       "      <th>4</th>\n",
       "      <td>TX</td>\n",
       "      <td>2158</td>\n",
       "      <td>109.860468</td>\n",
       "      <td>28701845</td>\n",
       "    </tr>\n",
       "  </tbody>\n",
       "</table>\n",
       "</div>"
      ],
      "text/plain": [
       "  state  times     DENSITY       POP\n",
       "0    CA   5799  253.906502  39557045\n",
       "1    FL   3018  397.015754  21299325\n",
       "2    WA   2625  113.397227   7535591\n",
       "3    NY   2158  414.702494  19542209\n",
       "4    TX   2158  109.860468  28701845"
      ]
     },
     "execution_count": 34,
     "metadata": {},
     "output_type": "execute_result"
    }
   ],
   "source": [
    "df2 = states_ufo\n",
    "df2.head()"
   ]
  },
  {
   "cell_type": "code",
   "execution_count": 35,
   "metadata": {},
   "outputs": [
    {
     "name": "stdout",
     "output_type": "stream",
     "text": [
      "BOOTSTRAP RESULTS\n",
      "Bootstrap r: \t \t 0.12224\n",
      "|obs r - bs r| : \t 2.7756e-17\n",
      "\n",
      "Bootstrap p-value: \t 0.39773\n"
     ]
    }
   ],
   "source": [
    "hyp_r = 0\n",
    "n = len(df2.times)\n",
    "\n",
    "# Observed corr coeff\n",
    "obs_r, obs_p_value = stats.pearsonr(df1['times'],df1['DENSITY'])\n",
    "\n",
    "bs_r = np.empty(10000) \n",
    "bs_p = np.empty(10000)\n",
    "\n",
    "# generate pairs bootstrap samples\n",
    "for i in range(10000):\n",
    "   idx = np.random.choice(range(n), n)\n",
    "   bs_r[i], bs_p[i] = stats.pearsonr(df1['times'],df1['DENSITY'])\n",
    "\n",
    "bs_r_mean = np.mean(bs_r)\n",
    "bs_p_mean = np.mean(bs_p)\n",
    "\n",
    "print('BOOTSTRAP RESULTS\\nBootstrap r: \\t \\t {:0.5}\\n|obs r - bs r| : \\t {:0.5}'.format(bs_r_mean, np.abs(obs_r - bs_r_mean)))\n",
    "\n",
    "print('\\nBootstrap p-value: \\t {:0.5}'.format(bs_p_mean))"
   ]
  },
  {
   "cell_type": "markdown",
   "metadata": {},
   "source": [
    "Since the p value is greater than 0.05, we cannot reject the null hypothesis and conclude that there is no correlation between populations density and the sighting rates."
   ]
  },
  {
   "cell_type": "markdown",
   "metadata": {},
   "source": [
    "# Is the distribution of duration normal?"
   ]
  },
  {
   "cell_type": "markdown",
   "metadata": {},
   "source": [
    "H0: The distribution of duration is normal.\n",
    "HA: The distribution of duration is not normal."
   ]
  },
  {
   "cell_type": "code",
   "execution_count": 36,
   "metadata": {},
   "outputs": [],
   "source": [
    "dur = df['duration']"
   ]
  },
  {
   "cell_type": "code",
   "execution_count": 37,
   "metadata": {},
   "outputs": [
    {
     "name": "stdout",
     "output_type": "stream",
     "text": [
      "count    4.636200e+04\n",
      "mean     7.699221e+03\n",
      "std      5.331610e+05\n",
      "min      1.000000e-03\n",
      "25%      3.000000e+01\n",
      "50%      1.800000e+02\n",
      "75%      6.000000e+02\n",
      "max      9.783600e+07\n",
      "Name: duration, dtype: float64\n"
     ]
    }
   ],
   "source": [
    "print(dur.describe())"
   ]
  },
  {
   "cell_type": "code",
   "execution_count": 38,
   "metadata": {},
   "outputs": [
    {
     "data": {
      "text/plain": [
       "NormaltestResult(statistic=210507.50785507844, pvalue=0.0)"
      ]
     },
     "execution_count": 38,
     "metadata": {},
     "output_type": "execute_result"
    }
   ],
   "source": [
    "stats.normaltest(dur)"
   ]
  },
  {
   "cell_type": "markdown",
   "metadata": {},
   "source": [
    "Since p-value is less than 0.05, we can reject the null hypothesis and conclude that the distribution of duration is not normal."
   ]
  },
  {
   "cell_type": "markdown",
   "metadata": {},
   "source": [
    "# Part 4 Machine Learning"
   ]
  },
  {
   "cell_type": "code",
   "execution_count": 17,
   "metadata": {},
   "outputs": [
    {
     "name": "stderr",
     "output_type": "stream",
     "text": [
      "C:\\Users\\Edward\\Anaconda3\\lib\\site-packages\\ipykernel_launcher.py:1: SettingWithCopyWarning: \n",
      "A value is trying to be set on a copy of a slice from a DataFrame.\n",
      "Try using .loc[row_indexer,col_indexer] = value instead\n",
      "\n",
      "See the caveats in the documentation: http://pandas.pydata.org/pandas-docs/stable/indexing.html#indexing-view-versus-copy\n",
      "  \"\"\"Entry point for launching an IPython kernel.\n"
     ]
    }
   ],
   "source": [
    "ufo_final['duration'] = ufo_final['duration'] / 60"
   ]
  },
  {
   "cell_type": "code",
   "execution_count": 18,
   "metadata": {},
   "outputs": [
    {
     "name": "stdout",
     "output_type": "stream",
     "text": [
      "  state winddire  mday  month  year  hour    duration  pressure      temp  \\\n",
      "0    WA    South    14     11  1997    21   45.000000 -0.163149 -1.618531   \n",
      "1    WA    South    14     11  1997    21  120.000000 -0.163149 -1.618531   \n",
      "2    WA    South    14     11  1997    21    0.333333 -0.163149 -1.618531   \n",
      "3    MD    North    24     11  1997     2    0.333333 -0.189379 -1.005539   \n",
      "4    MD    North    24     11  1997     2   15.000000 -0.189379 -1.005539   \n",
      "\n",
      "   visibility  dewpoint  wingspeed       hum        pop     density  \\\n",
      "0   -2.461666 -0.867472  -0.357641  1.598872  7535591.0  113.397227   \n",
      "1   -2.461666 -0.867472  -0.357641  1.598872  7535591.0  113.397227   \n",
      "2   -2.461666 -0.867472  -0.357641  1.598872  7535591.0  113.397227   \n",
      "3   -0.493176 -0.464073  -0.911239  0.980525  6042718.0  622.261727   \n",
      "4   -0.493176 -0.464073  -0.911239  0.980525  6042718.0  622.261727   \n",
      "\n",
      "       condition      shape  \n",
      "0          Clear  Formation  \n",
      "1          Clear   Fireball  \n",
      "2          Clear  Formation  \n",
      "3  Mostly Cloudy       Oval  \n",
      "4  Mostly Cloudy       Oval  \n"
     ]
    }
   ],
   "source": [
    "features = ufo_final[['state','winddire','mday','month','year','hour','duration','pressure','temp','visibility','dewpoint', 'wingspeed','hum','pop','density','condition','shape']]\n",
    "print(features.head())"
   ]
  },
  {
   "cell_type": "code",
   "execution_count": 22,
   "metadata": {},
   "outputs": [
    {
     "data": {
      "image/png": "[encoded data removed]",
      "text/plain": [
       "<matplotlib.figure.Figure at 0x1fceffaa668>"
      ]
     },
     "metadata": {},
     "output_type": "display_data"
    }
   ],
   "source": [
    "plt.hist(features['duration'])\n",
    "plt.title('UFO Sighting Duration Distribution')\n",
    "plt.show()"
   ]
  },
  {
   "cell_type": "code",
   "execution_count": 23,
   "metadata": {},
   "outputs": [],
   "source": [
    "features = features[features['duration'] <= 0.15]\n",
    "features =  features[features['duration'] > 0]"
   ]
  },
  {
   "cell_type": "code",
   "execution_count": 24,
   "metadata": {},
   "outputs": [
    {
     "data": {
      "text/plain": [
       "(6193, 17)"
      ]
     },
     "execution_count": 24,
     "metadata": {},
     "output_type": "execute_result"
    }
   ],
   "source": [
    "features.shape"
   ]
  },
  {
   "cell_type": "code",
   "execution_count": 25,
   "metadata": {},
   "outputs": [
    {
     "data": {
      "text/plain": [
       "<matplotlib.axes._subplots.AxesSubplot at 0x1fceffaafd0>"
      ]
     },
     "execution_count": 25,
     "metadata": {},
     "output_type": "execute_result"
    },
    {
     "data": {
      "image/png": "[encoded data removed]",
      "text/plain": [
       "<matplotlib.figure.Figure at 0x1fcf0305898>"
      ]
     },
     "metadata": {},
     "output_type": "display_data"
    }
   ],
   "source": [
    "import seaborn as sns\n",
    "import matplotlib.pyplot as plt\n",
    "\n",
    "sns.boxplot(data=features['duration'].values)"
   ]
  },
  {
   "cell_type": "code",
   "execution_count": 26,
   "metadata": {},
   "outputs": [
    {
     "data": {
      "image/png": "[encoded data removed]",
      "text/plain": [
       "<matplotlib.figure.Figure at 0x1fcefea7c18>"
      ]
     },
     "metadata": {},
     "output_type": "display_data"
    }
   ],
   "source": [
    "plt.hist(features['duration'])\n",
    "plt.title('UFO Sighting Duration Distribution')\n",
    "plt.show()"
   ]
  },
  {
   "cell_type": "code",
   "execution_count": 175,
   "metadata": {},
   "outputs": [],
   "source": [
    "def classifcation(df):\n",
    "  if df['duration'] < 0.09:\n",
    "    return 0\n",
    "  else:\n",
    "    return 1\n",
    "\n",
    "features['durationlength'] = features.apply(classifcation, axis=1)"
   ]
  },
  {
   "cell_type": "code",
   "execution_count": 176,
   "metadata": {},
   "outputs": [
    {
     "name": "stdout",
     "output_type": "stream",
     "text": [
      "Class 0: 5332\n",
      "Class 1: 861\n",
      "Proportion: 6.0 : 1.0\n"
     ]
    }
   ],
   "source": [
    "target_count = features.durationlength.value_counts()\n",
    "print('Class 0: {}'.format(target_count[0]))\n",
    "print('Class 1: {}'.format(target_count[1]))\n",
    "print('Proportion: {}'.format(round(target_count[0] / target_count[1]), 2), ': 1.0')"
   ]
  },
  {
   "cell_type": "code",
   "execution_count": 177,
   "metadata": {},
   "outputs": [
    {
     "data": {
      "text/plain": [
       "<matplotlib.axes._subplots.AxesSubplot at 0x1afc1c42588>"
      ]
     },
     "execution_count": 177,
     "metadata": {},
     "output_type": "execute_result"
    },
    {
     "data": {
      "image/png": "[encoded data removed]",
      "text/plain": [
       "<matplotlib.figure.Figure at 0x1afbfb5b748>"
      ]
     },
     "metadata": {},
     "output_type": "display_data"
    }
   ],
   "source": [
    "target_count.plot(kind='bar', title = 'Count (target)')"
   ]
  },
  {
   "cell_type": "code",
   "execution_count": 178,
   "metadata": {},
   "outputs": [
    {
     "data": {
      "text/plain": [
       "1    5332\n",
       "0    5332\n",
       "Name: durationlength, dtype: int64"
      ]
     },
     "execution_count": 178,
     "metadata": {},
     "output_type": "execute_result"
    }
   ],
   "source": [
    "from sklearn.utils import resample\n",
    "df_majority = features[features.durationlength==0]\n",
    "df_minority = features[features.durationlength==1]\n",
    " \n",
    "# Upsample minority class\n",
    "df_minority_upsampled = resample(df_minority, \n",
    "                                 replace=True,     # sample with replacement\n",
    "                                 n_samples=5332,    # to match majority class\n",
    "                                 random_state=123) # reproducible results\n",
    " \n",
    "# Combine majority class with upsampled minority class\n",
    "features = pd.concat([df_majority, df_minority_upsampled])\n",
    " \n",
    "# Display new class counts\n",
    "features.durationlength.value_counts()"
   ]
  },
  {
   "cell_type": "code",
   "execution_count": 179,
   "metadata": {},
   "outputs": [],
   "source": [
    "labels = features['durationlength']\n",
    "features= features.drop(['durationlength','duration'], axis = 1)"
   ]
  },
  {
   "cell_type": "code",
   "execution_count": 180,
   "metadata": {},
   "outputs": [
    {
     "name": "stdout",
     "output_type": "stream",
     "text": [
      "    mday  month  year  hour  pressure      temp  visibility  dewpoint  \\\n",
      "23    21      6  1999     0  0.623731  0.414558    0.064272  0.463745   \n",
      "44    16     11  1999    18  0.190947 -1.005539    1.457894 -1.270871   \n",
      "61    26     11  1999    17 -0.477901  0.016113    0.064272  0.443575   \n",
      "65     4      2  2000    21  0.256520 -0.944240    0.064272 -1.835629   \n",
      "81     7      7  2000    21 -0.386099  0.302176    0.064272  0.635190   \n",
      "\n",
      "    wingspeed       hum       ...        shape_EGG  shape_Fireball  \\\n",
      "23  -0.911239 -0.065910       ...                0               0   \n",
      "44   0.186071 -0.826954       ...                0               0   \n",
      "61  -0.911239  0.742698       ...                0               0   \n",
      "65  -0.357641 -1.683128       ...                0               0   \n",
      "81  -0.357641  0.552438       ...                0               0   \n",
      "\n",
      "    shape_Flash  shape_Formation  shape_Light  shape_Other  shape_Oval  \\\n",
      "23            0                0            0            0           0   \n",
      "44            0                0            1            0           0   \n",
      "61            0                1            0            0           0   \n",
      "65            0                1            0            0           0   \n",
      "81            0                0            1            0           0   \n",
      "\n",
      "    shape_Rectangle  shape_Sphere  shape_Triangle  \n",
      "23                0             0               1  \n",
      "44                0             0               0  \n",
      "61                0             0               0  \n",
      "65                0             0               0  \n",
      "81                0             0               0  \n",
      "\n",
      "[5 rows x 122 columns]\n"
     ]
    }
   ],
   "source": [
    "features = pd.get_dummies(features)\n",
    "print(features.head())"
   ]
  },
  {
   "cell_type": "code",
   "execution_count": 181,
   "metadata": {},
   "outputs": [],
   "source": [
    "feature_list = list(features.columns)"
   ]
  },
  {
   "cell_type": "code",
   "execution_count": 182,
   "metadata": {},
   "outputs": [],
   "source": [
    "from sklearn.model_selection import train_test_split\n",
    "\n",
    "train_features, test_features, train_labels, test_labels = train_test_split(features, labels, test_size = 0.30,random_state=42)"
   ]
  },
  {
   "cell_type": "code",
   "execution_count": 183,
   "metadata": {},
   "outputs": [
    {
     "name": "stdout",
     "output_type": "stream",
     "text": [
      "Training Set\n",
      "Successes:\t3748\n",
      "Total:\t\t7464\n",
      "Percent:\t0.502\n",
      "\n",
      "Test Set\n",
      "Successes:\t1584\n",
      "Total:\t\t3200\n",
      "Percent:\t0.495\n",
      "\n",
      "\n"
     ]
    }
   ],
   "source": [
    "train_success = train_labels.sum()\n",
    "train_total = len(train_labels)\n",
    "train_percent = train_success / train_total\n",
    "print('Training Set\\nSuccesses:\\t{}\\nTotal:\\t\\t{}\\nPercent:\\t{:.3f}\\n'.format(train_success, train_total, train_percent))\n",
    "\n",
    "# test set breakdown\n",
    "test_success = test_labels.sum()\n",
    "test_total = len(test_labels)\n",
    "test_percent = test_success / test_total\n",
    "print('Test Set\\nSuccesses:\\t{}\\nTotal:\\t\\t{}\\nPercent:\\t{:.3f}\\n\\n'.format(test_success, test_total, test_percent))"
   ]
  },
  {
   "cell_type": "code",
   "execution_count": 184,
   "metadata": {},
   "outputs": [],
   "source": [
    "import warnings\n",
    "warnings.filterwarnings('ignore')\n",
    "from sklearn.metrics import classification_report, accuracy_score, confusion_matrix"
   ]
  },
  {
   "cell_type": "markdown",
   "metadata": {},
   "source": [
    "# Logistic Regression"
   ]
  },
  {
   "cell_type": "code",
   "execution_count": 107,
   "metadata": {},
   "outputs": [
    {
     "name": "stdout",
     "output_type": "stream",
     "text": [
      "Accuracy: 0.5081\n",
      "             precision    recall  f1-score   support\n",
      "\n",
      "          0       0.52      0.42      0.46      1616\n",
      "          1       0.50      0.60      0.55      1584\n",
      "\n",
      "avg / total       0.51      0.51      0.50      3200\n",
      "\n"
     ]
    },
    {
     "data": {
      "image/png": "[encoded data removed]",
      "text/plain": [
       "<matplotlib.figure.Figure at 0x1afc19917f0>"
      ]
     },
     "metadata": {},
     "output_type": "display_data"
    }
   ],
   "source": [
    "from sklearn.linear_model import LogisticRegression\n",
    "\n",
    "lr = LogisticRegression(random_state = 42)\n",
    "lr.fit(train_features, train_labels)\n",
    "\n",
    "y_pred = lr.predict(test_features)\n",
    " \n",
    "accuracy = accuracy_score(test_labels, y_pred)\n",
    "print('Accuracy: {:.4f}'.format(accuracy))\n",
    "\n",
    "print(classification_report(test_labels, y_pred))\n",
    "\n",
    "cm = confusion_matrix(y_true = test_labels, y_pred = y_pred)\n",
    "fig, ax = plt.subplots(figsize = (6, 6))\n",
    "ax.matshow(cm, cmap = plt.cm.Blues, alpha = 0.3)\n",
    "for i in range(cm.shape[0]):\n",
    "    for j in range(cm.shape[1]):\n",
    "        ax.text(x=j, y=i, s=cm[i, j], va='center', ha='center')\n",
    "plt.xlabel('predicted label')\n",
    "plt.ylabel('true label');"
   ]
  },
  {
   "cell_type": "code",
   "execution_count": 108,
   "metadata": {},
   "outputs": [
    {
     "data": {
      "image/png": "[encoded data removed]",
      "text/plain": [
       "<matplotlib.figure.Figure at 0x1afc1e7b3c8>"
      ]
     },
     "metadata": {},
     "output_type": "display_data"
    }
   ],
   "source": [
    "from sklearn.metrics import roc_curve\n",
    "\n",
    "# Compute predicted probabilities: y_pred_prob\n",
    "y_pred_prob = lr.predict_proba(test_features)[:,1]\n",
    "\n",
    "# Generate ROC curve values: fpr, tpr, thresholds\n",
    "fpr, tpr, thresholds = roc_curve(test_labels, y_pred_prob)\n",
    "\n",
    "# Plot ROC curve\n",
    "plt.plot([0, 1], [0, 1], 'k--')\n",
    "plt.plot(fpr, tpr)\n",
    "plt.xlabel('False Positive Rate')\n",
    "plt.ylabel('True Positive Rate')\n",
    "plt.title('ROC Curve')\n",
    "plt.show()"
   ]
  },
  {
   "cell_type": "code",
   "execution_count": 109,
   "metadata": {},
   "outputs": [
    {
     "name": "stdout",
     "output_type": "stream",
     "text": [
      "AUC: 0.5086895408290829\n"
     ]
    }
   ],
   "source": [
    "from sklearn.model_selection import cross_val_score\n",
    "from sklearn.metrics import roc_auc_score\n",
    "\n",
    "# Compute predicted probabilities: y_pred_prob\n",
    "y_pred_prob = lr.predict_proba(test_features)[:,1]\n",
    "\n",
    "# Compute and print AUC score\n",
    "print(\"AUC: {}\".format(roc_auc_score(test_labels, y_pred_prob)))"
   ]
  },
  {
   "cell_type": "markdown",
   "metadata": {},
   "source": [
    "# KNN"
   ]
  },
  {
   "cell_type": "code",
   "execution_count": 110,
   "metadata": {},
   "outputs": [
    {
     "name": "stdout",
     "output_type": "stream",
     "text": [
      "Accuracy: 0.7053\n",
      "             precision    recall  f1-score   support\n",
      "\n",
      "          0       0.78      0.58      0.67      1616\n",
      "          1       0.66      0.83      0.74      1584\n",
      "\n",
      "avg / total       0.72      0.71      0.70      3200\n",
      "\n",
      "             precision    recall  f1-score   support\n",
      "\n",
      "          0       0.78      0.58      0.67      1616\n",
      "          1       0.66      0.83      0.74      1584\n",
      "\n",
      "avg / total       0.72      0.71      0.70      3200\n",
      "\n"
     ]
    },
    {
     "data": {
      "image/png": "[encoded data removed]",
      "text/plain": [
       "<matplotlib.figure.Figure at 0x1afc18db198>"
      ]
     },
     "metadata": {},
     "output_type": "display_data"
    }
   ],
   "source": [
    "from sklearn.neighbors import KNeighborsClassifier\n",
    "\n",
    "knn = KNeighborsClassifier(n_neighbors=7)\n",
    "knn.fit(train_features, train_labels)\n",
    "\n",
    "y_pred = knn.predict(test_features)\n",
    " \n",
    "accuracy = accuracy_score(test_labels, y_pred)\n",
    "print('Accuracy: {:.4f}'.format(accuracy))\n",
    "\n",
    "print(classification_report(test_labels, y_pred))\n",
    "\n",
    "print(classification_report(test_labels, y_pred))\n",
    "\n",
    "cm = confusion_matrix(y_true = test_labels, y_pred = y_pred)\n",
    "fig, ax = plt.subplots(figsize = (6, 6))\n",
    "ax.matshow(cm, cmap = plt.cm.Blues, alpha = 0.3)\n",
    "for i in range(cm.shape[0]):\n",
    "    for j in range(cm.shape[1]):\n",
    "        ax.text(x=j, y=i, s=cm[i, j], va='center', ha='center')\n",
    "plt.xlabel('predicted label')\n",
    "plt.ylabel('true label');"
   ]
  },
  {
   "cell_type": "code",
   "execution_count": 111,
   "metadata": {},
   "outputs": [
    {
     "data": {
      "text/plain": [
       "Text(0,0.5,'Accuracy')"
      ]
     },
     "execution_count": 111,
     "metadata": {},
     "output_type": "execute_result"
    },
    {
     "data": {
      "image/png": "[encoded data removed]",
      "text/plain": [
       "<matplotlib.figure.Figure at 0x1afc16ca358>"
      ]
     },
     "metadata": {},
     "output_type": "display_data"
    }
   ],
   "source": [
    "import numpy as np\n",
    "\n",
    "neighbors = np.arange(1, 15)\n",
    "train_accuracy = np.empty(len(neighbors))\n",
    "test_accuracy = np.empty(len(neighbors))\n",
    "\n",
    "# Loop over different values of k\n",
    "for i, k in enumerate(neighbors):\n",
    "    # Setup a k-NN Classifier with k neighbors: knn\n",
    "    knn = KNeighborsClassifier(n_neighbors=k)\n",
    "\n",
    "    # Fit the classifier to the training data\n",
    "    knn.fit(train_features, train_labels)\n",
    "    \n",
    "    #Compute accuracy on the training set\n",
    "    train_accuracy[i] = knn.score(train_features, train_labels)\n",
    "\n",
    "    #Compute accuracy on the testing set\n",
    "    test_accuracy[i] = knn.score(test_features, test_labels)\n",
    "\n",
    "# Generate plot\n",
    "plt.title('k-NN: Varying Number of Neighbors')\n",
    "plt.plot(neighbors, test_accuracy, label = 'Testing Accuracy')\n",
    "plt.plot(neighbors, train_accuracy, label = 'Training Accuracy')\n",
    "plt.legend()\n",
    "plt.xlabel('Number of Neighbors')\n",
    "plt.ylabel('Accuracy')"
   ]
  },
  {
   "cell_type": "code",
   "execution_count": 112,
   "metadata": {},
   "outputs": [
    {
     "data": {
      "image/png": "[encoded data removed]",
      "text/plain": [
       "<matplotlib.figure.Figure at 0x1afc1982518>"
      ]
     },
     "metadata": {},
     "output_type": "display_data"
    }
   ],
   "source": [
    "# Compute predicted probabilities: y_pred_prob\n",
    "y_pred_prob = knn.predict_proba(test_features)[:,1]\n",
    "\n",
    "# Generate ROC curve values: fpr, tpr, thresholds\n",
    "fpr, tpr, thresholds = roc_curve(test_labels, y_pred_prob)\n",
    "\n",
    "# Plot ROC curve\n",
    "plt.plot([0, 1], [0, 1], 'k--')\n",
    "plt.plot(fpr, tpr)\n",
    "plt.xlabel('False Positive Rate')\n",
    "plt.ylabel('True Positive Rate')\n",
    "plt.title('ROC Curve')\n",
    "plt.show()"
   ]
  },
  {
   "cell_type": "code",
   "execution_count": 113,
   "metadata": {},
   "outputs": [
    {
     "name": "stdout",
     "output_type": "stream",
     "text": [
      "AUC: 0.6963483457720773\n"
     ]
    }
   ],
   "source": [
    "# Compute predicted probabilities: y_pred_prob\n",
    "y_pred_prob = knn.predict_proba(test_features)[:,1]\n",
    "\n",
    "# Compute and print AUC score\n",
    "print(\"AUC: {}\".format(roc_auc_score(test_labels, y_pred_prob)))"
   ]
  },
  {
   "cell_type": "markdown",
   "metadata": {},
   "source": [
    "# SVM"
   ]
  },
  {
   "cell_type": "code",
   "execution_count": 114,
   "metadata": {},
   "outputs": [
    {
     "name": "stdout",
     "output_type": "stream",
     "text": [
      "Accuracy: 0.7575\n",
      "             precision    recall  f1-score   support\n",
      "\n",
      "          0       0.79      0.71      0.75      1616\n",
      "          1       0.73      0.80      0.77      1584\n",
      "\n",
      "avg / total       0.76      0.76      0.76      3200\n",
      "\n"
     ]
    },
    {
     "data": {
      "image/png": "[encoded data removed]",
      "text/plain": [
       "<matplotlib.figure.Figure at 0x1afca103da0>"
      ]
     },
     "metadata": {},
     "output_type": "display_data"
    }
   ],
   "source": [
    "from sklearn import svm\n",
    "\n",
    "SVM = svm.SVC(random_state=42,probability=True)\n",
    "SVM.fit(train_features, train_labels)\n",
    "\n",
    "y_pred = SVM.predict(test_features)\n",
    " \n",
    "accuracy = accuracy_score(test_labels, y_pred)\n",
    "print('Accuracy: {:.4f}'.format(accuracy))\n",
    "\n",
    "print(classification_report(test_labels, y_pred))\n",
    "\n",
    "cm = confusion_matrix(y_true = test_labels, y_pred = y_pred)\n",
    "fig, ax = plt.subplots(figsize = (6, 6))\n",
    "ax.matshow(cm, cmap = plt.cm.Blues, alpha = 0.3)\n",
    "for i in range(cm.shape[0]):\n",
    "    for j in range(cm.shape[1]):\n",
    "        ax.text(x=j, y=i, s=cm[i, j], va='center', ha='center')\n",
    "plt.xlabel('predicted label')\n",
    "plt.ylabel('true label');"
   ]
  },
  {
   "cell_type": "code",
   "execution_count": 115,
   "metadata": {},
   "outputs": [
    {
     "data": {
      "image/png": "[encoded data removed]",
      "text/plain": [
       "<matplotlib.figure.Figure at 0x1afc1706ef0>"
      ]
     },
     "metadata": {},
     "output_type": "display_data"
    }
   ],
   "source": [
    "# Compute predicted probabilities: y_pred_prob\n",
    "y_pred_prob = SVM.predict_proba(test_features)[:,1]\n",
    "\n",
    "# Generate ROC curve values: fpr, tpr, thresholds\n",
    "fpr, tpr, thresholds = roc_curve(test_labels, y_pred_prob)\n",
    "\n",
    "# Plot ROC curve\n",
    "plt.plot([0, 1], [0, 1], 'k--')\n",
    "plt.plot(fpr, tpr)\n",
    "plt.xlabel('False Positive Rate')\n",
    "plt.ylabel('True Positive Rate')\n",
    "plt.title('ROC Curve')\n",
    "plt.show()"
   ]
  },
  {
   "cell_type": "code",
   "execution_count": 116,
   "metadata": {},
   "outputs": [
    {
     "name": "stdout",
     "output_type": "stream",
     "text": [
      "AUC: 0.8551413735123512\n"
     ]
    }
   ],
   "source": [
    "# Compute predicted probabilities: y_pred_prob\n",
    "y_pred_prob = SVM.predict_proba(test_features)[:,1]\n",
    "\n",
    "# Compute and print AUC score\n",
    "print(\"AUC: {}\".format(roc_auc_score(test_labels, y_pred_prob)))"
   ]
  },
  {
   "cell_type": "markdown",
   "metadata": {},
   "source": [
    "# Naive Bayes"
   ]
  },
  {
   "cell_type": "code",
   "execution_count": 117,
   "metadata": {},
   "outputs": [
    {
     "name": "stdout",
     "output_type": "stream",
     "text": [
      "Accuracy: 0.5056\n",
      "             precision    recall  f1-score   support\n",
      "\n",
      "          0       0.51      0.67      0.58      1616\n",
      "          1       0.50      0.34      0.41      1584\n",
      "\n",
      "avg / total       0.50      0.51      0.49      3200\n",
      "\n"
     ]
    },
    {
     "data": {
      "image/png": "[encoded data removed]",
      "text/plain": [
       "<matplotlib.figure.Figure at 0x1afc18ce390>"
      ]
     },
     "metadata": {},
     "output_type": "display_data"
    }
   ],
   "source": [
    "from sklearn.naive_bayes import GaussianNB\n",
    "\n",
    "NB = GaussianNB()\n",
    "NB.fit(train_features, train_labels)\n",
    "\n",
    "y_pred = NB.predict(test_features)\n",
    " \n",
    "accuracy = accuracy_score(test_labels, y_pred)\n",
    "print('Accuracy: {:.4f}'.format(accuracy))\n",
    "\n",
    "print(classification_report(test_labels, y_pred))\n",
    "\n",
    "cm = confusion_matrix(y_true = test_labels, y_pred = y_pred)\n",
    "fig, ax = plt.subplots(figsize = (6, 6))\n",
    "ax.matshow(cm, cmap = plt.cm.Blues, alpha = 0.3)\n",
    "for i in range(cm.shape[0]):\n",
    "    for j in range(cm.shape[1]):\n",
    "        ax.text(x=j, y=i, s=cm[i, j], va='center', ha='center')\n",
    "plt.xlabel('predicted label')\n",
    "plt.ylabel('true label');"
   ]
  },
  {
   "cell_type": "code",
   "execution_count": 118,
   "metadata": {},
   "outputs": [
    {
     "data": {
      "image/png": "[encoded data removed]",
      "text/plain": [
       "<matplotlib.figure.Figure at 0x1afc1e9c898>"
      ]
     },
     "metadata": {},
     "output_type": "display_data"
    }
   ],
   "source": [
    "# Compute predicted probabilities: y_pred_prob\n",
    "y_pred_prob = SVM.predict_proba(test_features)[:,1]\n",
    "\n",
    "# Generate ROC curve values: fpr, tpr, thresholds\n",
    "fpr, tpr, thresholds = roc_curve(test_labels, y_pred_prob)\n",
    "\n",
    "# Plot ROC curve\n",
    "plt.plot([0, 1], [0, 1], 'k--')\n",
    "plt.plot(fpr, tpr)\n",
    "plt.xlabel('False Positive Rate')\n",
    "plt.ylabel('True Positive Rate')\n",
    "plt.title('ROC Curve')\n",
    "plt.show()"
   ]
  },
  {
   "cell_type": "code",
   "execution_count": 119,
   "metadata": {},
   "outputs": [
    {
     "name": "stdout",
     "output_type": "stream",
     "text": [
      "AUC: 0.8551413735123512\n"
     ]
    }
   ],
   "source": [
    "# Compute predicted probabilities: y_pred_prob\n",
    "y_pred_prob = SVM.predict_proba(test_features)[:,1]\n",
    "\n",
    "# Compute and print AUC score\n",
    "print(\"AUC: {}\".format(roc_auc_score(test_labels, y_pred_prob)))"
   ]
  },
  {
   "cell_type": "markdown",
   "metadata": {},
   "source": [
    "# AdaBoost"
   ]
  },
  {
   "cell_type": "code",
   "execution_count": 120,
   "metadata": {},
   "outputs": [
    {
     "name": "stdout",
     "output_type": "stream",
     "text": [
      "Accuracy: 0.5631\n",
      "             precision    recall  f1-score   support\n",
      "\n",
      "          0       0.60      0.39      0.47      1616\n",
      "          1       0.54      0.74      0.63      1584\n",
      "\n",
      "avg / total       0.57      0.56      0.55      3200\n",
      "\n"
     ]
    },
    {
     "data": {
      "image/png": "[encoded data removed]",
      "text/plain": [
       "<matplotlib.figure.Figure at 0x1afc18ceda0>"
      ]
     },
     "metadata": {},
     "output_type": "display_data"
    }
   ],
   "source": [
    "from sklearn.ensemble import AdaBoostClassifier\n",
    "from sklearn.tree import DecisionTreeClassifier\n",
    "\n",
    "# instantiate a Decision Tree\n",
    "dt = DecisionTreeClassifier(max_depth = 2, random_state=42)\n",
    "\n",
    "# instantate and fit an AdaBoost Classifier\n",
    "adb_clf = AdaBoostClassifier(base_estimator = dt, n_estimators = 5, random_state = 42)\n",
    "adb_clf.fit(train_features, train_labels)\n",
    "\n",
    "# make predictions on the test set\n",
    "y_pred = adb_clf.predict(test_features)\n",
    " \n",
    "accuracy = accuracy_score(test_labels, y_pred)\n",
    "print('Accuracy: {:.4f}'.format(accuracy))\n",
    "\n",
    "print(classification_report(test_labels, y_pred))\n",
    "\n",
    "cm = confusion_matrix(y_true = test_labels, y_pred = y_pred)\n",
    "fig, ax = plt.subplots(figsize = (6, 6))\n",
    "ax.matshow(cm, cmap = plt.cm.Blues, alpha = 0.3)\n",
    "for i in range(cm.shape[0]):\n",
    "    for j in range(cm.shape[1]):\n",
    "        ax.text(x=j, y=i, s=cm[i, j], va='center', ha='center')\n",
    "plt.xlabel('predicted label')\n",
    "plt.ylabel('true label');"
   ]
  },
  {
   "cell_type": "code",
   "execution_count": 121,
   "metadata": {},
   "outputs": [
    {
     "data": {
      "image/png": "[encoded data removed]",
      "text/plain": [
       "<matplotlib.figure.Figure at 0x1afc1c2edd8>"
      ]
     },
     "metadata": {},
     "output_type": "display_data"
    }
   ],
   "source": [
    "# Compute predicted probabilities: y_pred_prob\n",
    "y_pred_prob = adb_clf.predict_proba(test_features)[:,1]\n",
    "\n",
    "# Generate ROC curve values: fpr, tpr, thresholds\n",
    "fpr, tpr, thresholds = roc_curve(test_labels, y_pred_prob)\n",
    "\n",
    "# Plot ROC curve\n",
    "plt.plot([0, 1], [0, 1], 'k--')\n",
    "plt.plot(fpr, tpr)\n",
    "plt.xlabel('False Positive Rate')\n",
    "plt.ylabel('True Positive Rate')\n",
    "plt.title('ROC Curve')\n",
    "plt.show()"
   ]
  },
  {
   "cell_type": "code",
   "execution_count": 122,
   "metadata": {},
   "outputs": [
    {
     "name": "stdout",
     "output_type": "stream",
     "text": [
      "AUC: 0.5863232807655766\n"
     ]
    }
   ],
   "source": [
    "# Compute predicted probabilities: y_pred_prob\n",
    "y_pred_prob = adb_clf.predict_proba(test_features)[:,1]\n",
    "\n",
    "# Compute and print AUC score\n",
    "print(\"AUC: {}\".format(roc_auc_score(test_labels, y_pred_prob)))"
   ]
  },
  {
   "cell_type": "markdown",
   "metadata": {},
   "source": [
    "# XGBoost"
   ]
  },
  {
   "cell_type": "code",
   "execution_count": 185,
   "metadata": {},
   "outputs": [
    {
     "name": "stdout",
     "output_type": "stream",
     "text": [
      "Accuracy: 0.5737\n",
      "             precision    recall  f1-score   support\n",
      "\n",
      "          0       0.60      0.47      0.53      1616\n",
      "          1       0.56      0.68      0.61      1584\n",
      "\n",
      "avg / total       0.58      0.57      0.57      3200\n",
      "\n"
     ]
    },
    {
     "data": {
      "image/png": "[encoded data removed]",
      "text/plain": [
       "<matplotlib.figure.Figure at 0x1afca4f0470>"
      ]
     },
     "metadata": {},
     "output_type": "display_data"
    }
   ],
   "source": [
    "import xgboost as xgb\n",
    "\n",
    "XGB = xgb.XGBClassifier(objective='binary:logistic', n_estimators=10, seed=42)\n",
    "XGB.fit(train_features, train_labels)\n",
    "\n",
    "y_pred = XGB.predict(test_features)\n",
    " \n",
    "accuracy = accuracy_score(test_labels, y_pred)\n",
    "print('Accuracy: {:.4f}'.format(accuracy))\n",
    "\n",
    "print(classification_report(test_labels, y_pred))\n",
    "\n",
    "cm = confusion_matrix(y_true = test_labels, y_pred = y_pred)\n",
    "fig, ax = plt.subplots(figsize = (6, 6))\n",
    "ax.matshow(cm, cmap = plt.cm.Blues, alpha = 0.3)\n",
    "for i in range(cm.shape[0]):\n",
    "    for j in range(cm.shape[1]):\n",
    "        ax.text(x=j, y=i, s=cm[i, j], va='center', ha='center')\n",
    "plt.xlabel('predicted label')\n",
    "plt.ylabel('true label');"
   ]
  },
  {
   "cell_type": "code",
   "execution_count": 186,
   "metadata": {},
   "outputs": [
    {
     "data": {
      "image/png": "[encoded data removed]",
      "text/plain": [
       "<matplotlib.figure.Figure at 0x1afc1fec588>"
      ]
     },
     "metadata": {},
     "output_type": "display_data"
    }
   ],
   "source": [
    "# Compute predicted probabilities: y_pred_prob\n",
    "y_pred_prob = XGB.predict_proba(test_features)[:,1]\n",
    "\n",
    "# Generate ROC curve values: fpr, tpr, thresholds\n",
    "fpr, tpr, thresholds = roc_curve(test_labels, y_pred_prob)\n",
    "\n",
    "# Plot ROC curve\n",
    "plt.plot([0, 1], [0, 1], 'k--')\n",
    "plt.plot(fpr, tpr)\n",
    "plt.xlabel('False Positive Rate')\n",
    "plt.ylabel('True Positive Rate')\n",
    "plt.title('ROC Curve')\n",
    "plt.show()"
   ]
  },
  {
   "cell_type": "code",
   "execution_count": 187,
   "metadata": {},
   "outputs": [
    {
     "name": "stdout",
     "output_type": "stream",
     "text": [
      "AUC: 0.6133798926767677\n"
     ]
    }
   ],
   "source": [
    "# Compute predicted probabilities: y_pred_prob\n",
    "y_pred_prob = XGB.predict_proba(test_features)[:,1]\n",
    "\n",
    "# Compute and print AUC score\n",
    "print(\"AUC: {}\".format(roc_auc_score(test_labels, y_pred_prob)))"
   ]
  },
  {
   "cell_type": "markdown",
   "metadata": {},
   "source": [
    "# Random Forest"
   ]
  },
  {
   "cell_type": "code",
   "execution_count": 188,
   "metadata": {},
   "outputs": [
    {
     "name": "stdout",
     "output_type": "stream",
     "text": [
      "Accuracy: 0.9909\n",
      "             precision    recall  f1-score   support\n",
      "\n",
      "          0       0.99      0.99      0.99      1616\n",
      "          1       0.99      0.99      0.99      1584\n",
      "\n",
      "avg / total       0.99      0.99      0.99      3200\n",
      "\n"
     ]
    },
    {
     "data": {
      "image/png": "[encoded data removed]",
      "text/plain": [
       "<matplotlib.figure.Figure at 0x1afbba3dc18>"
      ]
     },
     "metadata": {},
     "output_type": "display_data"
    }
   ],
   "source": [
    "from sklearn.ensemble import RandomForestClassifier\n",
    "\n",
    "rf = RandomForestClassifier(n_estimators = 1000, random_state=42)\n",
    "rf.fit(train_features, train_labels)\n",
    "\n",
    "y_pred = rf.predict(test_features)\n",
    "\n",
    "accuracy = accuracy_score(test_labels, y_pred)\n",
    "print('Accuracy: {:.4f}'.format(accuracy))\n",
    "\n",
    "print(classification_report(test_labels, y_pred))\n",
    "\n",
    "cm = confusion_matrix(y_true = test_labels, y_pred = y_pred)\n",
    "fig, ax = plt.subplots(figsize = (6, 6))\n",
    "ax.matshow(cm, cmap = plt.cm.Blues, alpha = 0.3)\n",
    "for i in range(cm.shape[0]):\n",
    "    for j in range(cm.shape[1]):\n",
    "        ax.text(x=j, y=i, s=cm[i, j], va='center', ha='center')\n",
    "plt.xlabel('predicted label')\n",
    "plt.ylabel('true label');"
   ]
  },
  {
   "cell_type": "code",
   "execution_count": 189,
   "metadata": {},
   "outputs": [
    {
     "data": {
      "image/png": "[encoded data removed]",
      "text/plain": [
       "<matplotlib.figure.Figure at 0x1afbd7c9048>"
      ]
     },
     "metadata": {},
     "output_type": "display_data"
    }
   ],
   "source": [
    "from sklearn.metrics import roc_curve\n",
    "\n",
    "# Compute predicted probabilities: y_pred_prob\n",
    "y_pred_prob = rf.predict_proba(test_features)[:,1]\n",
    "\n",
    "# Generate ROC curve values: fpr, tpr, thresholds\n",
    "fpr, tpr, thresholds = roc_curve(test_labels, y_pred_prob)\n",
    "\n",
    "# Plot ROC curve\n",
    "plt.plot([0, 1], [0, 1], 'k--')\n",
    "plt.plot(fpr, tpr)\n",
    "plt.xlabel('False Positive Rate')\n",
    "plt.ylabel('True Positive Rate')\n",
    "plt.title('ROC Curve')\n",
    "plt.show()"
   ]
  },
  {
   "cell_type": "code",
   "execution_count": 190,
   "metadata": {},
   "outputs": [
    {
     "name": "stdout",
     "output_type": "stream",
     "text": [
      "AUC: 0.9964010072882289\n"
     ]
    }
   ],
   "source": [
    "from sklearn.model_selection import cross_val_score\n",
    "from sklearn.metrics import roc_auc_score\n",
    "\n",
    "# Compute predicted probabilities: y_pred_prob\n",
    "y_pred_prob = rf.predict_proba(test_features)[:,1]\n",
    "\n",
    "# Compute and print AUC score\n",
    "print(\"AUC: {}\".format(roc_auc_score(test_labels, y_pred_prob)))"
   ]
  },
  {
   "cell_type": "code",
   "execution_count": 191,
   "metadata": {},
   "outputs": [
    {
     "name": "stdout",
     "output_type": "stream",
     "text": [
      "Variable: pressure             Importance: 0.08\n",
      "Variable: temp                 Importance: 0.07\n",
      "Variable: dewpoint             Importance: 0.07\n",
      "Variable: hum                  Importance: 0.07\n",
      "Variable: mday                 Importance: 0.06\n",
      "Variable: year                 Importance: 0.06\n",
      "Variable: month                Importance: 0.05\n",
      "Variable: hour                 Importance: 0.05\n",
      "Variable: wingspeed            Importance: 0.05\n",
      "Variable: pop                  Importance: 0.04\n",
      "Variable: density              Importance: 0.04\n",
      "Variable: visibility           Importance: 0.02\n",
      "Variable: state_CA             Importance: 0.01\n",
      "Variable: winddire_NW          Importance: 0.01\n",
      "Variable: winddire_North       Importance: 0.01\n",
      "Variable: winddire_SE          Importance: 0.01\n",
      "Variable: winddire_SSW         Importance: 0.01\n",
      "Variable: winddire_SW          Importance: 0.01\n",
      "Variable: winddire_South       Importance: 0.01\n",
      "Variable: winddire_WNW         Importance: 0.01\n",
      "Variable: winddire_West        Importance: 0.01\n",
      "Variable: condition_Clear      Importance: 0.01\n",
      "Variable: condition_Mostly Cloudy Importance: 0.01\n",
      "Variable: condition_Overcast   Importance: 0.01\n",
      "Variable: condition_Partly Cloudy Importance: 0.01\n",
      "Variable: condition_Scattered Clouds Importance: 0.01\n",
      "Variable: shape_Circle         Importance: 0.01\n",
      "Variable: shape_Disk           Importance: 0.01\n",
      "Variable: shape_Fireball       Importance: 0.01\n",
      "Variable: shape_Light          Importance: 0.01\n",
      "Variable: shape_Oval           Importance: 0.01\n",
      "Variable: shape_Sphere         Importance: 0.01\n",
      "Variable: shape_Triangle       Importance: 0.01\n",
      "Variable: state_AK             Importance: 0.0\n",
      "Variable: state_AL             Importance: 0.0\n",
      "Variable: state_AR             Importance: 0.0\n",
      "Variable: state_AZ             Importance: 0.0\n",
      "Variable: state_CO             Importance: 0.0\n",
      "Variable: state_CT             Importance: 0.0\n",
      "Variable: state_DE             Importance: 0.0\n",
      "Variable: state_FL             Importance: 0.0\n",
      "Variable: state_GA             Importance: 0.0\n",
      "Variable: state_HI             Importance: 0.0\n",
      "Variable: state_IA             Importance: 0.0\n",
      "Variable: state_ID             Importance: 0.0\n",
      "Variable: state_IL             Importance: 0.0\n",
      "Variable: state_IN             Importance: 0.0\n",
      "Variable: state_KS             Importance: 0.0\n",
      "Variable: state_KY             Importance: 0.0\n",
      "Variable: state_LA             Importance: 0.0\n",
      "Variable: state_MA             Importance: 0.0\n",
      "Variable: state_MD             Importance: 0.0\n",
      "Variable: state_ME             Importance: 0.0\n",
      "Variable: state_MI             Importance: 0.0\n",
      "Variable: state_MN             Importance: 0.0\n",
      "Variable: state_MO             Importance: 0.0\n",
      "Variable: state_MS             Importance: 0.0\n",
      "Variable: state_MT             Importance: 0.0\n",
      "Variable: state_NC             Importance: 0.0\n",
      "Variable: state_ND             Importance: 0.0\n",
      "Variable: state_NE             Importance: 0.0\n",
      "Variable: state_NH             Importance: 0.0\n",
      "Variable: state_NJ             Importance: 0.0\n",
      "Variable: state_NM             Importance: 0.0\n",
      "Variable: state_NV             Importance: 0.0\n",
      "Variable: state_NY             Importance: 0.0\n",
      "Variable: state_OH             Importance: 0.0\n",
      "Variable: state_OK             Importance: 0.0\n",
      "Variable: state_OR             Importance: 0.0\n",
      "Variable: state_PA             Importance: 0.0\n",
      "Variable: state_RI             Importance: 0.0\n",
      "Variable: state_SC             Importance: 0.0\n",
      "Variable: state_SD             Importance: 0.0\n",
      "Variable: state_TN             Importance: 0.0\n",
      "Variable: state_TX             Importance: 0.0\n",
      "Variable: state_UT             Importance: 0.0\n",
      "Variable: state_VA             Importance: 0.0\n",
      "Variable: state_VT             Importance: 0.0\n",
      "Variable: state_WA             Importance: 0.0\n",
      "Variable: state_WI             Importance: 0.0\n",
      "Variable: state_WV             Importance: 0.0\n",
      "Variable: state_WY             Importance: 0.0\n",
      "Variable: winddire_ENE         Importance: 0.0\n",
      "Variable: winddire_ESE         Importance: 0.0\n",
      "Variable: winddire_East        Importance: 0.0\n",
      "Variable: winddire_NE          Importance: 0.0\n",
      "Variable: winddire_NNE         Importance: 0.0\n",
      "Variable: winddire_NNW         Importance: 0.0\n",
      "Variable: winddire_SSE         Importance: 0.0\n",
      "Variable: winddire_Variable    Importance: 0.0\n",
      "Variable: winddire_WSW         Importance: 0.0\n",
      "Variable: condition_Drizzle    Importance: 0.0\n",
      "Variable: condition_Fog        Importance: 0.0\n",
      "Variable: condition_Haze       Importance: 0.0\n",
      "Variable: condition_Heavy Rain Importance: 0.0\n",
      "Variable: condition_Heavy Snow Importance: 0.0\n",
      "Variable: condition_Heavy Thunderstorms and Rain Importance: 0.0\n",
      "Variable: condition_Light Drizzle Importance: 0.0\n",
      "Variable: condition_Light Freezing Drizzle Importance: 0.0\n",
      "Variable: condition_Light Freezing Fog Importance: 0.0\n",
      "Variable: condition_Light Freezing Rain Importance: 0.0\n",
      "Variable: condition_Light Rain Importance: 0.0\n",
      "Variable: condition_Light Snow Importance: 0.0\n",
      "Variable: condition_Light Snow Showers Importance: 0.0\n",
      "Variable: condition_Light Thunderstorms and Rain Importance: 0.0\n",
      "Variable: condition_Mist       Importance: 0.0\n",
      "Variable: condition_Patches of Fog Importance: 0.0\n",
      "Variable: condition_Rain       Importance: 0.0\n",
      "Variable: condition_Shallow Fog Importance: 0.0\n",
      "Variable: condition_Smoke      Importance: 0.0\n",
      "Variable: condition_Snow       Importance: 0.0\n",
      "Variable: condition_Thunderstorm Importance: 0.0\n",
      "Variable: condition_Thunderstorms and Rain Importance: 0.0\n",
      "Variable: condition_Unknown    Importance: 0.0\n",
      "Variable: shape_Changing       Importance: 0.0\n",
      "Variable: shape_Cigar          Importance: 0.0\n",
      "Variable: shape_Cylinder       Importance: 0.0\n",
      "Variable: shape_EGG            Importance: 0.0\n",
      "Variable: shape_Flash          Importance: 0.0\n",
      "Variable: shape_Formation      Importance: 0.0\n",
      "Variable: shape_Other          Importance: 0.0\n",
      "Variable: shape_Rectangle      Importance: 0.0\n"
     ]
    }
   ],
   "source": [
    "# Get numerical feature importances\n",
    "importances = list(rf.feature_importances_)\n",
    "# List of tuples with variable and importance\n",
    "feature_importances = [(feature, round(importance, 2)) for feature, importance in zip(feature_list, importances)]\n",
    "# Sort the feature importances by most important first\n",
    "feature_importances = sorted(feature_importances, key = lambda x: x[1], reverse = True)\n",
    "# Print out the feature and importances \n",
    "[print('Variable: {:20} Importance: {}'.format(*pair)) for pair in feature_importances];"
   ]
  },
  {
   "cell_type": "code",
   "execution_count": 193,
   "metadata": {},
   "outputs": [],
   "source": [
    "features= features[['pressure','temp','dewpoint','hum']]"
   ]
  },
  {
   "cell_type": "code",
   "execution_count": 194,
   "metadata": {},
   "outputs": [],
   "source": [
    "train_features, test_features, train_labels, test_labels = train_test_split(features, labels, test_size = 0.30,random_state=42)"
   ]
  },
  {
   "cell_type": "code",
   "execution_count": 195,
   "metadata": {},
   "outputs": [
    {
     "name": "stdout",
     "output_type": "stream",
     "text": [
      "Accuracy: 0.9400\n",
      "             precision    recall  f1-score   support\n",
      "\n",
      "          0       0.99      0.89      0.94      1616\n",
      "          1       0.90      0.99      0.94      1584\n",
      "\n",
      "avg / total       0.95      0.94      0.94      3200\n",
      "\n"
     ]
    },
    {
     "data": {
      "image/png": "[encoded data removed]",
      "text/plain": [
       "<matplotlib.figure.Figure at 0x1afbd94e748>"
      ]
     },
     "metadata": {},
     "output_type": "display_data"
    }
   ],
   "source": [
    "from sklearn.ensemble import RandomForestClassifier\n",
    "\n",
    "rf = RandomForestClassifier(n_estimators = 1000, random_state=42)\n",
    "rf.fit(train_features, train_labels)\n",
    "\n",
    "y_pred = rf.predict(test_features)\n",
    "\n",
    "accuracy = accuracy_score(test_labels, y_pred)\n",
    "print('Accuracy: {:.4f}'.format(accuracy))\n",
    "\n",
    "print(classification_report(test_labels, y_pred))\n",
    "\n",
    "cm = confusion_matrix(y_true = test_labels, y_pred = y_pred)\n",
    "fig, ax = plt.subplots(figsize = (6, 6))\n",
    "ax.matshow(cm, cmap = plt.cm.Blues, alpha = 0.3)\n",
    "for i in range(cm.shape[0]):\n",
    "    for j in range(cm.shape[1]):\n",
    "        ax.text(x=j, y=i, s=cm[i, j], va='center', ha='center')\n",
    "plt.xlabel('predicted label')\n",
    "plt.ylabel('true label');"
   ]
  },
  {
   "cell_type": "code",
   "execution_count": 196,
   "metadata": {},
   "outputs": [
    {
     "data": {
      "image/png": "[encoded data removed]",
      "text/plain": [
       "<matplotlib.figure.Figure at 0x1afbd9a0f60>"
      ]
     },
     "metadata": {},
     "output_type": "display_data"
    }
   ],
   "source": [
    "# Compute predicted probabilities: y_pred_prob\n",
    "y_pred_prob = rf.predict_proba(test_features)[:,1]\n",
    "\n",
    "# Generate ROC curve values: fpr, tpr, thresholds\n",
    "fpr, tpr, thresholds = roc_curve(test_labels, y_pred_prob)\n",
    "\n",
    "# Plot ROC curve\n",
    "plt.plot([0, 1], [0, 1], 'k--')\n",
    "plt.plot(fpr, tpr)\n",
    "plt.xlabel('False Positive Rate')\n",
    "plt.ylabel('True Positive Rate')\n",
    "plt.title('ROC Curve')\n",
    "plt.show()"
   ]
  },
  {
   "cell_type": "code",
   "execution_count": 197,
   "metadata": {},
   "outputs": [
    {
     "name": "stdout",
     "output_type": "stream",
     "text": [
      "AUC: 0.9911520448919894\n"
     ]
    }
   ],
   "source": [
    "# Compute predicted probabilities: y_pred_prob\n",
    "y_pred_prob = rf.predict_proba(test_features)[:,1]\n",
    "\n",
    "# Compute and print AUC score\n",
    "print(\"AUC: {}\".format(roc_auc_score(test_labels, y_pred_prob)))"
   ]
  },
  {
   "cell_type": "code",
   "execution_count": 198,
   "metadata": {
    "scrolled": true
   },
   "outputs": [
    {
     "name": "stdout",
     "output_type": "stream",
     "text": [
      "AUC scores computed using 5-fold cross-validation: [0.98845312 0.99428497 0.98987377 0.99257451 0.9937612 ]\n"
     ]
    }
   ],
   "source": [
    "cv_auc = cross_val_score(rf, features, labels, cv=5, scoring='roc_auc')\n",
    "\n",
    "# Print list of AUC scores\n",
    "print(\"AUC scores computed using 5-fold cross-validation: {}\".format(cv_auc))"
   ]
  },
  {
   "cell_type": "markdown",
   "metadata": {},
   "source": [
    "# Random Forest Tuning"
   ]
  },
  {
   "cell_type": "code",
   "execution_count": 199,
   "metadata": {
    "scrolled": true
   },
   "outputs": [
    {
     "name": "stdout",
     "output_type": "stream",
     "text": [
      "Parameters currently in use:\n",
      "\n",
      "{'bootstrap': True,\n",
      " 'class_weight': None,\n",
      " 'criterion': 'gini',\n",
      " 'max_depth': None,\n",
      " 'max_features': 'auto',\n",
      " 'max_leaf_nodes': None,\n",
      " 'min_impurity_decrease': 0.0,\n",
      " 'min_impurity_split': None,\n",
      " 'min_samples_leaf': 1,\n",
      " 'min_samples_split': 2,\n",
      " 'min_weight_fraction_leaf': 0.0,\n",
      " 'n_estimators': 10,\n",
      " 'n_jobs': 1,\n",
      " 'oob_score': False,\n",
      " 'random_state': 42,\n",
      " 'verbose': 0,\n",
      " 'warm_start': False}\n"
     ]
    }
   ],
   "source": [
    "rf = RandomForestClassifier(random_state = 42)\n",
    "from pprint import pprint\n",
    "\n",
    "print('Parameters currently in use:\\n')\n",
    "pprint(rf.get_params())"
   ]
  },
  {
   "cell_type": "code",
   "execution_count": 201,
   "metadata": {},
   "outputs": [
    {
     "name": "stdout",
     "output_type": "stream",
     "text": [
      "{'n_estimators': [200, 400, 600, 800, 1000, 1200, 1400, 1600, 1800, 2000], 'max_features': ['auto', 'sqrt'], 'max_depth': [1, 2, 3, 4, 5, 6, 7, 8, 9, 10], 'min_samples_split': [2, 5, 10], 'min_samples_leaf': [1, 2, 4], 'bootstrap': [True, False]}\n"
     ]
    }
   ],
   "source": [
    "from sklearn.model_selection import RandomizedSearchCV\n",
    "\n",
    "n_estimators = [int(x) for x in np.linspace(start = 200, stop = 2000, num = 10)]\n",
    "max_features = ['auto', 'sqrt']\n",
    "max_depth = [int(x) for x in np.linspace(1, 10, num = 10)]\n",
    "min_samples_split = [2, 5, 10]\n",
    "min_samples_leaf = [1, 2, 4]\n",
    "bootstrap = [True, False]\n",
    "\n",
    "random_grid = {'n_estimators': n_estimators,\n",
    "               'max_features': max_features,\n",
    "               'max_depth': max_depth,\n",
    "               'min_samples_split': min_samples_split,\n",
    "               'min_samples_leaf': min_samples_leaf,\n",
    "               'bootstrap': bootstrap}\n",
    "print(random_grid)"
   ]
  },
  {
   "cell_type": "code",
   "execution_count": 202,
   "metadata": {},
   "outputs": [
    {
     "name": "stdout",
     "output_type": "stream",
     "text": [
      "Fitting 5 folds for each of 50 candidates, totalling 250 fits\n"
     ]
    },
    {
     "name": "stderr",
     "output_type": "stream",
     "text": [
      "[Parallel(n_jobs=-1)]: Done  25 tasks      | elapsed:  1.7min\n",
      "[Parallel(n_jobs=-1)]: Done 146 tasks      | elapsed:  6.6min\n",
      "[Parallel(n_jobs=-1)]: Done 250 out of 250 | elapsed: 10.6min finished\n"
     ]
    },
    {
     "data": {
      "text/plain": [
       "RandomizedSearchCV(cv=5, error_score='raise',\n",
       "          estimator=RandomForestClassifier(bootstrap=True, class_weight=None, criterion='gini',\n",
       "            max_depth=None, max_features='auto', max_leaf_nodes=None,\n",
       "            min_impurity_decrease=0.0, min_impurity_split=None,\n",
       "            min_samples_leaf=1, min_samples_split=2,\n",
       "            min_weight_fraction_leaf=0.0, n_estimators=10, n_jobs=1,\n",
       "            oob_score=False, random_state=None, verbose=0,\n",
       "            warm_start=False),\n",
       "          fit_params=None, iid=True, n_iter=50, n_jobs=-1,\n",
       "          param_distributions={'n_estimators': [200, 400, 600, 800, 1000, 1200, 1400, 1600, 1800, 2000], 'max_features': ['auto', 'sqrt'], 'max_depth': [1, 2, 3, 4, 5, 6, 7, 8, 9, 10], 'min_samples_split': [2, 5, 10], 'min_samples_leaf': [1, 2, 4], 'bootstrap': [True, False]},\n",
       "          pre_dispatch='2*n_jobs', random_state=42, refit=True,\n",
       "          return_train_score='warn', scoring=None, verbose=2)"
      ]
     },
     "execution_count": 202,
     "metadata": {},
     "output_type": "execute_result"
    }
   ],
   "source": [
    "rf = RandomForestClassifier()\n",
    "rf_random = RandomizedSearchCV(estimator = rf, param_distributions = random_grid, n_iter = 50, cv = 5, verbose=2, random_state=42, n_jobs = -1)\n",
    "rf_random.fit(train_features, train_labels)"
   ]
  },
  {
   "cell_type": "code",
   "execution_count": 203,
   "metadata": {},
   "outputs": [
    {
     "data": {
      "text/plain": [
       "{'bootstrap': True,\n",
       " 'max_depth': 10,\n",
       " 'max_features': 'sqrt',\n",
       " 'min_samples_leaf': 2,\n",
       " 'min_samples_split': 2,\n",
       " 'n_estimators': 600}"
      ]
     },
     "execution_count": 203,
     "metadata": {},
     "output_type": "execute_result"
    }
   ],
   "source": [
    "rf_random.best_params_"
   ]
  },
  {
   "cell_type": "code",
   "execution_count": 204,
   "metadata": {},
   "outputs": [
    {
     "name": "stdout",
     "output_type": "stream",
     "text": [
      "Accuracy: 0.7760\n",
      "             precision    recall  f1-score   support\n",
      "\n",
      "          0       0.99      0.89      0.94      1616\n",
      "          1       0.90      0.99      0.94      1584\n",
      "\n",
      "avg / total       0.95      0.94      0.94      3200\n",
      "\n"
     ]
    },
    {
     "data": {
      "image/png": "[encoded data removed]",
      "text/plain": [
       "<matplotlib.figure.Figure at 0x1afbd9d1c50>"
      ]
     },
     "metadata": {},
     "output_type": "display_data"
    }
   ],
   "source": [
    "accuracy = rf_random.best_score_\n",
    "print('Accuracy: {:.4f}'.format(accuracy))\n",
    "\n",
    "print(classification_report(test_labels, y_pred))\n",
    "\n",
    "cm = confusion_matrix(y_true = test_labels, y_pred = y_pred)\n",
    "fig, ax = plt.subplots(figsize = (6, 6))\n",
    "ax.matshow(cm, cmap = plt.cm.Blues, alpha = 0.3)\n",
    "for i in range(cm.shape[0]):\n",
    "    for j in range(cm.shape[1]):\n",
    "        ax.text(x=j, y=i, s=cm[i, j], va='center', ha='center')\n",
    "plt.xlabel('predicted label')\n",
    "plt.ylabel('true label');"
   ]
  },
  {
   "cell_type": "code",
   "execution_count": 242,
   "metadata": {},
   "outputs": [
    {
     "name": "stdout",
     "output_type": "stream",
     "text": [
      "Fitting 5 folds for each of 32 candidates, totalling 160 fits\n"
     ]
    },
    {
     "name": "stderr",
     "output_type": "stream",
     "text": [
      "[Parallel(n_jobs=-1)]: Done  25 tasks      | elapsed:   40.2s\n",
      "[Parallel(n_jobs=-1)]: Done 160 out of 160 | elapsed:  4.0min finished\n"
     ]
    },
    {
     "data": {
      "text/plain": [
       "GridSearchCV(cv=5, error_score='raise',\n",
       "       estimator=RandomForestClassifier(bootstrap=True, class_weight=None, criterion='gini',\n",
       "            max_depth=None, max_features='auto', max_leaf_nodes=None,\n",
       "            min_impurity_decrease=0.0, min_impurity_split=None,\n",
       "            min_samples_leaf=1, min_samples_split=2,\n",
       "            min_weight_fraction_leaf=0.0, n_estimators=10, n_jobs=1,\n",
       "            oob_score=False, random_state=None, verbose=0,\n",
       "            warm_start=False),\n",
       "       fit_params=None, iid=True, n_jobs=-1,\n",
       "       param_grid={'bootstrap': [True], 'max_depth': [9, 10], 'max_features': ['sqrt'], 'min_samples_leaf': [1, 2], 'min_samples_split': [2, 5], 'n_estimators': [400, 600, 800, 1000]},\n",
       "       pre_dispatch='2*n_jobs', refit=True, return_train_score='warn',\n",
       "       scoring=None, verbose=2)"
      ]
     },
     "execution_count": 242,
     "metadata": {},
     "output_type": "execute_result"
    }
   ],
   "source": [
    "from sklearn.model_selection import GridSearchCV\n",
    "# Create the parameter grid based on the results of random search \n",
    "param_grid = {\n",
    "    'bootstrap': [True],\n",
    "    'max_depth': [9, 10],\n",
    "    'max_features': ['sqrt'],\n",
    "    'min_samples_leaf': [1, 2],\n",
    "    'min_samples_split': [2, 5],\n",
    "    'n_estimators': [400, 600, 800, 1000]\n",
    "}\n",
    "# Create a based model\n",
    "rf = RandomForestClassifier()\n",
    "# Instantiate the grid search model\n",
    "grid_search = GridSearchCV(estimator = rf, param_grid = param_grid, cv = 5, n_jobs = -1, verbose = 2)\n",
    "\n",
    "grid_search.fit(train_features, train_labels)"
   ]
  },
  {
   "cell_type": "code",
   "execution_count": 243,
   "metadata": {},
   "outputs": [
    {
     "data": {
      "text/plain": [
       "{'bootstrap': True,\n",
       " 'max_depth': 10,\n",
       " 'max_features': 'sqrt',\n",
       " 'min_samples_leaf': 1,\n",
       " 'min_samples_split': 2,\n",
       " 'n_estimators': 800}"
      ]
     },
     "execution_count": 243,
     "metadata": {},
     "output_type": "execute_result"
    }
   ],
   "source": [
    "grid_search.best_params_"
   ]
  },
  {
   "cell_type": "code",
   "execution_count": 244,
   "metadata": {},
   "outputs": [
    {
     "data": {
      "text/plain": [
       "0.7888531618435155"
      ]
     },
     "execution_count": 244,
     "metadata": {},
     "output_type": "execute_result"
    }
   ],
   "source": [
    "grid_search.best_score_"
   ]
  },
  {
   "cell_type": "code",
   "execution_count": 253,
   "metadata": {},
   "outputs": [
    {
     "name": "stdout",
     "output_type": "stream",
     "text": [
      "Accuracy: 0.7889\n",
      "             precision    recall  f1-score   support\n",
      "\n",
      "          0       0.82      0.77      0.79      1616\n",
      "          1       0.78      0.83      0.80      1584\n",
      "\n",
      "avg / total       0.80      0.80      0.80      3200\n",
      "\n"
     ]
    },
    {
     "data": {
      "image/png": "[encoded data removed]",
      "text/plain": [
       "<matplotlib.figure.Figure at 0x1afbe71dbe0>"
      ]
     },
     "metadata": {},
     "output_type": "display_data"
    }
   ],
   "source": [
    "rf_b = RandomForestClassifier(n_estimators = 800, bootstrap= True, max_depth = 10, max_features ='sqrt', min_samples_leaf = 1,\n",
    "                              min_samples_split = 2, random_state=42)\n",
    "rf_b.fit(train_features, train_labels)\n",
    "\n",
    "y_pred = rf_b.predict(test_features)\n",
    "\n",
    "accuracy = grid_search.best_score_\n",
    "print('Accuracy: {:.4f}'.format(accuracy))\n",
    "\n",
    "print(classification_report(test_labels, y_pred))\n",
    "\n",
    "cm = confusion_matrix(y_true = test_labels, y_pred = y_pred)\n",
    "fig, ax = plt.subplots(figsize = (6, 6))\n",
    "ax.matshow(cm, cmap = plt.cm.Blues, alpha = 0.3)\n",
    "for i in range(cm.shape[0]):\n",
    "    for j in range(cm.shape[1]):\n",
    "        ax.text(x=j, y=i, s=cm[i, j], va='center', ha='center')\n",
    "plt.xlabel('predicted label')\n",
    "plt.ylabel('true label');"
   ]
  },
  {
   "cell_type": "code",
   "execution_count": 254,
   "metadata": {},
   "outputs": [],
   "source": [
    "y_train_predicted = rf_b.predict(train_features)\n",
    "y_test_predicted = rf_b.predict(test_features)"
   ]
  },
  {
   "cell_type": "code",
   "execution_count": 255,
   "metadata": {},
   "outputs": [
    {
     "name": "stdout",
     "output_type": "stream",
     "text": [
      "Accuracy: 0.8771\n"
     ]
    }
   ],
   "source": [
    "train_accuracy = accuracy_score(train_labels, y_train_predicted)\n",
    "print('Accuracy: {:.4f}'.format(train_accuracy))"
   ]
  },
  {
   "cell_type": "code",
   "execution_count": 256,
   "metadata": {},
   "outputs": [
    {
     "name": "stdout",
     "output_type": "stream",
     "text": [
      "Accuracy: 0.7975\n"
     ]
    }
   ],
   "source": [
    "test_accuracy = accuracy_score(test_labels, y_test_predicted)\n",
    "print('Accuracy: {:.4f}'.format(test_accuracy))"
   ]
  },
  {
   "cell_type": "code",
   "execution_count": 257,
   "metadata": {},
   "outputs": [
    {
     "data": {
      "image/png": "[encoded data removed]",
      "text/plain": [
       "<matplotlib.figure.Figure at 0x1afbe765048>"
      ]
     },
     "metadata": {},
     "output_type": "display_data"
    }
   ],
   "source": [
    "# Compute predicted probabilities: y_pred_prob\n",
    "y_pred_prob = rf_b.predict_proba(test_features)[:,1]\n",
    "\n",
    "# Generate ROC curve values: fpr, tpr, thresholds\n",
    "fpr, tpr, thresholds = roc_curve(test_labels, y_pred_prob)\n",
    "\n",
    "# Plot ROC curve\n",
    "plt.plot([0, 1], [0, 1], 'k--')\n",
    "plt.plot(fpr, tpr)\n",
    "plt.xlabel('False Positive Rate')\n",
    "plt.ylabel('True Positive Rate')\n",
    "plt.title('ROC Curve')\n",
    "plt.show()"
   ]
  },
  {
   "cell_type": "code",
   "execution_count": 258,
   "metadata": {},
   "outputs": [
    {
     "name": "stdout",
     "output_type": "stream",
     "text": [
      "AUC: 0.8714361670542053\n"
     ]
    }
   ],
   "source": [
    "# Compute predicted probabilities: y_pred_prob\n",
    "y_pred_prob = rf_b.predict_proba(test_features)[:,1]\n",
    "\n",
    "# Compute and print AUC score\n",
    "print(\"AUC: {}\".format(roc_auc_score(test_labels, y_pred_prob)))"
   ]
  }
 ],
 "metadata": {
  "kernelspec": {
   "display_name": "Python 3",
   "language": "python",
   "name": "python3"
  },
  "language_info": {
   "codemirror_mode": {
    "name": "ipython",
    "version": 3
   },
   "file_extension": ".py",
   "mimetype": "text/x-python",
   "name": "python",
   "nbconvert_exporter": "python",
   "pygments_lexer": "ipython3",
   "version": "3.6.4"
  }
 },
 "nbformat": 4,
 "nbformat_minor": 2
}
