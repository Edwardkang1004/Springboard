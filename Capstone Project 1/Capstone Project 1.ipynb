{
 "cells": [
  {
   "cell_type": "markdown",
   "metadata": {},
   "source": [
    "# Part 1 Data Wrangling"
   ]
  },
  {
   "cell_type": "code",
   "execution_count": 63,
   "metadata": {
    "scrolled": true
   },
   "outputs": [
    {
     "data": {
      "text/html": [
       "<div>\n",
       "<style scoped>\n",
       "    .dataframe tbody tr th:only-of-type {\n",
       "        vertical-align: middle;\n",
       "    }\n",
       "\n",
       "    .dataframe tbody tr th {\n",
       "        vertical-align: top;\n",
       "    }\n",
       "\n",
       "    .dataframe thead th {\n",
       "        text-align: right;\n",
       "    }\n",
       "</style>\n",
       "<table border=\"1\" class=\"dataframe\">\n",
       "  <thead>\n",
       "    <tr style=\"text-align: right;\">\n",
       "      <th></th>\n",
       "      <th>state</th>\n",
       "      <th>city</th>\n",
       "      <th>colour</th>\n",
       "      <th>shape</th>\n",
       "      <th>mday</th>\n",
       "      <th>month</th>\n",
       "      <th>year</th>\n",
       "      <th>hour</th>\n",
       "      <th>id</th>\n",
       "      <th>duration (seconds)</th>\n",
       "      <th>...</th>\n",
       "      <th>dewpoint</th>\n",
       "      <th>thunder</th>\n",
       "      <th>fog</th>\n",
       "      <th>precip</th>\n",
       "      <th>wingspeed</th>\n",
       "      <th>tornado</th>\n",
       "      <th>hum</th>\n",
       "      <th>snow</th>\n",
       "      <th>wgust</th>\n",
       "      <th>condition</th>\n",
       "    </tr>\n",
       "  </thead>\n",
       "  <tbody>\n",
       "    <tr>\n",
       "      <th>0</th>\n",
       "      <td>WA</td>\n",
       "      <td>Olympia</td>\n",
       "      <td>NaN</td>\n",
       "      <td>Formation</td>\n",
       "      <td>14</td>\n",
       "      <td>11</td>\n",
       "      <td>1997</td>\n",
       "      <td>21</td>\n",
       "      <td>NaN</td>\n",
       "      <td>2700.0</td>\n",
       "      <td>...</td>\n",
       "      <td>-0.867472</td>\n",
       "      <td>0</td>\n",
       "      <td>0</td>\n",
       "      <td>NaN</td>\n",
       "      <td>-0.357641</td>\n",
       "      <td>0</td>\n",
       "      <td>1.598872</td>\n",
       "      <td>0</td>\n",
       "      <td>NaN</td>\n",
       "      <td>Clear</td>\n",
       "    </tr>\n",
       "    <tr>\n",
       "      <th>1</th>\n",
       "      <td>WA</td>\n",
       "      <td>Olympia</td>\n",
       "      <td>NaN</td>\n",
       "      <td>Fireball</td>\n",
       "      <td>14</td>\n",
       "      <td>11</td>\n",
       "      <td>1997</td>\n",
       "      <td>21</td>\n",
       "      <td>NaN</td>\n",
       "      <td>7200.0</td>\n",
       "      <td>...</td>\n",
       "      <td>-0.867472</td>\n",
       "      <td>0</td>\n",
       "      <td>0</td>\n",
       "      <td>NaN</td>\n",
       "      <td>-0.357641</td>\n",
       "      <td>0</td>\n",
       "      <td>1.598872</td>\n",
       "      <td>0</td>\n",
       "      <td>NaN</td>\n",
       "      <td>Clear</td>\n",
       "    </tr>\n",
       "    <tr>\n",
       "      <th>2</th>\n",
       "      <td>WA</td>\n",
       "      <td>Olympia</td>\n",
       "      <td>NaN</td>\n",
       "      <td>Formation</td>\n",
       "      <td>14</td>\n",
       "      <td>11</td>\n",
       "      <td>1997</td>\n",
       "      <td>21</td>\n",
       "      <td>NaN</td>\n",
       "      <td>20.0</td>\n",
       "      <td>...</td>\n",
       "      <td>-0.867472</td>\n",
       "      <td>0</td>\n",
       "      <td>0</td>\n",
       "      <td>NaN</td>\n",
       "      <td>-0.357641</td>\n",
       "      <td>0</td>\n",
       "      <td>1.598872</td>\n",
       "      <td>0</td>\n",
       "      <td>NaN</td>\n",
       "      <td>Clear</td>\n",
       "    </tr>\n",
       "    <tr>\n",
       "      <th>3</th>\n",
       "      <td>MD</td>\n",
       "      <td>Salisbury</td>\n",
       "      <td>NaN</td>\n",
       "      <td>Oval</td>\n",
       "      <td>24</td>\n",
       "      <td>11</td>\n",
       "      <td>1997</td>\n",
       "      <td>2</td>\n",
       "      <td>NaN</td>\n",
       "      <td>20.0</td>\n",
       "      <td>...</td>\n",
       "      <td>-0.464073</td>\n",
       "      <td>0</td>\n",
       "      <td>0</td>\n",
       "      <td>NaN</td>\n",
       "      <td>-0.911239</td>\n",
       "      <td>0</td>\n",
       "      <td>0.980525</td>\n",
       "      <td>0</td>\n",
       "      <td>NaN</td>\n",
       "      <td>Mostly Cloudy</td>\n",
       "    </tr>\n",
       "    <tr>\n",
       "      <th>4</th>\n",
       "      <td>MD</td>\n",
       "      <td>Salisbury</td>\n",
       "      <td>YELLOW</td>\n",
       "      <td>Oval</td>\n",
       "      <td>24</td>\n",
       "      <td>11</td>\n",
       "      <td>1997</td>\n",
       "      <td>2</td>\n",
       "      <td>NaN</td>\n",
       "      <td>900.0</td>\n",
       "      <td>...</td>\n",
       "      <td>-0.464073</td>\n",
       "      <td>0</td>\n",
       "      <td>0</td>\n",
       "      <td>NaN</td>\n",
       "      <td>-0.911239</td>\n",
       "      <td>0</td>\n",
       "      <td>0.980525</td>\n",
       "      <td>0</td>\n",
       "      <td>NaN</td>\n",
       "      <td>Mostly Cloudy</td>\n",
       "    </tr>\n",
       "  </tbody>\n",
       "</table>\n",
       "<p>5 rows × 29 columns</p>\n",
       "</div>"
      ],
      "text/plain": [
       "  state       city  colour      shape  mday  month  year  hour  id  \\\n",
       "0    WA    Olympia     NaN  Formation    14     11  1997    21 NaN   \n",
       "1    WA    Olympia     NaN   Fireball    14     11  1997    21 NaN   \n",
       "2    WA    Olympia     NaN  Formation    14     11  1997    21 NaN   \n",
       "3    MD  Salisbury     NaN       Oval    24     11  1997     2 NaN   \n",
       "4    MD  Salisbury  YELLOW       Oval    24     11  1997     2 NaN   \n",
       "\n",
       "   duration (seconds)  ...  dewpoint  thunder  fog  precip  wingspeed  \\\n",
       "0              2700.0  ... -0.867472        0    0     NaN  -0.357641   \n",
       "1              7200.0  ... -0.867472        0    0     NaN  -0.357641   \n",
       "2                20.0  ... -0.867472        0    0     NaN  -0.357641   \n",
       "3                20.0  ... -0.464073        0    0     NaN  -0.911239   \n",
       "4               900.0  ... -0.464073        0    0     NaN  -0.911239   \n",
       "\n",
       "   tornado       hum  snow wgust      condition  \n",
       "0        0  1.598872     0   NaN          Clear  \n",
       "1        0  1.598872     0   NaN          Clear  \n",
       "2        0  1.598872     0   NaN          Clear  \n",
       "3        0  0.980525     0   NaN  Mostly Cloudy  \n",
       "4        0  0.980525     0   NaN  Mostly Cloudy  \n",
       "\n",
       "[5 rows x 29 columns]"
      ]
     },
     "execution_count": 63,
     "metadata": {},
     "output_type": "execute_result"
    }
   ],
   "source": [
    "import pandas as pd\n",
    "#read ufo.csv file into data frame\n",
    "ufo = pd.read_csv(\"ufo.csv\")\n",
    "ufo.head()"
   ]
  },
  {
   "cell_type": "code",
   "execution_count": 64,
   "metadata": {
    "scrolled": true
   },
   "outputs": [
    {
     "data": {
      "text/html": [
       "<div>\n",
       "<style scoped>\n",
       "    .dataframe tbody tr th:only-of-type {\n",
       "        vertical-align: middle;\n",
       "    }\n",
       "\n",
       "    .dataframe tbody tr th {\n",
       "        vertical-align: top;\n",
       "    }\n",
       "\n",
       "    .dataframe thead th {\n",
       "        text-align: right;\n",
       "    }\n",
       "</style>\n",
       "<table border=\"1\" class=\"dataframe\">\n",
       "  <thead>\n",
       "    <tr style=\"text-align: right;\">\n",
       "      <th></th>\n",
       "      <th>state</th>\n",
       "      <th>city</th>\n",
       "      <th>colour</th>\n",
       "      <th>shape</th>\n",
       "      <th>mday</th>\n",
       "      <th>month</th>\n",
       "      <th>year</th>\n",
       "      <th>hour</th>\n",
       "      <th>duration (seconds)</th>\n",
       "      <th>pressure</th>\n",
       "      <th>...</th>\n",
       "      <th>dewpoint</th>\n",
       "      <th>thunder</th>\n",
       "      <th>fog</th>\n",
       "      <th>precip</th>\n",
       "      <th>wingspeed</th>\n",
       "      <th>tornado</th>\n",
       "      <th>hum</th>\n",
       "      <th>snow</th>\n",
       "      <th>wgust</th>\n",
       "      <th>condition</th>\n",
       "    </tr>\n",
       "  </thead>\n",
       "  <tbody>\n",
       "    <tr>\n",
       "      <th>0</th>\n",
       "      <td>WA</td>\n",
       "      <td>Olympia</td>\n",
       "      <td>NaN</td>\n",
       "      <td>Formation</td>\n",
       "      <td>14</td>\n",
       "      <td>11</td>\n",
       "      <td>1997</td>\n",
       "      <td>21</td>\n",
       "      <td>2700.0</td>\n",
       "      <td>-0.163149</td>\n",
       "      <td>...</td>\n",
       "      <td>-0.867472</td>\n",
       "      <td>0</td>\n",
       "      <td>0</td>\n",
       "      <td>NaN</td>\n",
       "      <td>-0.357641</td>\n",
       "      <td>0</td>\n",
       "      <td>1.598872</td>\n",
       "      <td>0</td>\n",
       "      <td>NaN</td>\n",
       "      <td>Clear</td>\n",
       "    </tr>\n",
       "    <tr>\n",
       "      <th>1</th>\n",
       "      <td>WA</td>\n",
       "      <td>Olympia</td>\n",
       "      <td>NaN</td>\n",
       "      <td>Fireball</td>\n",
       "      <td>14</td>\n",
       "      <td>11</td>\n",
       "      <td>1997</td>\n",
       "      <td>21</td>\n",
       "      <td>7200.0</td>\n",
       "      <td>-0.163149</td>\n",
       "      <td>...</td>\n",
       "      <td>-0.867472</td>\n",
       "      <td>0</td>\n",
       "      <td>0</td>\n",
       "      <td>NaN</td>\n",
       "      <td>-0.357641</td>\n",
       "      <td>0</td>\n",
       "      <td>1.598872</td>\n",
       "      <td>0</td>\n",
       "      <td>NaN</td>\n",
       "      <td>Clear</td>\n",
       "    </tr>\n",
       "    <tr>\n",
       "      <th>2</th>\n",
       "      <td>WA</td>\n",
       "      <td>Olympia</td>\n",
       "      <td>NaN</td>\n",
       "      <td>Formation</td>\n",
       "      <td>14</td>\n",
       "      <td>11</td>\n",
       "      <td>1997</td>\n",
       "      <td>21</td>\n",
       "      <td>20.0</td>\n",
       "      <td>-0.163149</td>\n",
       "      <td>...</td>\n",
       "      <td>-0.867472</td>\n",
       "      <td>0</td>\n",
       "      <td>0</td>\n",
       "      <td>NaN</td>\n",
       "      <td>-0.357641</td>\n",
       "      <td>0</td>\n",
       "      <td>1.598872</td>\n",
       "      <td>0</td>\n",
       "      <td>NaN</td>\n",
       "      <td>Clear</td>\n",
       "    </tr>\n",
       "    <tr>\n",
       "      <th>3</th>\n",
       "      <td>MD</td>\n",
       "      <td>Salisbury</td>\n",
       "      <td>NaN</td>\n",
       "      <td>Oval</td>\n",
       "      <td>24</td>\n",
       "      <td>11</td>\n",
       "      <td>1997</td>\n",
       "      <td>2</td>\n",
       "      <td>20.0</td>\n",
       "      <td>-0.189379</td>\n",
       "      <td>...</td>\n",
       "      <td>-0.464073</td>\n",
       "      <td>0</td>\n",
       "      <td>0</td>\n",
       "      <td>NaN</td>\n",
       "      <td>-0.911239</td>\n",
       "      <td>0</td>\n",
       "      <td>0.980525</td>\n",
       "      <td>0</td>\n",
       "      <td>NaN</td>\n",
       "      <td>Mostly Cloudy</td>\n",
       "    </tr>\n",
       "    <tr>\n",
       "      <th>4</th>\n",
       "      <td>MD</td>\n",
       "      <td>Salisbury</td>\n",
       "      <td>YELLOW</td>\n",
       "      <td>Oval</td>\n",
       "      <td>24</td>\n",
       "      <td>11</td>\n",
       "      <td>1997</td>\n",
       "      <td>2</td>\n",
       "      <td>900.0</td>\n",
       "      <td>-0.189379</td>\n",
       "      <td>...</td>\n",
       "      <td>-0.464073</td>\n",
       "      <td>0</td>\n",
       "      <td>0</td>\n",
       "      <td>NaN</td>\n",
       "      <td>-0.911239</td>\n",
       "      <td>0</td>\n",
       "      <td>0.980525</td>\n",
       "      <td>0</td>\n",
       "      <td>NaN</td>\n",
       "      <td>Mostly Cloudy</td>\n",
       "    </tr>\n",
       "  </tbody>\n",
       "</table>\n",
       "<p>5 rows × 27 columns</p>\n",
       "</div>"
      ],
      "text/plain": [
       "  state       city  colour      shape  mday  month  year  hour  \\\n",
       "0    WA    Olympia     NaN  Formation    14     11  1997    21   \n",
       "1    WA    Olympia     NaN   Fireball    14     11  1997    21   \n",
       "2    WA    Olympia     NaN  Formation    14     11  1997    21   \n",
       "3    MD  Salisbury     NaN       Oval    24     11  1997     2   \n",
       "4    MD  Salisbury  YELLOW       Oval    24     11  1997     2   \n",
       "\n",
       "   duration (seconds)  pressure  ...  dewpoint  thunder  fog  precip  \\\n",
       "0              2700.0 -0.163149  ... -0.867472        0    0     NaN   \n",
       "1              7200.0 -0.163149  ... -0.867472        0    0     NaN   \n",
       "2                20.0 -0.163149  ... -0.867472        0    0     NaN   \n",
       "3                20.0 -0.189379  ... -0.464073        0    0     NaN   \n",
       "4               900.0 -0.189379  ... -0.464073        0    0     NaN   \n",
       "\n",
       "   wingspeed  tornado       hum  snow  wgust      condition  \n",
       "0  -0.357641        0  1.598872     0    NaN          Clear  \n",
       "1  -0.357641        0  1.598872     0    NaN          Clear  \n",
       "2  -0.357641        0  1.598872     0    NaN          Clear  \n",
       "3  -0.911239        0  0.980525     0    NaN  Mostly Cloudy  \n",
       "4  -0.911239        0  0.980525     0    NaN  Mostly Cloudy  \n",
       "\n",
       "[5 rows x 27 columns]"
      ]
     },
     "execution_count": 64,
     "metadata": {},
     "output_type": "execute_result"
    }
   ],
   "source": [
    "# drop the usless columns\n",
    "ufo = ufo.drop(columns=['duration (hours/min)','id'],axis=1)\n",
    "ufo.head()"
   ]
  },
  {
   "cell_type": "code",
   "execution_count": 65,
   "metadata": {},
   "outputs": [
    {
     "data": {
      "text/html": [
       "<div>\n",
       "<style scoped>\n",
       "    .dataframe tbody tr th:only-of-type {\n",
       "        vertical-align: middle;\n",
       "    }\n",
       "\n",
       "    .dataframe tbody tr th {\n",
       "        vertical-align: top;\n",
       "    }\n",
       "\n",
       "    .dataframe thead th {\n",
       "        text-align: right;\n",
       "    }\n",
       "</style>\n",
       "<table border=\"1\" class=\"dataframe\">\n",
       "  <thead>\n",
       "    <tr style=\"text-align: right;\">\n",
       "      <th></th>\n",
       "      <th>state</th>\n",
       "      <th>city</th>\n",
       "      <th>colour</th>\n",
       "      <th>shape</th>\n",
       "      <th>mday</th>\n",
       "      <th>month</th>\n",
       "      <th>year</th>\n",
       "      <th>hour</th>\n",
       "      <th>duration</th>\n",
       "      <th>pressure</th>\n",
       "      <th>...</th>\n",
       "      <th>dewpoint</th>\n",
       "      <th>thunder</th>\n",
       "      <th>fog</th>\n",
       "      <th>precip</th>\n",
       "      <th>wingspeed</th>\n",
       "      <th>tornado</th>\n",
       "      <th>hum</th>\n",
       "      <th>snow</th>\n",
       "      <th>wgust</th>\n",
       "      <th>condition</th>\n",
       "    </tr>\n",
       "  </thead>\n",
       "  <tbody>\n",
       "    <tr>\n",
       "      <th>0</th>\n",
       "      <td>WA</td>\n",
       "      <td>Olympia</td>\n",
       "      <td>NaN</td>\n",
       "      <td>Formation</td>\n",
       "      <td>14</td>\n",
       "      <td>11</td>\n",
       "      <td>1997</td>\n",
       "      <td>21</td>\n",
       "      <td>2700.0</td>\n",
       "      <td>-0.163149</td>\n",
       "      <td>...</td>\n",
       "      <td>-0.867472</td>\n",
       "      <td>0</td>\n",
       "      <td>0</td>\n",
       "      <td>NaN</td>\n",
       "      <td>-0.357641</td>\n",
       "      <td>0</td>\n",
       "      <td>1.598872</td>\n",
       "      <td>0</td>\n",
       "      <td>NaN</td>\n",
       "      <td>Clear</td>\n",
       "    </tr>\n",
       "    <tr>\n",
       "      <th>1</th>\n",
       "      <td>WA</td>\n",
       "      <td>Olympia</td>\n",
       "      <td>NaN</td>\n",
       "      <td>Fireball</td>\n",
       "      <td>14</td>\n",
       "      <td>11</td>\n",
       "      <td>1997</td>\n",
       "      <td>21</td>\n",
       "      <td>7200.0</td>\n",
       "      <td>-0.163149</td>\n",
       "      <td>...</td>\n",
       "      <td>-0.867472</td>\n",
       "      <td>0</td>\n",
       "      <td>0</td>\n",
       "      <td>NaN</td>\n",
       "      <td>-0.357641</td>\n",
       "      <td>0</td>\n",
       "      <td>1.598872</td>\n",
       "      <td>0</td>\n",
       "      <td>NaN</td>\n",
       "      <td>Clear</td>\n",
       "    </tr>\n",
       "    <tr>\n",
       "      <th>2</th>\n",
       "      <td>WA</td>\n",
       "      <td>Olympia</td>\n",
       "      <td>NaN</td>\n",
       "      <td>Formation</td>\n",
       "      <td>14</td>\n",
       "      <td>11</td>\n",
       "      <td>1997</td>\n",
       "      <td>21</td>\n",
       "      <td>20.0</td>\n",
       "      <td>-0.163149</td>\n",
       "      <td>...</td>\n",
       "      <td>-0.867472</td>\n",
       "      <td>0</td>\n",
       "      <td>0</td>\n",
       "      <td>NaN</td>\n",
       "      <td>-0.357641</td>\n",
       "      <td>0</td>\n",
       "      <td>1.598872</td>\n",
       "      <td>0</td>\n",
       "      <td>NaN</td>\n",
       "      <td>Clear</td>\n",
       "    </tr>\n",
       "    <tr>\n",
       "      <th>3</th>\n",
       "      <td>MD</td>\n",
       "      <td>Salisbury</td>\n",
       "      <td>NaN</td>\n",
       "      <td>Oval</td>\n",
       "      <td>24</td>\n",
       "      <td>11</td>\n",
       "      <td>1997</td>\n",
       "      <td>2</td>\n",
       "      <td>20.0</td>\n",
       "      <td>-0.189379</td>\n",
       "      <td>...</td>\n",
       "      <td>-0.464073</td>\n",
       "      <td>0</td>\n",
       "      <td>0</td>\n",
       "      <td>NaN</td>\n",
       "      <td>-0.911239</td>\n",
       "      <td>0</td>\n",
       "      <td>0.980525</td>\n",
       "      <td>0</td>\n",
       "      <td>NaN</td>\n",
       "      <td>Mostly Cloudy</td>\n",
       "    </tr>\n",
       "    <tr>\n",
       "      <th>4</th>\n",
       "      <td>MD</td>\n",
       "      <td>Salisbury</td>\n",
       "      <td>YELLOW</td>\n",
       "      <td>Oval</td>\n",
       "      <td>24</td>\n",
       "      <td>11</td>\n",
       "      <td>1997</td>\n",
       "      <td>2</td>\n",
       "      <td>900.0</td>\n",
       "      <td>-0.189379</td>\n",
       "      <td>...</td>\n",
       "      <td>-0.464073</td>\n",
       "      <td>0</td>\n",
       "      <td>0</td>\n",
       "      <td>NaN</td>\n",
       "      <td>-0.911239</td>\n",
       "      <td>0</td>\n",
       "      <td>0.980525</td>\n",
       "      <td>0</td>\n",
       "      <td>NaN</td>\n",
       "      <td>Mostly Cloudy</td>\n",
       "    </tr>\n",
       "  </tbody>\n",
       "</table>\n",
       "<p>5 rows × 27 columns</p>\n",
       "</div>"
      ],
      "text/plain": [
       "  state       city  colour      shape  mday  month  year  hour  duration  \\\n",
       "0    WA    Olympia     NaN  Formation    14     11  1997    21    2700.0   \n",
       "1    WA    Olympia     NaN   Fireball    14     11  1997    21    7200.0   \n",
       "2    WA    Olympia     NaN  Formation    14     11  1997    21      20.0   \n",
       "3    MD  Salisbury     NaN       Oval    24     11  1997     2      20.0   \n",
       "4    MD  Salisbury  YELLOW       Oval    24     11  1997     2     900.0   \n",
       "\n",
       "   pressure  ...  dewpoint  thunder  fog  precip  wingspeed  tornado  \\\n",
       "0 -0.163149  ... -0.867472        0    0     NaN  -0.357641        0   \n",
       "1 -0.163149  ... -0.867472        0    0     NaN  -0.357641        0   \n",
       "2 -0.163149  ... -0.867472        0    0     NaN  -0.357641        0   \n",
       "3 -0.189379  ... -0.464073        0    0     NaN  -0.911239        0   \n",
       "4 -0.189379  ... -0.464073        0    0     NaN  -0.911239        0   \n",
       "\n",
       "        hum  snow  wgust      condition  \n",
       "0  1.598872     0    NaN          Clear  \n",
       "1  1.598872     0    NaN          Clear  \n",
       "2  1.598872     0    NaN          Clear  \n",
       "3  0.980525     0    NaN  Mostly Cloudy  \n",
       "4  0.980525     0    NaN  Mostly Cloudy  \n",
       "\n",
       "[5 rows x 27 columns]"
      ]
     },
     "execution_count": 65,
     "metadata": {},
     "output_type": "execute_result"
    }
   ],
   "source": [
    "#rename 'duration (seconds)' columns\n",
    "ufo = ufo.rename(columns={'duration (seconds)': 'duration'})\n",
    "ufo.head()"
   ]
  },
  {
   "cell_type": "code",
   "execution_count": 66,
   "metadata": {},
   "outputs": [
    {
     "data": {
      "text/plain": [
       "(51870, 27)"
      ]
     },
     "execution_count": 66,
     "metadata": {},
     "output_type": "execute_result"
    }
   ],
   "source": [
    "#check how many rows in the data\n",
    "ufo.shape"
   ]
  },
  {
   "cell_type": "code",
   "execution_count": 67,
   "metadata": {},
   "outputs": [
    {
     "data": {
      "text/plain": [
       "state             0\n",
       "city              0\n",
       "colour        51790\n",
       "shape             2\n",
       "mday              0\n",
       "month             0\n",
       "year              0\n",
       "hour              0\n",
       "duration          1\n",
       "pressure        211\n",
       "temp            326\n",
       "hail              0\n",
       "heatindex     48281\n",
       "windchill     43152\n",
       "rain              0\n",
       "visibility      700\n",
       "winddire          7\n",
       "dewpoint        477\n",
       "thunder           0\n",
       "fog               0\n",
       "precip        49859\n",
       "wingspeed       347\n",
       "tornado           0\n",
       "hum             478\n",
       "snow              0\n",
       "wgust         48596\n",
       "condition         7\n",
       "dtype: int64"
      ]
     },
     "execution_count": 67,
     "metadata": {},
     "output_type": "execute_result"
    }
   ],
   "source": [
    "#check how many null values of every columns\n",
    "ufo.isnull().sum(axis = 0)"
   ]
  },
  {
   "cell_type": "code",
   "execution_count": 68,
   "metadata": {},
   "outputs": [
    {
     "data": {
      "text/html": [
       "<div>\n",
       "<style scoped>\n",
       "    .dataframe tbody tr th:only-of-type {\n",
       "        vertical-align: middle;\n",
       "    }\n",
       "\n",
       "    .dataframe tbody tr th {\n",
       "        vertical-align: top;\n",
       "    }\n",
       "\n",
       "    .dataframe thead th {\n",
       "        text-align: right;\n",
       "    }\n",
       "</style>\n",
       "<table border=\"1\" class=\"dataframe\">\n",
       "  <thead>\n",
       "    <tr style=\"text-align: right;\">\n",
       "      <th></th>\n",
       "      <th>state</th>\n",
       "      <th>city</th>\n",
       "      <th>shape</th>\n",
       "      <th>mday</th>\n",
       "      <th>month</th>\n",
       "      <th>year</th>\n",
       "      <th>hour</th>\n",
       "      <th>duration</th>\n",
       "      <th>pressure</th>\n",
       "      <th>temp</th>\n",
       "      <th>...</th>\n",
       "      <th>visibility</th>\n",
       "      <th>winddire</th>\n",
       "      <th>dewpoint</th>\n",
       "      <th>thunder</th>\n",
       "      <th>fog</th>\n",
       "      <th>wingspeed</th>\n",
       "      <th>tornado</th>\n",
       "      <th>hum</th>\n",
       "      <th>snow</th>\n",
       "      <th>condition</th>\n",
       "    </tr>\n",
       "  </thead>\n",
       "  <tbody>\n",
       "    <tr>\n",
       "      <th>0</th>\n",
       "      <td>WA</td>\n",
       "      <td>Olympia</td>\n",
       "      <td>Formation</td>\n",
       "      <td>14</td>\n",
       "      <td>11</td>\n",
       "      <td>1997</td>\n",
       "      <td>21</td>\n",
       "      <td>2700.0</td>\n",
       "      <td>-0.163149</td>\n",
       "      <td>-1.618531</td>\n",
       "      <td>...</td>\n",
       "      <td>-2.461666</td>\n",
       "      <td>South</td>\n",
       "      <td>-0.867472</td>\n",
       "      <td>0</td>\n",
       "      <td>0</td>\n",
       "      <td>-0.357641</td>\n",
       "      <td>0</td>\n",
       "      <td>1.598872</td>\n",
       "      <td>0</td>\n",
       "      <td>Clear</td>\n",
       "    </tr>\n",
       "    <tr>\n",
       "      <th>1</th>\n",
       "      <td>WA</td>\n",
       "      <td>Olympia</td>\n",
       "      <td>Fireball</td>\n",
       "      <td>14</td>\n",
       "      <td>11</td>\n",
       "      <td>1997</td>\n",
       "      <td>21</td>\n",
       "      <td>7200.0</td>\n",
       "      <td>-0.163149</td>\n",
       "      <td>-1.618531</td>\n",
       "      <td>...</td>\n",
       "      <td>-2.461666</td>\n",
       "      <td>South</td>\n",
       "      <td>-0.867472</td>\n",
       "      <td>0</td>\n",
       "      <td>0</td>\n",
       "      <td>-0.357641</td>\n",
       "      <td>0</td>\n",
       "      <td>1.598872</td>\n",
       "      <td>0</td>\n",
       "      <td>Clear</td>\n",
       "    </tr>\n",
       "    <tr>\n",
       "      <th>2</th>\n",
       "      <td>WA</td>\n",
       "      <td>Olympia</td>\n",
       "      <td>Formation</td>\n",
       "      <td>14</td>\n",
       "      <td>11</td>\n",
       "      <td>1997</td>\n",
       "      <td>21</td>\n",
       "      <td>20.0</td>\n",
       "      <td>-0.163149</td>\n",
       "      <td>-1.618531</td>\n",
       "      <td>...</td>\n",
       "      <td>-2.461666</td>\n",
       "      <td>South</td>\n",
       "      <td>-0.867472</td>\n",
       "      <td>0</td>\n",
       "      <td>0</td>\n",
       "      <td>-0.357641</td>\n",
       "      <td>0</td>\n",
       "      <td>1.598872</td>\n",
       "      <td>0</td>\n",
       "      <td>Clear</td>\n",
       "    </tr>\n",
       "    <tr>\n",
       "      <th>3</th>\n",
       "      <td>MD</td>\n",
       "      <td>Salisbury</td>\n",
       "      <td>Oval</td>\n",
       "      <td>24</td>\n",
       "      <td>11</td>\n",
       "      <td>1997</td>\n",
       "      <td>2</td>\n",
       "      <td>20.0</td>\n",
       "      <td>-0.189379</td>\n",
       "      <td>-1.005539</td>\n",
       "      <td>...</td>\n",
       "      <td>-0.493176</td>\n",
       "      <td>North</td>\n",
       "      <td>-0.464073</td>\n",
       "      <td>0</td>\n",
       "      <td>0</td>\n",
       "      <td>-0.911239</td>\n",
       "      <td>0</td>\n",
       "      <td>0.980525</td>\n",
       "      <td>0</td>\n",
       "      <td>Mostly Cloudy</td>\n",
       "    </tr>\n",
       "    <tr>\n",
       "      <th>4</th>\n",
       "      <td>MD</td>\n",
       "      <td>Salisbury</td>\n",
       "      <td>Oval</td>\n",
       "      <td>24</td>\n",
       "      <td>11</td>\n",
       "      <td>1997</td>\n",
       "      <td>2</td>\n",
       "      <td>900.0</td>\n",
       "      <td>-0.189379</td>\n",
       "      <td>-1.005539</td>\n",
       "      <td>...</td>\n",
       "      <td>-0.493176</td>\n",
       "      <td>North</td>\n",
       "      <td>-0.464073</td>\n",
       "      <td>0</td>\n",
       "      <td>0</td>\n",
       "      <td>-0.911239</td>\n",
       "      <td>0</td>\n",
       "      <td>0.980525</td>\n",
       "      <td>0</td>\n",
       "      <td>Mostly Cloudy</td>\n",
       "    </tr>\n",
       "  </tbody>\n",
       "</table>\n",
       "<p>5 rows × 22 columns</p>\n",
       "</div>"
      ],
      "text/plain": [
       "  state       city      shape  mday  month  year  hour  duration  pressure  \\\n",
       "0    WA    Olympia  Formation    14     11  1997    21    2700.0 -0.163149   \n",
       "1    WA    Olympia   Fireball    14     11  1997    21    7200.0 -0.163149   \n",
       "2    WA    Olympia  Formation    14     11  1997    21      20.0 -0.163149   \n",
       "3    MD  Salisbury       Oval    24     11  1997     2      20.0 -0.189379   \n",
       "4    MD  Salisbury       Oval    24     11  1997     2     900.0 -0.189379   \n",
       "\n",
       "       temp  ...  visibility  winddire  dewpoint thunder  fog  wingspeed  \\\n",
       "0 -1.618531  ...   -2.461666     South -0.867472       0    0  -0.357641   \n",
       "1 -1.618531  ...   -2.461666     South -0.867472       0    0  -0.357641   \n",
       "2 -1.618531  ...   -2.461666     South -0.867472       0    0  -0.357641   \n",
       "3 -1.005539  ...   -0.493176     North -0.464073       0    0  -0.911239   \n",
       "4 -1.005539  ...   -0.493176     North -0.464073       0    0  -0.911239   \n",
       "\n",
       "   tornado       hum  snow      condition  \n",
       "0        0  1.598872     0          Clear  \n",
       "1        0  1.598872     0          Clear  \n",
       "2        0  1.598872     0          Clear  \n",
       "3        0  0.980525     0  Mostly Cloudy  \n",
       "4        0  0.980525     0  Mostly Cloudy  \n",
       "\n",
       "[5 rows x 22 columns]"
      ]
     },
     "execution_count": 68,
     "metadata": {},
     "output_type": "execute_result"
    }
   ],
   "source": [
    "#drop the columns that have 80% or above null values\n",
    "ufo = ufo.drop(columns=['colour','heatindex','heatindex','windchill','precip','wgust'],axis=1)\n",
    "ufo.head()"
   ]
  },
  {
   "cell_type": "code",
   "execution_count": 69,
   "metadata": {},
   "outputs": [
    {
     "data": {
      "text/plain": [
       "state         0\n",
       "city          0\n",
       "shape         0\n",
       "mday          0\n",
       "month         0\n",
       "year          0\n",
       "hour          0\n",
       "duration      0\n",
       "pressure      0\n",
       "temp          0\n",
       "hail          0\n",
       "rain          0\n",
       "visibility    0\n",
       "winddire      6\n",
       "dewpoint      0\n",
       "thunder       0\n",
       "fog           0\n",
       "wingspeed     0\n",
       "tornado       0\n",
       "hum           0\n",
       "snow          0\n",
       "condition     0\n",
       "dtype: int64"
      ]
     },
     "execution_count": 69,
     "metadata": {},
     "output_type": "execute_result"
    }
   ],
   "source": [
    "#drop the null value in 'duration' ,'shape','winddire','condition' columns\n",
    "ufo = ufo.dropna(subset=['duration','pressure','temp','visibility','dewpoint','wingspeed','hum','shape','condition'])\n",
    "ufo.isnull().sum()"
   ]
  },
  {
   "cell_type": "code",
   "execution_count": 70,
   "metadata": {},
   "outputs": [],
   "source": [
    "#in the 'duration' column, the '0' rows are also null values\n",
    "ufo = ufo[ufo['duration'] != 0]"
   ]
  },
  {
   "cell_type": "code",
   "execution_count": 71,
   "metadata": {},
   "outputs": [],
   "source": [
    "import requests\n",
    "import json"
   ]
  },
  {
   "cell_type": "code",
   "execution_count": 72,
   "metadata": {},
   "outputs": [],
   "source": [
    "API_KEY = 'ce571b74b167ec66426ce321af16cc781191a5cc'\n",
    "url = 'https://api.census.gov/data/2018/pep/population?get=DENSITY,POP,GEONAME&for=state:*&key=' + API_KEY\n",
    "r = requests.get(url)\n",
    "r_json = r.json()"
   ]
  },
  {
   "cell_type": "code",
   "execution_count": 73,
   "metadata": {},
   "outputs": [],
   "source": [
    "#convert the jason data into DataFrame\n",
    "population = pd.DataFrame(r_json[1:], columns = r_json[0])"
   ]
  },
  {
   "cell_type": "code",
   "execution_count": 74,
   "metadata": {},
   "outputs": [],
   "source": [
    "state = {\n",
    "    'Alabama': 'AL',\n",
    "    'Alaska': 'AK',\n",
    "    'Arizona': 'AZ',\n",
    "    'Arkansas': 'AR',\n",
    "    'California': 'CA',\n",
    "    'Colorado': 'CO',\n",
    "    'Connecticut': 'CT',\n",
    "    'Delaware': 'DE',\n",
    "    'Florida': 'FL',\n",
    "    'Georgia': 'GA',\n",
    "    'Hawaii': 'HI',\n",
    "    'Idaho': 'ID',\n",
    "    'Illinois': 'IL',\n",
    "    'Indiana': 'IN',\n",
    "    'Iowa': 'IA',\n",
    "    'Kansas': 'KS',\n",
    "    'Kentucky': 'KY',\n",
    "    'Louisiana': 'LA',\n",
    "    'Maine': 'ME',\n",
    "    'Maryland': 'MD',\n",
    "    'Massachusetts': 'MA',\n",
    "    'Michigan': 'MI',\n",
    "    'Minnesota': 'MN',\n",
    "    'Mississippi': 'MS',\n",
    "    'Missouri': 'MO',\n",
    "    'Montana': 'MT',\n",
    "    'Nebraska': 'NE',\n",
    "    'Nevada': 'NV',\n",
    "    'New Hampshire': 'NH',\n",
    "    'New Jersey': 'NJ',\n",
    "    'New Mexico': 'NM',\n",
    "    'New York': 'NY',\n",
    "    'North Carolina': 'NC',\n",
    "    'North Dakota': 'ND',\n",
    "    'Ohio': 'OH',\n",
    "    'Oklahoma': 'OK',\n",
    "    'Oregon': 'OR',\n",
    "    'Pennsylvania': 'PA',\n",
    "    'Rhode Island': 'RI',\n",
    "    'South Carolina': 'SC',\n",
    "    'South Dakota': 'SD',\n",
    "    'Tennessee': 'TN',\n",
    "    'Texas': 'TX',\n",
    "    'Utah': 'UT',\n",
    "    'Vermont': 'VT',\n",
    "    'Virginia': 'VA',\n",
    "    'Washington': 'WA',\n",
    "    'West Virginia': 'WV',\n",
    "    'Wisconsin': 'WI',\n",
    "    'Wyoming': 'WY',\n",
    "}"
   ]
  },
  {
   "cell_type": "code",
   "execution_count": 75,
   "metadata": {},
   "outputs": [],
   "source": [
    "population['state']= population['GEONAME'].map(state)"
   ]
  },
  {
   "cell_type": "code",
   "execution_count": 76,
   "metadata": {},
   "outputs": [
    {
     "name": "stdout",
     "output_type": "stream",
     "text": [
      "  state       city      shape  mday  month  year  hour  duration  pressure  \\\n",
      "0    WA    Olympia  Formation    14     11  1997    21    2700.0 -0.163149   \n",
      "1    WA    Olympia   Fireball    14     11  1997    21    7200.0 -0.163149   \n",
      "2    WA    Olympia  Formation    14     11  1997    21      20.0 -0.163149   \n",
      "3    MD  Salisbury       Oval    24     11  1997     2      20.0 -0.189379   \n",
      "4    MD  Salisbury       Oval    24     11  1997     2     900.0 -0.189379   \n",
      "\n",
      "       temp  ...  dewpoint  thunder  fog wingspeed  tornado       hum  snow  \\\n",
      "0 -1.618531  ... -0.867472        0    0 -0.357641        0  1.598872     0   \n",
      "1 -1.618531  ... -0.867472        0    0 -0.357641        0  1.598872     0   \n",
      "2 -1.618531  ... -0.867472        0    0 -0.357641        0  1.598872     0   \n",
      "3 -1.005539  ... -0.464073        0    0 -0.911239        0  0.980525     0   \n",
      "4 -1.005539  ... -0.464073        0    0 -0.911239        0  0.980525     0   \n",
      "\n",
      "       condition       DENSITY      POP  \n",
      "0          Clear  113.39722716  7535591  \n",
      "1          Clear  113.39722716  7535591  \n",
      "2          Clear  113.39722716  7535591  \n",
      "3  Mostly Cloudy  622.26172745  6042718  \n",
      "4  Mostly Cloudy  622.26172745  6042718  \n",
      "\n",
      "[5 rows x 24 columns]\n"
     ]
    }
   ],
   "source": [
    "#merge the density and population data into ufo\n",
    "ufo_new = pd.merge(ufo, population[['DENSITY','POP','state']],on='state', how = 'left')\n",
    "print(ufo_new.head())"
   ]
  },
  {
   "cell_type": "code",
   "execution_count": 77,
   "metadata": {},
   "outputs": [],
   "source": [
    "#check if there are null values in 'DENSITY'and 'POP' coulumns\n",
    "ufo_new[['DENSITY','POP']].isnull().sum(axis = 0)\n",
    "ufo_new['POP'] = ufo_new['POP'].astype('float64')\n",
    "ufo_new['DENSITY'] = ufo_new['DENSITY'].astype('float64')"
   ]
  },
  {
   "cell_type": "code",
   "execution_count": 78,
   "metadata": {},
   "outputs": [
    {
     "name": "stdout",
     "output_type": "stream",
     "text": [
      "  state       city      shape  mday  month  year  hour  duration  pressure  \\\n",
      "0    WA    Olympia  Formation    14     11  1997    21    2700.0 -0.163149   \n",
      "1    WA    Olympia   Fireball    14     11  1997    21    7200.0 -0.163149   \n",
      "2    WA    Olympia  Formation    14     11  1997    21      20.0 -0.163149   \n",
      "3    MD  Salisbury       Oval    24     11  1997     2      20.0 -0.189379   \n",
      "4    MD  Salisbury       Oval    24     11  1997     2     900.0 -0.189379   \n",
      "\n",
      "       temp  ...  dewpoint  thunder  fog wingspeed  tornado       hum  snow  \\\n",
      "0 -1.618531  ... -0.867472        0    0 -0.357641        0  1.598872     0   \n",
      "1 -1.618531  ... -0.867472        0    0 -0.357641        0  1.598872     0   \n",
      "2 -1.618531  ... -0.867472        0    0 -0.357641        0  1.598872     0   \n",
      "3 -1.005539  ... -0.464073        0    0 -0.911239        0  0.980525     0   \n",
      "4 -1.005539  ... -0.464073        0    0 -0.911239        0  0.980525     0   \n",
      "\n",
      "       condition     density        pop  \n",
      "0          Clear  113.397227  7535591.0  \n",
      "1          Clear  113.397227  7535591.0  \n",
      "2          Clear  113.397227  7535591.0  \n",
      "3  Mostly Cloudy  622.261727  6042718.0  \n",
      "4  Mostly Cloudy  622.261727  6042718.0  \n",
      "\n",
      "[5 rows x 24 columns]\n"
     ]
    },
    {
     "data": {
      "text/plain": [
       "(46362, 24)"
      ]
     },
     "execution_count": 78,
     "metadata": {},
     "output_type": "execute_result"
    }
   ],
   "source": [
    "#drop the null values row in 'DENSITY'and 'POP' coulumns\n",
    "ufo_final = ufo_new.dropna(subset=['DENSITY','POP'])\n",
    "ufo_final.columns = ufo_final.columns.str.lower()\n",
    "print(ufo_final.head())\n",
    "ufo_final.shape"
   ]
  },
  {
   "cell_type": "markdown",
   "metadata": {},
   "source": [
    "# Part 2 Data Story Telling"
   ]
  },
  {
   "cell_type": "code",
   "execution_count": 17,
   "metadata": {},
   "outputs": [],
   "source": [
    "import numpy as np\n",
    "import matplotlib.pyplot as plt\n",
    "import seaborn as sns"
   ]
  },
  {
   "cell_type": "code",
   "execution_count": 18,
   "metadata": {},
   "outputs": [
    {
     "data": {
      "image/png": "[encoded data removed]",
      "text/plain": [
       "<Figure size 1440x720 with 1 Axes>"
      ]
     },
     "metadata": {
      "needs_background": "light"
     },
     "output_type": "display_data"
    }
   ],
   "source": [
    "#plot the trend of ufo sighting every years\n",
    "ufo_peryear = ufo_final.groupby('year').year.count()\n",
    "year = ufo_final['year'].unique()\n",
    "plt.figure(figsize=(20,10))\n",
    "plt.xticks(year)\n",
    "plt.title('UFO Sightings per Year')\n",
    "plt.xlabel('Year')\n",
    "plt.ylabel('Number of Sightings')\n",
    "plt.plot(ufo_peryear)\n",
    "plt.show()"
   ]
  },
  {
   "cell_type": "markdown",
   "metadata": {},
   "source": [
    "From the plot we can see the unmber of UFO sighting has an upward trend from 1997 till 2014. 2014 was the year recorded sighting the most UFOs. The number of UFO sighting started decreasing after 2014."
   ]
  },
  {
   "cell_type": "code",
   "execution_count": 19,
   "metadata": {},
   "outputs": [
    {
     "data": {
      "image/png": "[encoded data removed]",
      "text/plain": [
       "<Figure size 1440x720 with 1 Axes>"
      ]
     },
     "metadata": {
      "needs_background": "light"
     },
     "output_type": "display_data"
    }
   ],
   "source": [
    "#plot to see which months sighted ufo\n",
    "plt.figure(figsize=(20,10))\n",
    "mc = ufo_final['month'].value_counts().sort_index()\n",
    "mci = mc.index\n",
    "mcy = mc.get_values()\n",
    "sns.barplot(x=mci, y=mcy)\n",
    "plt.xlabel('Month')\n",
    "plt.ylabel(\"Frequency\")\n",
    "plt.title(\"Sightings - Month\")\n",
    "plt.show()"
   ]
  },
  {
   "cell_type": "markdown",
   "metadata": {},
   "source": [
    "From the plot we can see Summer and Fall have higher frequency of UFO sighting."
   ]
  },
  {
   "cell_type": "code",
   "execution_count": 20,
   "metadata": {},
   "outputs": [
    {
     "data": {
      "image/png": "[encoded data removed]",
      "text/plain": [
       "<Figure size 1440x720 with 1 Axes>"
      ]
     },
     "metadata": {
      "needs_background": "light"
     },
     "output_type": "display_data"
    }
   ],
   "source": [
    "#plot the trend of ufo sighting during a day\n",
    "ufo_perhour= ufo_final.groupby('hour').hour.count()\n",
    "year = ufo_final['hour'].unique()\n",
    "plt.figure(figsize=(20,10))\n",
    "plt.xticks(year)\n",
    "plt.title('UFO Sightings during a Day')\n",
    "plt.xlabel('Hour')\n",
    "plt.ylabel('Number of Sightings')\n",
    "plt.plot(ufo_perhour)\n",
    "plt.show()"
   ]
  },
  {
   "cell_type": "markdown",
   "metadata": {},
   "source": [
    "We can see UFO sightings mostly happened during night time from 6 pm to 12 am. The trend starts to drop down after 12 since people go to sleep."
   ]
  },
  {
   "cell_type": "code",
   "execution_count": 21,
   "metadata": {},
   "outputs": [
    {
     "data": {
      "image/png": "[encoded data removed]",
      "text/plain": [
       "<Figure size 1440x720 with 1 Axes>"
      ]
     },
     "metadata": {
      "needs_background": "light"
     },
     "output_type": "display_data"
    }
   ],
   "source": [
    "#plot to see what shapes were sighted\n",
    "plt.figure(figsize=(20,10))\n",
    "plt.title('UFO Shape')\n",
    "plt.xlabel('Shape')\n",
    "plt.ylabel('Different Shape Counting')\n",
    "ufo_final['shape'].value_counts().plot('bar')\n",
    "plt.xticks(rotation=45)\n",
    "plt.show()"
   ]
  },
  {
   "cell_type": "markdown",
   "metadata": {},
   "source": [
    "From the plot we can see most of the UFOs shape is light."
   ]
  },
  {
   "cell_type": "code",
   "execution_count": 22,
   "metadata": {},
   "outputs": [
    {
     "data": {
      "image/png": "[encoded data removed]",
      "text/plain": [
       "<Figure size 1440x720 with 1 Axes>"
      ]
     },
     "metadata": {
      "needs_background": "light"
     },
     "output_type": "display_data"
    }
   ],
   "source": [
    "#how long did the sighting last \n",
    "plt.figure(figsize=(20,10))\n",
    "duration = [i for i in ufo_final['duration'].value_counts()]\n",
    "duration_list = []\n",
    "for i in duration:\n",
    "    if i in range(0,16):\n",
    "        duration_list.append(\"0-15\")\n",
    "    if i in range(15,31):\n",
    "        duration_list.append(\"15-30\")\n",
    "    if i in range(31,61):\n",
    "        duration_list.append(\"30-60\")\n",
    "    if i in range(60,121):\n",
    "        duration_list.append(\"60-120\")\n",
    "    if i in range(120,241):\n",
    "        duration_list.append(\"120-240\")\n",
    "    if i > 240:\n",
    "        duration_list.append(\">240\")\n",
    "duration_list = pd.Series(duration_list)\n",
    "di = duration_list.value_counts().index\n",
    "dv = duration_list.value_counts().get_values()\n",
    "sns.barplot(di,dv)\n",
    "plt.title('Duration')\n",
    "plt.xlabel('Seconds')\n",
    "plt.ylabel('Rates')\n",
    "plt.show()"
   ]
  },
  {
   "cell_type": "markdown",
   "metadata": {},
   "source": [
    "From the plot we can see most of the UFOs only last for 0-15 minitunes."
   ]
  },
  {
   "cell_type": "code",
   "execution_count": 23,
   "metadata": {},
   "outputs": [
    {
     "data": {
      "text/html": [
       "        <script type=\"text/javascript\">\n",
       "        window.PlotlyConfig = {MathJaxConfig: 'local'};\n",
       "        if (window.MathJax) {MathJax.Hub.Config({SVG: {font: \"STIX-Web\"}});}\n",
       "        if (typeof require !== 'undefined') {\n",
       "        require.undef(\"plotly\");\n",
       "        requirejs.config({\n",
       "            paths: {\n",
       "                'plotly': ['https://cdn.plot.ly/plotly-latest.min']\n",
       "            }\n",
       "        });\n",
       "        require(['plotly'], function(Plotly) {\n",
       "            window._Plotly = Plotly;\n",
       "        });\n",
       "        }\n",
       "        </script>\n",
       "        "
      ]
     },
     "metadata": {},
     "output_type": "display_data"
    },
    {
     "data": {
      "application/vnd.plotly.v1+json": {
       "config": {
        "linkText": "Export to plot.ly",
        "plotlyServerURL": "https://plot.ly",
        "showLink": false
       },
       "data": [
        {
         "colorbar": {
          "title": {
           "text": "Sighting rates by states"
          }
         },
         "locationmode": "USA-states",
         "locations": [
          "CA",
          "FL",
          "WA",
          "NY",
          "TX",
          "PA",
          "IL",
          "OH",
          "AZ",
          "NC",
          "MI",
          "OR",
          "VA",
          "CO",
          "NJ",
          "MO",
          "MA",
          "GA",
          "WI",
          "IN",
          "SC",
          "TN",
          "MN",
          "CT",
          "KY",
          "MD",
          "NV",
          "IA",
          "NM",
          "OK",
          "ID",
          "AL",
          "UT",
          "NH",
          "ME",
          "LA",
          "KS",
          "AR",
          "MT",
          "WV",
          "MS",
          "NE",
          "AK",
          "HI",
          "VT",
          "RI",
          "DE",
          "WY",
          "SD",
          "ND"
         ],
         "marker": {
          "line": {
           "color": "rgb(255,255,255)",
           "width": 2
          }
         },
         "text": "times",
         "type": "choropleth",
         "z": [
          5799,
          3018,
          2625,
          2158,
          2158,
          1854,
          1653,
          1593,
          1573,
          1441,
          1401,
          1301,
          1004,
          986,
          968,
          967,
          955,
          916,
          909,
          895,
          876,
          816,
          654,
          649,
          607,
          543,
          541,
          520,
          494,
          490,
          452,
          449,
          447,
          433,
          424,
          422,
          422,
          361,
          327,
          324,
          284,
          257,
          241,
          226,
          222,
          215,
          156,
          126,
          120,
          90
         ]
        }
       ],
       "layout": {
        "geo": {
         "lakecolor": "rgb(255, 255, 255)",
         "projection": {
          "type": "albers usa"
         },
         "scope": "usa",
         "showlakes": true
        },
        "template": {
         "data": {
          "bar": [
           {
            "error_x": {
             "color": "#2a3f5f"
            },
            "error_y": {
             "color": "#2a3f5f"
            },
            "marker": {
             "line": {
              "color": "#E5ECF6",
              "width": 0.5
             }
            },
            "type": "bar"
           }
          ],
          "barpolar": [
           {
            "marker": {
             "line": {
              "color": "#E5ECF6",
              "width": 0.5
             }
            },
            "type": "barpolar"
           }
          ],
          "carpet": [
           {
            "aaxis": {
             "endlinecolor": "#2a3f5f",
             "gridcolor": "white",
             "linecolor": "white",
             "minorgridcolor": "white",
             "startlinecolor": "#2a3f5f"
            },
            "baxis": {
             "endlinecolor": "#2a3f5f",
             "gridcolor": "white",
             "linecolor": "white",
             "minorgridcolor": "white",
             "startlinecolor": "#2a3f5f"
            },
            "type": "carpet"
           }
          ],
          "choropleth": [
           {
            "colorbar": {
             "outlinewidth": 0,
             "ticks": ""
            },
            "type": "choropleth"
           }
          ],
          "contour": [
           {
            "colorbar": {
             "outlinewidth": 0,
             "ticks": ""
            },
            "colorscale": [
             [
              0,
              "#0d0887"
             ],
             [
              0.1111111111111111,
              "#46039f"
             ],
             [
              0.2222222222222222,
              "#7201a8"
             ],
             [
              0.3333333333333333,
              "#9c179e"
             ],
             [
              0.4444444444444444,
              "#bd3786"
             ],
             [
              0.5555555555555556,
              "#d8576b"
             ],
             [
              0.6666666666666666,
              "#ed7953"
             ],
             [
              0.7777777777777778,
              "#fb9f3a"
             ],
             [
              0.8888888888888888,
              "#fdca26"
             ],
             [
              1,
              "#f0f921"
             ]
            ],
            "type": "contour"
           }
          ],
          "contourcarpet": [
           {
            "colorbar": {
             "outlinewidth": 0,
             "ticks": ""
            },
            "type": "contourcarpet"
           }
          ],
          "heatmap": [
           {
            "colorbar": {
             "outlinewidth": 0,
             "ticks": ""
            },
            "colorscale": [
             [
              0,
              "#0d0887"
             ],
             [
              0.1111111111111111,
              "#46039f"
             ],
             [
              0.2222222222222222,
              "#7201a8"
             ],
             [
              0.3333333333333333,
              "#9c179e"
             ],
             [
              0.4444444444444444,
              "#bd3786"
             ],
             [
              0.5555555555555556,
              "#d8576b"
             ],
             [
              0.6666666666666666,
              "#ed7953"
             ],
             [
              0.7777777777777778,
              "#fb9f3a"
             ],
             [
              0.8888888888888888,
              "#fdca26"
             ],
             [
              1,
              "#f0f921"
             ]
            ],
            "type": "heatmap"
           }
          ],
          "heatmapgl": [
           {
            "colorbar": {
             "outlinewidth": 0,
             "ticks": ""
            },
            "colorscale": [
             [
              0,
              "#0d0887"
             ],
             [
              0.1111111111111111,
              "#46039f"
             ],
             [
              0.2222222222222222,
              "#7201a8"
             ],
             [
              0.3333333333333333,
              "#9c179e"
             ],
             [
              0.4444444444444444,
              "#bd3786"
             ],
             [
              0.5555555555555556,
              "#d8576b"
             ],
             [
              0.6666666666666666,
              "#ed7953"
             ],
             [
              0.7777777777777778,
              "#fb9f3a"
             ],
             [
              0.8888888888888888,
              "#fdca26"
             ],
             [
              1,
              "#f0f921"
             ]
            ],
            "type": "heatmapgl"
           }
          ],
          "histogram": [
           {
            "marker": {
             "colorbar": {
              "outlinewidth": 0,
              "ticks": ""
             }
            },
            "type": "histogram"
           }
          ],
          "histogram2d": [
           {
            "colorbar": {
             "outlinewidth": 0,
             "ticks": ""
            },
            "colorscale": [
             [
              0,
              "#0d0887"
             ],
             [
              0.1111111111111111,
              "#46039f"
             ],
             [
              0.2222222222222222,
              "#7201a8"
             ],
             [
              0.3333333333333333,
              "#9c179e"
             ],
             [
              0.4444444444444444,
              "#bd3786"
             ],
             [
              0.5555555555555556,
              "#d8576b"
             ],
             [
              0.6666666666666666,
              "#ed7953"
             ],
             [
              0.7777777777777778,
              "#fb9f3a"
             ],
             [
              0.8888888888888888,
              "#fdca26"
             ],
             [
              1,
              "#f0f921"
             ]
            ],
            "type": "histogram2d"
           }
          ],
          "histogram2dcontour": [
           {
            "colorbar": {
             "outlinewidth": 0,
             "ticks": ""
            },
            "colorscale": [
             [
              0,
              "#0d0887"
             ],
             [
              0.1111111111111111,
              "#46039f"
             ],
             [
              0.2222222222222222,
              "#7201a8"
             ],
             [
              0.3333333333333333,
              "#9c179e"
             ],
             [
              0.4444444444444444,
              "#bd3786"
             ],
             [
              0.5555555555555556,
              "#d8576b"
             ],
             [
              0.6666666666666666,
              "#ed7953"
             ],
             [
              0.7777777777777778,
              "#fb9f3a"
             ],
             [
              0.8888888888888888,
              "#fdca26"
             ],
             [
              1,
              "#f0f921"
             ]
            ],
            "type": "histogram2dcontour"
           }
          ],
          "mesh3d": [
           {
            "colorbar": {
             "outlinewidth": 0,
             "ticks": ""
            },
            "type": "mesh3d"
           }
          ],
          "parcoords": [
           {
            "line": {
             "colorbar": {
              "outlinewidth": 0,
              "ticks": ""
             }
            },
            "type": "parcoords"
           }
          ],
          "scatter": [
           {
            "marker": {
             "colorbar": {
              "outlinewidth": 0,
              "ticks": ""
             }
            },
            "type": "scatter"
           }
          ],
          "scatter3d": [
           {
            "line": {
             "colorbar": {
              "outlinewidth": 0,
              "ticks": ""
             }
            },
            "marker": {
             "colorbar": {
              "outlinewidth": 0,
              "ticks": ""
             }
            },
            "type": "scatter3d"
           }
          ],
          "scattercarpet": [
           {
            "marker": {
             "colorbar": {
              "outlinewidth": 0,
              "ticks": ""
             }
            },
            "type": "scattercarpet"
           }
          ],
          "scattergeo": [
           {
            "marker": {
             "colorbar": {
              "outlinewidth": 0,
              "ticks": ""
             }
            },
            "type": "scattergeo"
           }
          ],
          "scattergl": [
           {
            "marker": {
             "colorbar": {
              "outlinewidth": 0,
              "ticks": ""
             }
            },
            "type": "scattergl"
           }
          ],
          "scattermapbox": [
           {
            "marker": {
             "colorbar": {
              "outlinewidth": 0,
              "ticks": ""
             }
            },
            "type": "scattermapbox"
           }
          ],
          "scatterpolar": [
           {
            "marker": {
             "colorbar": {
              "outlinewidth": 0,
              "ticks": ""
             }
            },
            "type": "scatterpolar"
           }
          ],
          "scatterpolargl": [
           {
            "marker": {
             "colorbar": {
              "outlinewidth": 0,
              "ticks": ""
             }
            },
            "type": "scatterpolargl"
           }
          ],
          "scatterternary": [
           {
            "marker": {
             "colorbar": {
              "outlinewidth": 0,
              "ticks": ""
             }
            },
            "type": "scatterternary"
           }
          ],
          "surface": [
           {
            "colorbar": {
             "outlinewidth": 0,
             "ticks": ""
            },
            "colorscale": [
             [
              0,
              "#0d0887"
             ],
             [
              0.1111111111111111,
              "#46039f"
             ],
             [
              0.2222222222222222,
              "#7201a8"
             ],
             [
              0.3333333333333333,
              "#9c179e"
             ],
             [
              0.4444444444444444,
              "#bd3786"
             ],
             [
              0.5555555555555556,
              "#d8576b"
             ],
             [
              0.6666666666666666,
              "#ed7953"
             ],
             [
              0.7777777777777778,
              "#fb9f3a"
             ],
             [
              0.8888888888888888,
              "#fdca26"
             ],
             [
              1,
              "#f0f921"
             ]
            ],
            "type": "surface"
           }
          ],
          "table": [
           {
            "cells": {
             "fill": {
              "color": "#EBF0F8"
             },
             "line": {
              "color": "white"
             }
            },
            "header": {
             "fill": {
              "color": "#C8D4E3"
             },
             "line": {
              "color": "white"
             }
            },
            "type": "table"
           }
          ]
         },
         "layout": {
          "annotationdefaults": {
           "arrowcolor": "#2a3f5f",
           "arrowhead": 0,
           "arrowwidth": 1
          },
          "colorscale": {
           "diverging": [
            [
             0,
             "#8e0152"
            ],
            [
             0.1,
             "#c51b7d"
            ],
            [
             0.2,
             "#de77ae"
            ],
            [
             0.3,
             "#f1b6da"
            ],
            [
             0.4,
             "#fde0ef"
            ],
            [
             0.5,
             "#f7f7f7"
            ],
            [
             0.6,
             "#e6f5d0"
            ],
            [
             0.7,
             "#b8e186"
            ],
            [
             0.8,
             "#7fbc41"
            ],
            [
             0.9,
             "#4d9221"
            ],
            [
             1,
             "#276419"
            ]
           ],
           "sequential": [
            [
             0,
             "#0d0887"
            ],
            [
             0.1111111111111111,
             "#46039f"
            ],
            [
             0.2222222222222222,
             "#7201a8"
            ],
            [
             0.3333333333333333,
             "#9c179e"
            ],
            [
             0.4444444444444444,
             "#bd3786"
            ],
            [
             0.5555555555555556,
             "#d8576b"
            ],
            [
             0.6666666666666666,
             "#ed7953"
            ],
            [
             0.7777777777777778,
             "#fb9f3a"
            ],
            [
             0.8888888888888888,
             "#fdca26"
            ],
            [
             1,
             "#f0f921"
            ]
           ],
           "sequentialminus": [
            [
             0,
             "#0d0887"
            ],
            [
             0.1111111111111111,
             "#46039f"
            ],
            [
             0.2222222222222222,
             "#7201a8"
            ],
            [
             0.3333333333333333,
             "#9c179e"
            ],
            [
             0.4444444444444444,
             "#bd3786"
            ],
            [
             0.5555555555555556,
             "#d8576b"
            ],
            [
             0.6666666666666666,
             "#ed7953"
            ],
            [
             0.7777777777777778,
             "#fb9f3a"
            ],
            [
             0.8888888888888888,
             "#fdca26"
            ],
            [
             1,
             "#f0f921"
            ]
           ]
          },
          "colorway": [
           "#636efa",
           "#EF553B",
           "#00cc96",
           "#ab63fa",
           "#FFA15A",
           "#19d3f3",
           "#FF6692",
           "#B6E880",
           "#FF97FF",
           "#FECB52"
          ],
          "font": {
           "color": "#2a3f5f"
          },
          "geo": {
           "bgcolor": "white",
           "lakecolor": "white",
           "landcolor": "#E5ECF6",
           "showlakes": true,
           "showland": true,
           "subunitcolor": "white"
          },
          "hoverlabel": {
           "align": "left"
          },
          "hovermode": "closest",
          "mapbox": {
           "style": "light"
          },
          "paper_bgcolor": "white",
          "plot_bgcolor": "#E5ECF6",
          "polar": {
           "angularaxis": {
            "gridcolor": "white",
            "linecolor": "white",
            "ticks": ""
           },
           "bgcolor": "#E5ECF6",
           "radialaxis": {
            "gridcolor": "white",
            "linecolor": "white",
            "ticks": ""
           }
          },
          "scene": {
           "xaxis": {
            "backgroundcolor": "#E5ECF6",
            "gridcolor": "white",
            "gridwidth": 2,
            "linecolor": "white",
            "showbackground": true,
            "ticks": "",
            "zerolinecolor": "white"
           },
           "yaxis": {
            "backgroundcolor": "#E5ECF6",
            "gridcolor": "white",
            "gridwidth": 2,
            "linecolor": "white",
            "showbackground": true,
            "ticks": "",
            "zerolinecolor": "white"
           },
           "zaxis": {
            "backgroundcolor": "#E5ECF6",
            "gridcolor": "white",
            "gridwidth": 2,
            "linecolor": "white",
            "showbackground": true,
            "ticks": "",
            "zerolinecolor": "white"
           }
          },
          "shapedefaults": {
           "line": {
            "color": "#2a3f5f"
           }
          },
          "ternary": {
           "aaxis": {
            "gridcolor": "white",
            "linecolor": "white",
            "ticks": ""
           },
           "baxis": {
            "gridcolor": "white",
            "linecolor": "white",
            "ticks": ""
           },
           "bgcolor": "#E5ECF6",
           "caxis": {
            "gridcolor": "white",
            "linecolor": "white",
            "ticks": ""
           }
          },
          "title": {
           "x": 0.05
          },
          "xaxis": {
           "automargin": true,
           "gridcolor": "white",
           "linecolor": "white",
           "ticks": "",
           "zerolinecolor": "white",
           "zerolinewidth": 2
          },
          "yaxis": {
           "automargin": true,
           "gridcolor": "white",
           "linecolor": "white",
           "ticks": "",
           "zerolinecolor": "white",
           "zerolinewidth": 2
          }
         }
        },
        "title": {
         "text": "UFO Sighting Rates in USA"
        }
       }
      },
      "text/html": [
       "<div>\n",
       "        \n",
       "        \n",
       "            <div id=\"a21c843d-e0fe-4381-bc92-97cbe5e904d5\" class=\"plotly-graph-div\" style=\"height:525px; width:100%;\"></div>\n",
       "            <script type=\"text/javascript\">\n",
       "                require([\"plotly\"], function(Plotly) {\n",
       "                    window.PLOTLYENV=window.PLOTLYENV || {};\n",
       "                    \n",
       "                if (document.getElementById(\"a21c843d-e0fe-4381-bc92-97cbe5e904d5\")) {\n",
       "                    Plotly.newPlot(\n",
       "                        'a21c843d-e0fe-4381-bc92-97cbe5e904d5',\n",
       "                        [{\"colorbar\": {\"title\": {\"text\": \"Sighting rates by states\"}}, \"locationmode\": \"USA-states\", \"locations\": [\"CA\", \"FL\", \"WA\", \"NY\", \"TX\", \"PA\", \"IL\", \"OH\", \"AZ\", \"NC\", \"MI\", \"OR\", \"VA\", \"CO\", \"NJ\", \"MO\", \"MA\", \"GA\", \"WI\", \"IN\", \"SC\", \"TN\", \"MN\", \"CT\", \"KY\", \"MD\", \"NV\", \"IA\", \"NM\", \"OK\", \"ID\", \"AL\", \"UT\", \"NH\", \"ME\", \"LA\", \"KS\", \"AR\", \"MT\", \"WV\", \"MS\", \"NE\", \"AK\", \"HI\", \"VT\", \"RI\", \"DE\", \"WY\", \"SD\", \"ND\"], \"marker\": {\"line\": {\"color\": \"rgb(255,255,255)\", \"width\": 2}}, \"text\": \"times\", \"type\": \"choropleth\", \"z\": [5799, 3018, 2625, 2158, 2158, 1854, 1653, 1593, 1573, 1441, 1401, 1301, 1004, 986, 968, 967, 955, 916, 909, 895, 876, 816, 654, 649, 607, 543, 541, 520, 494, 490, 452, 449, 447, 433, 424, 422, 422, 361, 327, 324, 284, 257, 241, 226, 222, 215, 156, 126, 120, 90]}],\n",
       "                        {\"geo\": {\"lakecolor\": \"rgb(255, 255, 255)\", \"projection\": {\"type\": \"albers usa\"}, \"scope\": \"usa\", \"showlakes\": true}, \"template\": {\"data\": {\"bar\": [{\"error_x\": {\"color\": \"#2a3f5f\"}, \"error_y\": {\"color\": \"#2a3f5f\"}, \"marker\": {\"line\": {\"color\": \"#E5ECF6\", \"width\": 0.5}}, \"type\": \"bar\"}], \"barpolar\": [{\"marker\": {\"line\": {\"color\": \"#E5ECF6\", \"width\": 0.5}}, \"type\": \"barpolar\"}], \"carpet\": [{\"aaxis\": {\"endlinecolor\": \"#2a3f5f\", \"gridcolor\": \"white\", \"linecolor\": \"white\", \"minorgridcolor\": \"white\", \"startlinecolor\": \"#2a3f5f\"}, \"baxis\": {\"endlinecolor\": \"#2a3f5f\", \"gridcolor\": \"white\", \"linecolor\": \"white\", \"minorgridcolor\": \"white\", \"startlinecolor\": \"#2a3f5f\"}, \"type\": \"carpet\"}], \"choropleth\": [{\"colorbar\": {\"outlinewidth\": 0, \"ticks\": \"\"}, \"type\": \"choropleth\"}], \"contour\": [{\"colorbar\": {\"outlinewidth\": 0, \"ticks\": \"\"}, \"colorscale\": [[0.0, \"#0d0887\"], [0.1111111111111111, \"#46039f\"], [0.2222222222222222, \"#7201a8\"], [0.3333333333333333, \"#9c179e\"], [0.4444444444444444, \"#bd3786\"], [0.5555555555555556, \"#d8576b\"], [0.6666666666666666, \"#ed7953\"], [0.7777777777777778, \"#fb9f3a\"], [0.8888888888888888, \"#fdca26\"], [1.0, \"#f0f921\"]], \"type\": \"contour\"}], \"contourcarpet\": [{\"colorbar\": {\"outlinewidth\": 0, \"ticks\": \"\"}, \"type\": \"contourcarpet\"}], \"heatmap\": [{\"colorbar\": {\"outlinewidth\": 0, \"ticks\": \"\"}, \"colorscale\": [[0.0, \"#0d0887\"], [0.1111111111111111, \"#46039f\"], [0.2222222222222222, \"#7201a8\"], [0.3333333333333333, \"#9c179e\"], [0.4444444444444444, \"#bd3786\"], [0.5555555555555556, \"#d8576b\"], [0.6666666666666666, \"#ed7953\"], [0.7777777777777778, \"#fb9f3a\"], [0.8888888888888888, \"#fdca26\"], [1.0, \"#f0f921\"]], \"type\": \"heatmap\"}], \"heatmapgl\": [{\"colorbar\": {\"outlinewidth\": 0, \"ticks\": \"\"}, \"colorscale\": [[0.0, \"#0d0887\"], [0.1111111111111111, \"#46039f\"], [0.2222222222222222, \"#7201a8\"], [0.3333333333333333, \"#9c179e\"], [0.4444444444444444, \"#bd3786\"], [0.5555555555555556, \"#d8576b\"], [0.6666666666666666, \"#ed7953\"], [0.7777777777777778, \"#fb9f3a\"], [0.8888888888888888, \"#fdca26\"], [1.0, \"#f0f921\"]], \"type\": \"heatmapgl\"}], \"histogram\": [{\"marker\": {\"colorbar\": {\"outlinewidth\": 0, \"ticks\": \"\"}}, \"type\": \"histogram\"}], \"histogram2d\": [{\"colorbar\": {\"outlinewidth\": 0, \"ticks\": \"\"}, \"colorscale\": [[0.0, \"#0d0887\"], [0.1111111111111111, \"#46039f\"], [0.2222222222222222, \"#7201a8\"], [0.3333333333333333, \"#9c179e\"], [0.4444444444444444, \"#bd3786\"], [0.5555555555555556, \"#d8576b\"], [0.6666666666666666, \"#ed7953\"], [0.7777777777777778, \"#fb9f3a\"], [0.8888888888888888, \"#fdca26\"], [1.0, \"#f0f921\"]], \"type\": \"histogram2d\"}], \"histogram2dcontour\": [{\"colorbar\": {\"outlinewidth\": 0, \"ticks\": \"\"}, \"colorscale\": [[0.0, \"#0d0887\"], [0.1111111111111111, \"#46039f\"], [0.2222222222222222, \"#7201a8\"], [0.3333333333333333, \"#9c179e\"], [0.4444444444444444, \"#bd3786\"], [0.5555555555555556, \"#d8576b\"], [0.6666666666666666, \"#ed7953\"], [0.7777777777777778, \"#fb9f3a\"], [0.8888888888888888, \"#fdca26\"], [1.0, \"#f0f921\"]], \"type\": \"histogram2dcontour\"}], \"mesh3d\": [{\"colorbar\": {\"outlinewidth\": 0, \"ticks\": \"\"}, \"type\": \"mesh3d\"}], \"parcoords\": [{\"line\": {\"colorbar\": {\"outlinewidth\": 0, \"ticks\": \"\"}}, \"type\": \"parcoords\"}], \"scatter\": [{\"marker\": {\"colorbar\": {\"outlinewidth\": 0, \"ticks\": \"\"}}, \"type\": \"scatter\"}], \"scatter3d\": [{\"line\": {\"colorbar\": {\"outlinewidth\": 0, \"ticks\": \"\"}}, \"marker\": {\"colorbar\": {\"outlinewidth\": 0, \"ticks\": \"\"}}, \"type\": \"scatter3d\"}], \"scattercarpet\": [{\"marker\": {\"colorbar\": {\"outlinewidth\": 0, \"ticks\": \"\"}}, \"type\": \"scattercarpet\"}], \"scattergeo\": [{\"marker\": {\"colorbar\": {\"outlinewidth\": 0, \"ticks\": \"\"}}, \"type\": \"scattergeo\"}], \"scattergl\": [{\"marker\": {\"colorbar\": {\"outlinewidth\": 0, \"ticks\": \"\"}}, \"type\": \"scattergl\"}], \"scattermapbox\": [{\"marker\": {\"colorbar\": {\"outlinewidth\": 0, \"ticks\": \"\"}}, \"type\": \"scattermapbox\"}], \"scatterpolar\": [{\"marker\": {\"colorbar\": {\"outlinewidth\": 0, \"ticks\": \"\"}}, \"type\": \"scatterpolar\"}], \"scatterpolargl\": [{\"marker\": {\"colorbar\": {\"outlinewidth\": 0, \"ticks\": \"\"}}, \"type\": \"scatterpolargl\"}], \"scatterternary\": [{\"marker\": {\"colorbar\": {\"outlinewidth\": 0, \"ticks\": \"\"}}, \"type\": \"scatterternary\"}], \"surface\": [{\"colorbar\": {\"outlinewidth\": 0, \"ticks\": \"\"}, \"colorscale\": [[0.0, \"#0d0887\"], [0.1111111111111111, \"#46039f\"], [0.2222222222222222, \"#7201a8\"], [0.3333333333333333, \"#9c179e\"], [0.4444444444444444, \"#bd3786\"], [0.5555555555555556, \"#d8576b\"], [0.6666666666666666, \"#ed7953\"], [0.7777777777777778, \"#fb9f3a\"], [0.8888888888888888, \"#fdca26\"], [1.0, \"#f0f921\"]], \"type\": \"surface\"}], \"table\": [{\"cells\": {\"fill\": {\"color\": \"#EBF0F8\"}, \"line\": {\"color\": \"white\"}}, \"header\": {\"fill\": {\"color\": \"#C8D4E3\"}, \"line\": {\"color\": \"white\"}}, \"type\": \"table\"}]}, \"layout\": {\"annotationdefaults\": {\"arrowcolor\": \"#2a3f5f\", \"arrowhead\": 0, \"arrowwidth\": 1}, \"colorscale\": {\"diverging\": [[0, \"#8e0152\"], [0.1, \"#c51b7d\"], [0.2, \"#de77ae\"], [0.3, \"#f1b6da\"], [0.4, \"#fde0ef\"], [0.5, \"#f7f7f7\"], [0.6, \"#e6f5d0\"], [0.7, \"#b8e186\"], [0.8, \"#7fbc41\"], [0.9, \"#4d9221\"], [1, \"#276419\"]], \"sequential\": [[0.0, \"#0d0887\"], [0.1111111111111111, \"#46039f\"], [0.2222222222222222, \"#7201a8\"], [0.3333333333333333, \"#9c179e\"], [0.4444444444444444, \"#bd3786\"], [0.5555555555555556, \"#d8576b\"], [0.6666666666666666, \"#ed7953\"], [0.7777777777777778, \"#fb9f3a\"], [0.8888888888888888, \"#fdca26\"], [1.0, \"#f0f921\"]], \"sequentialminus\": [[0.0, \"#0d0887\"], [0.1111111111111111, \"#46039f\"], [0.2222222222222222, \"#7201a8\"], [0.3333333333333333, \"#9c179e\"], [0.4444444444444444, \"#bd3786\"], [0.5555555555555556, \"#d8576b\"], [0.6666666666666666, \"#ed7953\"], [0.7777777777777778, \"#fb9f3a\"], [0.8888888888888888, \"#fdca26\"], [1.0, \"#f0f921\"]]}, \"colorway\": [\"#636efa\", \"#EF553B\", \"#00cc96\", \"#ab63fa\", \"#FFA15A\", \"#19d3f3\", \"#FF6692\", \"#B6E880\", \"#FF97FF\", \"#FECB52\"], \"font\": {\"color\": \"#2a3f5f\"}, \"geo\": {\"bgcolor\": \"white\", \"lakecolor\": \"white\", \"landcolor\": \"#E5ECF6\", \"showlakes\": true, \"showland\": true, \"subunitcolor\": \"white\"}, \"hoverlabel\": {\"align\": \"left\"}, \"hovermode\": \"closest\", \"mapbox\": {\"style\": \"light\"}, \"paper_bgcolor\": \"white\", \"plot_bgcolor\": \"#E5ECF6\", \"polar\": {\"angularaxis\": {\"gridcolor\": \"white\", \"linecolor\": \"white\", \"ticks\": \"\"}, \"bgcolor\": \"#E5ECF6\", \"radialaxis\": {\"gridcolor\": \"white\", \"linecolor\": \"white\", \"ticks\": \"\"}}, \"scene\": {\"xaxis\": {\"backgroundcolor\": \"#E5ECF6\", \"gridcolor\": \"white\", \"gridwidth\": 2, \"linecolor\": \"white\", \"showbackground\": true, \"ticks\": \"\", \"zerolinecolor\": \"white\"}, \"yaxis\": {\"backgroundcolor\": \"#E5ECF6\", \"gridcolor\": \"white\", \"gridwidth\": 2, \"linecolor\": \"white\", \"showbackground\": true, \"ticks\": \"\", \"zerolinecolor\": \"white\"}, \"zaxis\": {\"backgroundcolor\": \"#E5ECF6\", \"gridcolor\": \"white\", \"gridwidth\": 2, \"linecolor\": \"white\", \"showbackground\": true, \"ticks\": \"\", \"zerolinecolor\": \"white\"}}, \"shapedefaults\": {\"line\": {\"color\": \"#2a3f5f\"}}, \"ternary\": {\"aaxis\": {\"gridcolor\": \"white\", \"linecolor\": \"white\", \"ticks\": \"\"}, \"baxis\": {\"gridcolor\": \"white\", \"linecolor\": \"white\", \"ticks\": \"\"}, \"bgcolor\": \"#E5ECF6\", \"caxis\": {\"gridcolor\": \"white\", \"linecolor\": \"white\", \"ticks\": \"\"}}, \"title\": {\"x\": 0.05}, \"xaxis\": {\"automargin\": true, \"gridcolor\": \"white\", \"linecolor\": \"white\", \"ticks\": \"\", \"zerolinecolor\": \"white\", \"zerolinewidth\": 2}, \"yaxis\": {\"automargin\": true, \"gridcolor\": \"white\", \"linecolor\": \"white\", \"ticks\": \"\", \"zerolinecolor\": \"white\", \"zerolinewidth\": 2}}}, \"title\": {\"text\": \"UFO Sighting Rates in USA\"}},\n",
       "                        {\"responsive\": true}\n",
       "                    ).then(function(){\n",
       "                            \n",
       "var gd = document.getElementById('a21c843d-e0fe-4381-bc92-97cbe5e904d5');\n",
       "var x = new MutationObserver(function (mutations, observer) {{\n",
       "        var display = window.getComputedStyle(gd).display;\n",
       "        if (!display || display === 'none') {{\n",
       "            console.log([gd, 'removed!']);\n",
       "            Plotly.purge(gd);\n",
       "            observer.disconnect();\n",
       "        }}\n",
       "}});\n",
       "\n",
       "// Listen for the removal of the full notebook cells\n",
       "var notebookContainer = gd.closest('#notebook-container');\n",
       "if (notebookContainer) {{\n",
       "    x.observe(notebookContainer, {childList: true});\n",
       "}}\n",
       "\n",
       "// Listen for the clearing of the current output cell\n",
       "var outputEl = gd.closest('.output');\n",
       "if (outputEl) {{\n",
       "    x.observe(outputEl, {childList: true});\n",
       "}}\n",
       "\n",
       "                        })\n",
       "                };\n",
       "                });\n",
       "            </script>\n",
       "        </div>"
      ]
     },
     "metadata": {},
     "output_type": "display_data"
    }
   ],
   "source": [
    "#which States sighted the most UFO\n",
    "import plotly.offline as py\n",
    "import plotly.graph_objs as go\n",
    "from plotly.offline import init_notebook_mode\n",
    "init_notebook_mode(connected=True) \n",
    "states_us = ufo_final['state'].value_counts().index\n",
    "states_ratio = ufo_final['state'].value_counts().values\n",
    "data = [\n",
    "        dict(\n",
    "        type='choropleth',\n",
    "        locations = states_us,\n",
    "        z = states_ratio,\n",
    "        locationmode = 'USA-states',\n",
    "        text = 'times',\n",
    "        marker = dict(\n",
    "            line = dict (\n",
    "                color = 'rgb(255,255,255)',\n",
    "                width = 2\n",
    "            ) ),\n",
    "        colorbar = dict(\n",
    "            title = 'Sighting rates by states')\n",
    "        )\n",
    "        ]\n",
    "\n",
    "layout = dict(\n",
    "        title = 'UFO Sighting Rates in USA',\n",
    "        geo = dict(\n",
    "            scope='usa',\n",
    "            projection=dict( type='albers usa' ),\n",
    "            showlakes = True,\n",
    "            lakecolor = 'rgb(255, 255, 255)'),\n",
    "              )\n",
    "fig = go.Figure(data=data, layout=layout)\n",
    "py.iplot(fig)"
   ]
  },
  {
   "cell_type": "markdown",
   "metadata": {},
   "source": [
    "Most of the UFO sightings happened in California, the second highest UFO sightings occur in Florida."
   ]
  },
  {
   "cell_type": "code",
   "execution_count": 24,
   "metadata": {},
   "outputs": [
    {
     "data": {
      "image/png": "[encoded data removed]",
      "text/plain": [
       "<Figure size 1440x720 with 1 Axes>"
      ]
     },
     "metadata": {
      "needs_background": "light"
     },
     "output_type": "display_data"
    }
   ],
   "source": [
    "#see wether there is correlation between populations and the sighting rates\n",
    "states_us = np.array(states_us)\n",
    "states_ufo = {'state' : states_us, 'times': states_ratio}\n",
    "states_ufo = pd.DataFrame(states_ufo)\n",
    "states_ufo = pd.merge(states_ufo, population[['DENSITY','POP','state']],on='state', how = 'left')\n",
    "states_ufo['DENSITY'] = pd.to_numeric(states_ufo['DENSITY'])\n",
    "states_ufo['POP'] = pd.to_numeric(states_ufo['POP'])\n",
    "plt.figure(figsize=(20,10))\n",
    "plt.scatter(states_ufo['POP'], states_ufo['times'])\n",
    "plt.title('Population vs. Rates')\n",
    "plt.xlabel('Population')\n",
    "plt.ylabel('Rates')\n",
    "plt.show()"
   ]
  },
  {
   "cell_type": "code",
   "execution_count": 69,
   "metadata": {},
   "outputs": [
    {
     "data": {
      "image/png": "[encoded data removed]",
      "text/plain": [
       "<Figure size 1440x720 with 1 Axes>"
      ]
     },
     "metadata": {
      "needs_background": "light"
     },
     "output_type": "display_data"
    }
   ],
   "source": [
    "#see wether there is correlation between populations density and the sighting rates\n",
    "plt.figure(figsize=(20,10))\n",
    "plt.scatter(states_ufo['DENSITY'], states_ufo['times'])\n",
    "plt.title('Population Density vs. Rates')\n",
    "plt.xlabel('Density')\n",
    "plt.ylabel('Rates')\n",
    "plt.show()"
   ]
  },
  {
   "cell_type": "markdown",
   "metadata": {},
   "source": [
    "On the other hand, correlation relationship between populations density and the sighting rates is not that strong. There are a couples of outliers."
   ]
  },
  {
   "cell_type": "code",
   "execution_count": 25,
   "metadata": {},
   "outputs": [
    {
     "data": {
      "image/png": "[encoded data removed]",
      "text/plain": [
       "<Figure size 1440x720 with 1 Axes>"
      ]
     },
     "metadata": {
      "needs_background": "light"
     },
     "output_type": "display_data"
    }
   ],
   "source": [
    "#what weather other than sunny would sighting happen\n",
    "plt.figure(figsize=(20,10))\n",
    "hail = len(ufo_final[ufo_final['hail']==1])\n",
    "snow = len(ufo_final[ufo_final['snow']==1])\n",
    "rain = len(ufo_final[ufo_final['rain']==1])\n",
    "thunder = len(ufo_final[ufo_final['thunder']==1])\n",
    "snow = len(ufo_final[ufo_final['snow']==1])\n",
    "fog = len(ufo_final[ufo_final['fog']==1])\n",
    "tornado = len(ufo_final[ufo_final['tornado']==1])\n",
    "wv = [hail,snow,rain,thunder,snow,fog,tornado]\n",
    "wi = ['hail','snow','rain','thunder','snow','fog','tornado']\n",
    "sns.barplot(wi,wv)\n",
    "plt.title('Weather')\n",
    "plt.xlabel('Weather')\n",
    "plt.ylabel('Rates')\n",
    "plt.show()"
   ]
  },
  {
   "cell_type": "markdown",
   "metadata": {},
   "source": [
    "Other than sunny weather, UFO sightings most occur in rainy weather. There is no UFO sighting during hail."
   ]
  },
  {
   "cell_type": "code",
   "execution_count": 26,
   "metadata": {
    "scrolled": true
   },
   "outputs": [
    {
     "data": {
      "text/plain": [
       "<matplotlib.axes._subplots.AxesSubplot at 0x1e938c92518>"
      ]
     },
     "execution_count": 26,
     "metadata": {},
     "output_type": "execute_result"
    },
    {
     "data": {
      "image/png": "[encoded data removed]",
      "text/plain": [
       "<Figure size 1440x720 with 2 Axes>"
      ]
     },
     "metadata": {
      "needs_background": "light"
     },
     "output_type": "display_data"
    }
   ],
   "source": [
    "#does duration of sightings correlate with weather factors and populations\n",
    "d = ufo_final[['duration','pressure','temp','visibility','dewpoint','wingspeed','hum','pop','density']]\n",
    "corr = d.corr()\n",
    "mask = np.zeros_like(corr, dtype=np.bool)\n",
    "mask[np.triu_indices_from(mask)] = True\n",
    "plt.figure(figsize=(20,10))\n",
    "cmap = sns.diverging_palette(220, 10, as_cmap=True)\n",
    "sns.heatmap(corr, mask=mask, cmap=cmap, vmax=.3, center=0,square=True, linewidths=.5, cbar_kws={\"shrink\": .5})"
   ]
  },
  {
   "cell_type": "markdown",
   "metadata": {},
   "source": [
    "The plot shows that duration does not have correlation relationship with the weather factors and populations."
   ]
  },
  {
   "cell_type": "code",
   "execution_count": 27,
   "metadata": {},
   "outputs": [
    {
     "data": {
      "image/png": "[encoded data removed]",
      "text/plain": [
       "<Figure size 1440x720 with 1 Axes>"
      ]
     },
     "metadata": {
      "needs_background": "light"
     },
     "output_type": "display_data"
    }
   ],
   "source": [
    "#what is the wind direction during UFO sightings\n",
    "plt.figure(figsize=(20,10))\n",
    "plt.title('Wind Direction')\n",
    "plt.xlabel('Wind Direction')\n",
    "plt.ylabel('Rates')\n",
    "ufo_final['winddire'].value_counts().plot('bar')\n",
    "plt.xticks(rotation=45)\n",
    "plt.show()"
   ]
  },
  {
   "cell_type": "markdown",
   "metadata": {},
   "source": [
    "Most UFOs were sighted during North wind direction. "
   ]
  },
  {
   "cell_type": "code",
   "execution_count": 28,
   "metadata": {},
   "outputs": [
    {
     "data": {
      "image/png": "[encoded data removed]",
      "text/plain": [
       "<Figure size 1440x720 with 1 Axes>"
      ]
     },
     "metadata": {
      "needs_background": "light"
     },
     "output_type": "display_data"
    }
   ],
   "source": [
    "#what are the weather conditions during UFO sightings\n",
    "plt.figure(figsize=(20,10))\n",
    "plt.title('Weather Condition')\n",
    "plt.xlabel('Conditions')\n",
    "plt.ylabel('Rates')\n",
    "ufo_final['condition'].value_counts().plot('bar')\n",
    "plt.xticks(rotation=90)\n",
    "plt.show()"
   ]
  },
  {
   "cell_type": "markdown",
   "metadata": {},
   "source": [
    "We can see there is correlation between populations and the sighting rates. More population States are more likely to see UFOs."
   ]
  },
  {
   "cell_type": "markdown",
   "metadata": {},
   "source": [
    "The weather conditions during the sightings are mostly clear."
   ]
  },
  {
   "cell_type": "markdown",
   "metadata": {},
   "source": [
    "# Part 3 Apply Inferential Statistics"
   ]
  },
  {
   "cell_type": "code",
   "execution_count": 29,
   "metadata": {},
   "outputs": [],
   "source": [
    "import scipy.stats as stats"
   ]
  },
  {
   "cell_type": "markdown",
   "metadata": {},
   "source": [
    "# Is there correlation between populations and the sighting duration?"
   ]
  },
  {
   "cell_type": "markdown",
   "metadata": {},
   "source": [
    "H0: There is no correlation between populations and the sighting duration\n",
    "HA: There is correlation between populations and the sighting duration"
   ]
  },
  {
   "cell_type": "code",
   "execution_count": 30,
   "metadata": {},
   "outputs": [
    {
     "data": {
      "text/html": [
       "<div>\n",
       "<style scoped>\n",
       "    .dataframe tbody tr th:only-of-type {\n",
       "        vertical-align: middle;\n",
       "    }\n",
       "\n",
       "    .dataframe tbody tr th {\n",
       "        vertical-align: top;\n",
       "    }\n",
       "\n",
       "    .dataframe thead th {\n",
       "        text-align: right;\n",
       "    }\n",
       "</style>\n",
       "<table border=\"1\" class=\"dataframe\">\n",
       "  <thead>\n",
       "    <tr style=\"text-align: right;\">\n",
       "      <th></th>\n",
       "      <th>state</th>\n",
       "      <th>city</th>\n",
       "      <th>shape</th>\n",
       "      <th>mday</th>\n",
       "      <th>month</th>\n",
       "      <th>year</th>\n",
       "      <th>hour</th>\n",
       "      <th>duration</th>\n",
       "      <th>pressure</th>\n",
       "      <th>temp</th>\n",
       "      <th>...</th>\n",
       "      <th>fog</th>\n",
       "      <th>precip</th>\n",
       "      <th>wingspeed</th>\n",
       "      <th>tornado</th>\n",
       "      <th>hum</th>\n",
       "      <th>snow</th>\n",
       "      <th>wgust</th>\n",
       "      <th>condition</th>\n",
       "      <th>density</th>\n",
       "      <th>pop</th>\n",
       "    </tr>\n",
       "  </thead>\n",
       "  <tbody>\n",
       "    <tr>\n",
       "      <th>0</th>\n",
       "      <td>WA</td>\n",
       "      <td>Olympia</td>\n",
       "      <td>Formation</td>\n",
       "      <td>14</td>\n",
       "      <td>11</td>\n",
       "      <td>1997</td>\n",
       "      <td>21</td>\n",
       "      <td>2700.0</td>\n",
       "      <td>-0.163149</td>\n",
       "      <td>-1.618531</td>\n",
       "      <td>...</td>\n",
       "      <td>0</td>\n",
       "      <td>NaN</td>\n",
       "      <td>-0.357641</td>\n",
       "      <td>0</td>\n",
       "      <td>1.598872</td>\n",
       "      <td>0</td>\n",
       "      <td>NaN</td>\n",
       "      <td>Clear</td>\n",
       "      <td>113.397227</td>\n",
       "      <td>7535591.0</td>\n",
       "    </tr>\n",
       "    <tr>\n",
       "      <th>1</th>\n",
       "      <td>WA</td>\n",
       "      <td>Olympia</td>\n",
       "      <td>Fireball</td>\n",
       "      <td>14</td>\n",
       "      <td>11</td>\n",
       "      <td>1997</td>\n",
       "      <td>21</td>\n",
       "      <td>7200.0</td>\n",
       "      <td>-0.163149</td>\n",
       "      <td>-1.618531</td>\n",
       "      <td>...</td>\n",
       "      <td>0</td>\n",
       "      <td>NaN</td>\n",
       "      <td>-0.357641</td>\n",
       "      <td>0</td>\n",
       "      <td>1.598872</td>\n",
       "      <td>0</td>\n",
       "      <td>NaN</td>\n",
       "      <td>Clear</td>\n",
       "      <td>113.397227</td>\n",
       "      <td>7535591.0</td>\n",
       "    </tr>\n",
       "    <tr>\n",
       "      <th>2</th>\n",
       "      <td>WA</td>\n",
       "      <td>Olympia</td>\n",
       "      <td>Formation</td>\n",
       "      <td>14</td>\n",
       "      <td>11</td>\n",
       "      <td>1997</td>\n",
       "      <td>21</td>\n",
       "      <td>20.0</td>\n",
       "      <td>-0.163149</td>\n",
       "      <td>-1.618531</td>\n",
       "      <td>...</td>\n",
       "      <td>0</td>\n",
       "      <td>NaN</td>\n",
       "      <td>-0.357641</td>\n",
       "      <td>0</td>\n",
       "      <td>1.598872</td>\n",
       "      <td>0</td>\n",
       "      <td>NaN</td>\n",
       "      <td>Clear</td>\n",
       "      <td>113.397227</td>\n",
       "      <td>7535591.0</td>\n",
       "    </tr>\n",
       "    <tr>\n",
       "      <th>3</th>\n",
       "      <td>MD</td>\n",
       "      <td>Salisbury</td>\n",
       "      <td>Oval</td>\n",
       "      <td>24</td>\n",
       "      <td>11</td>\n",
       "      <td>1997</td>\n",
       "      <td>2</td>\n",
       "      <td>20.0</td>\n",
       "      <td>-0.189379</td>\n",
       "      <td>-1.005539</td>\n",
       "      <td>...</td>\n",
       "      <td>0</td>\n",
       "      <td>NaN</td>\n",
       "      <td>-0.911239</td>\n",
       "      <td>0</td>\n",
       "      <td>0.980525</td>\n",
       "      <td>0</td>\n",
       "      <td>NaN</td>\n",
       "      <td>Mostly Cloudy</td>\n",
       "      <td>622.261727</td>\n",
       "      <td>6042718.0</td>\n",
       "    </tr>\n",
       "    <tr>\n",
       "      <th>4</th>\n",
       "      <td>MD</td>\n",
       "      <td>Salisbury</td>\n",
       "      <td>Oval</td>\n",
       "      <td>24</td>\n",
       "      <td>11</td>\n",
       "      <td>1997</td>\n",
       "      <td>2</td>\n",
       "      <td>900.0</td>\n",
       "      <td>-0.189379</td>\n",
       "      <td>-1.005539</td>\n",
       "      <td>...</td>\n",
       "      <td>0</td>\n",
       "      <td>NaN</td>\n",
       "      <td>-0.911239</td>\n",
       "      <td>0</td>\n",
       "      <td>0.980525</td>\n",
       "      <td>0</td>\n",
       "      <td>NaN</td>\n",
       "      <td>Mostly Cloudy</td>\n",
       "      <td>622.261727</td>\n",
       "      <td>6042718.0</td>\n",
       "    </tr>\n",
       "  </tbody>\n",
       "</table>\n",
       "<p>5 rows × 27 columns</p>\n",
       "</div>"
      ],
      "text/plain": [
       "  state       city      shape  mday  month  year  hour  duration  pressure  \\\n",
       "0    WA    Olympia  Formation    14     11  1997    21    2700.0 -0.163149   \n",
       "1    WA    Olympia   Fireball    14     11  1997    21    7200.0 -0.163149   \n",
       "2    WA    Olympia  Formation    14     11  1997    21      20.0 -0.163149   \n",
       "3    MD  Salisbury       Oval    24     11  1997     2      20.0 -0.189379   \n",
       "4    MD  Salisbury       Oval    24     11  1997     2     900.0 -0.189379   \n",
       "\n",
       "       temp  ...  fog  precip  wingspeed  tornado       hum  snow  wgust  \\\n",
       "0 -1.618531  ...    0     NaN  -0.357641        0  1.598872     0    NaN   \n",
       "1 -1.618531  ...    0     NaN  -0.357641        0  1.598872     0    NaN   \n",
       "2 -1.618531  ...    0     NaN  -0.357641        0  1.598872     0    NaN   \n",
       "3 -1.005539  ...    0     NaN  -0.911239        0  0.980525     0    NaN   \n",
       "4 -1.005539  ...    0     NaN  -0.911239        0  0.980525     0    NaN   \n",
       "\n",
       "       condition     density        pop  \n",
       "0          Clear  113.397227  7535591.0  \n",
       "1          Clear  113.397227  7535591.0  \n",
       "2          Clear  113.397227  7535591.0  \n",
       "3  Mostly Cloudy  622.261727  6042718.0  \n",
       "4  Mostly Cloudy  622.261727  6042718.0  \n",
       "\n",
       "[5 rows x 27 columns]"
      ]
     },
     "execution_count": 30,
     "metadata": {},
     "output_type": "execute_result"
    }
   ],
   "source": [
    "df = ufo_final\n",
    "df.head()"
   ]
  },
  {
   "cell_type": "code",
   "execution_count": 31,
   "metadata": {},
   "outputs": [
    {
     "name": "stdout",
     "output_type": "stream",
     "text": [
      "BOOTSTRAP RESULTS\n",
      "Bootstrap r: \t \t -0.0039624\n",
      "|obs r - bs r| : \t 0.0\n",
      "\n",
      "Bootstrap p-value: \t 0.39357\n"
     ]
    }
   ],
   "source": [
    "hyp_r = 0\n",
    "n = len(df.duration)\n",
    "\n",
    "# Observed corr coeff\n",
    "obs_r, obs_p_value = stats.pearsonr(df['duration'],df['pop'])\n",
    "\n",
    "bs_r = np.empty(10000) \n",
    "bs_p = np.empty(10000)\n",
    "\n",
    "# generate pairs bootstrap samples\n",
    "for i in range(10000):\n",
    "   idx = np.random.choice(range(n), n)\n",
    "   bs_r[i], bs_p[i] = stats.pearsonr(df['duration'],df['pop'])\n",
    "\n",
    "bs_r_mean = np.mean(bs_r)\n",
    "bs_p_mean = np.mean(bs_p)\n",
    "\n",
    "print('BOOTSTRAP RESULTS\\nBootstrap r: \\t \\t {:0.5}\\n|obs r - bs r| : \\t {:0.5}'.format(bs_r_mean, np.abs(obs_r - bs_r_mean)))\n",
    "\n",
    "print('\\nBootstrap p-value: \\t {:0.5}'.format(bs_p_mean))"
   ]
  },
  {
   "cell_type": "markdown",
   "metadata": {},
   "source": [
    "Since the p value is greater than 0.05, we cannot reject the null hypothesis and conclude that there is no correlation between populations and the sighting duration."
   ]
  },
  {
   "cell_type": "markdown",
   "metadata": {},
   "source": [
    "# Is there correlation between populations and the sighting rates?"
   ]
  },
  {
   "cell_type": "markdown",
   "metadata": {},
   "source": [
    "H0: There is no correlation between populations and the sighting rates\n",
    "HA: There is correlation between populations and the sighting rates"
   ]
  },
  {
   "cell_type": "code",
   "execution_count": 32,
   "metadata": {},
   "outputs": [
    {
     "data": {
      "text/html": [
       "<div>\n",
       "<style scoped>\n",
       "    .dataframe tbody tr th:only-of-type {\n",
       "        vertical-align: middle;\n",
       "    }\n",
       "\n",
       "    .dataframe tbody tr th {\n",
       "        vertical-align: top;\n",
       "    }\n",
       "\n",
       "    .dataframe thead th {\n",
       "        text-align: right;\n",
       "    }\n",
       "</style>\n",
       "<table border=\"1\" class=\"dataframe\">\n",
       "  <thead>\n",
       "    <tr style=\"text-align: right;\">\n",
       "      <th></th>\n",
       "      <th>state</th>\n",
       "      <th>times</th>\n",
       "      <th>DENSITY</th>\n",
       "      <th>POP</th>\n",
       "    </tr>\n",
       "  </thead>\n",
       "  <tbody>\n",
       "    <tr>\n",
       "      <th>0</th>\n",
       "      <td>CA</td>\n",
       "      <td>5799</td>\n",
       "      <td>253.906502</td>\n",
       "      <td>39557045</td>\n",
       "    </tr>\n",
       "    <tr>\n",
       "      <th>1</th>\n",
       "      <td>FL</td>\n",
       "      <td>3018</td>\n",
       "      <td>397.015754</td>\n",
       "      <td>21299325</td>\n",
       "    </tr>\n",
       "    <tr>\n",
       "      <th>2</th>\n",
       "      <td>WA</td>\n",
       "      <td>2625</td>\n",
       "      <td>113.397227</td>\n",
       "      <td>7535591</td>\n",
       "    </tr>\n",
       "    <tr>\n",
       "      <th>3</th>\n",
       "      <td>NY</td>\n",
       "      <td>2158</td>\n",
       "      <td>414.702494</td>\n",
       "      <td>19542209</td>\n",
       "    </tr>\n",
       "    <tr>\n",
       "      <th>4</th>\n",
       "      <td>TX</td>\n",
       "      <td>2158</td>\n",
       "      <td>109.860468</td>\n",
       "      <td>28701845</td>\n",
       "    </tr>\n",
       "  </tbody>\n",
       "</table>\n",
       "</div>"
      ],
      "text/plain": [
       "  state  times     DENSITY       POP\n",
       "0    CA   5799  253.906502  39557045\n",
       "1    FL   3018  397.015754  21299325\n",
       "2    WA   2625  113.397227   7535591\n",
       "3    NY   2158  414.702494  19542209\n",
       "4    TX   2158  109.860468  28701845"
      ]
     },
     "execution_count": 32,
     "metadata": {},
     "output_type": "execute_result"
    }
   ],
   "source": [
    "df1 = states_ufo\n",
    "df1.head()"
   ]
  },
  {
   "cell_type": "code",
   "execution_count": 33,
   "metadata": {},
   "outputs": [
    {
     "name": "stdout",
     "output_type": "stream",
     "text": [
      "BOOTSTRAP RESULTS\n",
      "Bootstrap r: \t \t 0.91766\n",
      "|obs r - bs r| : \t 3.3307e-16\n",
      "\n",
      "Bootstrap p-value: \t 7.1762e-21\n"
     ]
    }
   ],
   "source": [
    "hyp_r = 0\n",
    "n = len(df1.times)\n",
    "\n",
    "# Observed corr coeff\n",
    "obs_r, obs_p_value = stats.pearsonr(df1['times'],df1['POP'])\n",
    "\n",
    "bs_r = np.empty(10000) \n",
    "bs_p = np.empty(10000)\n",
    "\n",
    "# generate pairs bootstrap samples\n",
    "for i in range(10000):\n",
    "   idx = np.random.choice(range(n), n)\n",
    "   bs_r[i], bs_p[i] = stats.pearsonr(df1['times'],df1['POP'])\n",
    "\n",
    "bs_r_mean = np.mean(bs_r)\n",
    "bs_p_mean = np.mean(bs_p)\n",
    "\n",
    "print('BOOTSTRAP RESULTS\\nBootstrap r: \\t \\t {:0.5}\\n|obs r - bs r| : \\t {:0.5}'.format(bs_r_mean, np.abs(obs_r - bs_r_mean)))\n",
    "\n",
    "print('\\nBootstrap p-value: \\t {:0.5}'.format(bs_p_mean))"
   ]
  },
  {
   "cell_type": "markdown",
   "metadata": {},
   "source": [
    "Since the p value is less than 0.05, we can reject the null hypothesis and conclude that there is correlation between populations and the sighting rates."
   ]
  },
  {
   "cell_type": "markdown",
   "metadata": {},
   "source": [
    "# Is there ccorrelation between populations density and the sighting rates?"
   ]
  },
  {
   "cell_type": "markdown",
   "metadata": {},
   "source": [
    "H0: There is no correlation between populations density and the sighting rates\n",
    "HA: There is correlation between populations density and the sighting rates"
   ]
  },
  {
   "cell_type": "code",
   "execution_count": 34,
   "metadata": {},
   "outputs": [
    {
     "data": {
      "text/html": [
       "<div>\n",
       "<style scoped>\n",
       "    .dataframe tbody tr th:only-of-type {\n",
       "        vertical-align: middle;\n",
       "    }\n",
       "\n",
       "    .dataframe tbody tr th {\n",
       "        vertical-align: top;\n",
       "    }\n",
       "\n",
       "    .dataframe thead th {\n",
       "        text-align: right;\n",
       "    }\n",
       "</style>\n",
       "<table border=\"1\" class=\"dataframe\">\n",
       "  <thead>\n",
       "    <tr style=\"text-align: right;\">\n",
       "      <th></th>\n",
       "      <th>state</th>\n",
       "      <th>times</th>\n",
       "      <th>DENSITY</th>\n",
       "      <th>POP</th>\n",
       "    </tr>\n",
       "  </thead>\n",
       "  <tbody>\n",
       "    <tr>\n",
       "      <th>0</th>\n",
       "      <td>CA</td>\n",
       "      <td>5799</td>\n",
       "      <td>253.906502</td>\n",
       "      <td>39557045</td>\n",
       "    </tr>\n",
       "    <tr>\n",
       "      <th>1</th>\n",
       "      <td>FL</td>\n",
       "      <td>3018</td>\n",
       "      <td>397.015754</td>\n",
       "      <td>21299325</td>\n",
       "    </tr>\n",
       "    <tr>\n",
       "      <th>2</th>\n",
       "      <td>WA</td>\n",
       "      <td>2625</td>\n",
       "      <td>113.397227</td>\n",
       "      <td>7535591</td>\n",
       "    </tr>\n",
       "    <tr>\n",
       "      <th>3</th>\n",
       "      <td>NY</td>\n",
       "      <td>2158</td>\n",
       "      <td>414.702494</td>\n",
       "      <td>19542209</td>\n",
       "    </tr>\n",
       "    <tr>\n",
       "      <th>4</th>\n",
       "      <td>TX</td>\n",
       "      <td>2158</td>\n",
       "      <td>109.860468</td>\n",
       "      <td>28701845</td>\n",
       "    </tr>\n",
       "  </tbody>\n",
       "</table>\n",
       "</div>"
      ],
      "text/plain": [
       "  state  times     DENSITY       POP\n",
       "0    CA   5799  253.906502  39557045\n",
       "1    FL   3018  397.015754  21299325\n",
       "2    WA   2625  113.397227   7535591\n",
       "3    NY   2158  414.702494  19542209\n",
       "4    TX   2158  109.860468  28701845"
      ]
     },
     "execution_count": 34,
     "metadata": {},
     "output_type": "execute_result"
    }
   ],
   "source": [
    "df2 = states_ufo\n",
    "df2.head()"
   ]
  },
  {
   "cell_type": "code",
   "execution_count": 35,
   "metadata": {},
   "outputs": [
    {
     "name": "stdout",
     "output_type": "stream",
     "text": [
      "BOOTSTRAP RESULTS\n",
      "Bootstrap r: \t \t 0.12224\n",
      "|obs r - bs r| : \t 2.7756e-17\n",
      "\n",
      "Bootstrap p-value: \t 0.39773\n"
     ]
    }
   ],
   "source": [
    "hyp_r = 0\n",
    "n = len(df2.times)\n",
    "\n",
    "# Observed corr coeff\n",
    "obs_r, obs_p_value = stats.pearsonr(df1['times'],df1['DENSITY'])\n",
    "\n",
    "bs_r = np.empty(10000) \n",
    "bs_p = np.empty(10000)\n",
    "\n",
    "# generate pairs bootstrap samples\n",
    "for i in range(10000):\n",
    "   idx = np.random.choice(range(n), n)\n",
    "   bs_r[i], bs_p[i] = stats.pearsonr(df1['times'],df1['DENSITY'])\n",
    "\n",
    "bs_r_mean = np.mean(bs_r)\n",
    "bs_p_mean = np.mean(bs_p)\n",
    "\n",
    "print('BOOTSTRAP RESULTS\\nBootstrap r: \\t \\t {:0.5}\\n|obs r - bs r| : \\t {:0.5}'.format(bs_r_mean, np.abs(obs_r - bs_r_mean)))\n",
    "\n",
    "print('\\nBootstrap p-value: \\t {:0.5}'.format(bs_p_mean))"
   ]
  },
  {
   "cell_type": "markdown",
   "metadata": {},
   "source": [
    "Since the p value is greater than 0.05, we cannot reject the null hypothesis and conclude that there is no correlation between populations density and the sighting rates."
   ]
  },
  {
   "cell_type": "markdown",
   "metadata": {},
   "source": [
    "# Is the distribution of duration normal?"
   ]
  },
  {
   "cell_type": "markdown",
   "metadata": {},
   "source": [
    "H0: The distribution of duration is normal.\n",
    "HA: The distribution of duration is not normal."
   ]
  },
  {
   "cell_type": "code",
   "execution_count": 36,
   "metadata": {},
   "outputs": [],
   "source": [
    "dur = df['duration']"
   ]
  },
  {
   "cell_type": "code",
   "execution_count": 37,
   "metadata": {},
   "outputs": [
    {
     "name": "stdout",
     "output_type": "stream",
     "text": [
      "count    4.636200e+04\n",
      "mean     7.699221e+03\n",
      "std      5.331610e+05\n",
      "min      1.000000e-03\n",
      "25%      3.000000e+01\n",
      "50%      1.800000e+02\n",
      "75%      6.000000e+02\n",
      "max      9.783600e+07\n",
      "Name: duration, dtype: float64\n"
     ]
    }
   ],
   "source": [
    "print(dur.describe())"
   ]
  },
  {
   "cell_type": "code",
   "execution_count": 38,
   "metadata": {},
   "outputs": [
    {
     "data": {
      "text/plain": [
       "NormaltestResult(statistic=210507.50785507844, pvalue=0.0)"
      ]
     },
     "execution_count": 38,
     "metadata": {},
     "output_type": "execute_result"
    }
   ],
   "source": [
    "stats.normaltest(dur)"
   ]
  },
  {
   "cell_type": "markdown",
   "metadata": {},
   "source": [
    "Since p-value is less than 0.05, we can reject the null hypothesis and conclude that the distribution of duration is not normal."
   ]
  },
  {
   "cell_type": "markdown",
   "metadata": {},
   "source": [
    "# Part 4 Machine Learning"
   ]
  },
  {
   "cell_type": "markdown",
   "metadata": {},
   "source": [
    "# Linear Regression"
   ]
  },
  {
   "cell_type": "code",
   "execution_count": 17,
   "metadata": {},
   "outputs": [],
   "source": [
    "import statsmodels.api as sm\n",
    "from statsmodels.formula.api import ols"
   ]
  },
  {
   "cell_type": "code",
   "execution_count": 61,
   "metadata": {},
   "outputs": [
    {
     "data": {
      "text/html": [
       "<div>\n",
       "<style scoped>\n",
       "    .dataframe tbody tr th:only-of-type {\n",
       "        vertical-align: middle;\n",
       "    }\n",
       "\n",
       "    .dataframe tbody tr th {\n",
       "        vertical-align: top;\n",
       "    }\n",
       "\n",
       "    .dataframe thead th {\n",
       "        text-align: right;\n",
       "    }\n",
       "</style>\n",
       "<table border=\"1\" class=\"dataframe\">\n",
       "  <thead>\n",
       "    <tr style=\"text-align: right;\">\n",
       "      <th></th>\n",
       "      <th>state</th>\n",
       "      <th>city</th>\n",
       "      <th>shape</th>\n",
       "      <th>mday</th>\n",
       "      <th>month</th>\n",
       "      <th>year</th>\n",
       "      <th>hour</th>\n",
       "      <th>duration</th>\n",
       "      <th>pressure</th>\n",
       "      <th>temp</th>\n",
       "      <th>...</th>\n",
       "      <th>fog</th>\n",
       "      <th>precip</th>\n",
       "      <th>wingspeed</th>\n",
       "      <th>tornado</th>\n",
       "      <th>hum</th>\n",
       "      <th>snow</th>\n",
       "      <th>wgust</th>\n",
       "      <th>condition</th>\n",
       "      <th>density</th>\n",
       "      <th>pop</th>\n",
       "    </tr>\n",
       "  </thead>\n",
       "  <tbody>\n",
       "    <tr>\n",
       "      <th>0</th>\n",
       "      <td>WA</td>\n",
       "      <td>Olympia</td>\n",
       "      <td>Formation</td>\n",
       "      <td>14</td>\n",
       "      <td>11</td>\n",
       "      <td>1997</td>\n",
       "      <td>21</td>\n",
       "      <td>2700.0</td>\n",
       "      <td>-0.163149</td>\n",
       "      <td>-1.618531</td>\n",
       "      <td>...</td>\n",
       "      <td>0</td>\n",
       "      <td>NaN</td>\n",
       "      <td>-0.357641</td>\n",
       "      <td>0</td>\n",
       "      <td>1.598872</td>\n",
       "      <td>0</td>\n",
       "      <td>NaN</td>\n",
       "      <td>Clear</td>\n",
       "      <td>113.39722716</td>\n",
       "      <td>7535591</td>\n",
       "    </tr>\n",
       "    <tr>\n",
       "      <th>1</th>\n",
       "      <td>WA</td>\n",
       "      <td>Olympia</td>\n",
       "      <td>Fireball</td>\n",
       "      <td>14</td>\n",
       "      <td>11</td>\n",
       "      <td>1997</td>\n",
       "      <td>21</td>\n",
       "      <td>7200.0</td>\n",
       "      <td>-0.163149</td>\n",
       "      <td>-1.618531</td>\n",
       "      <td>...</td>\n",
       "      <td>0</td>\n",
       "      <td>NaN</td>\n",
       "      <td>-0.357641</td>\n",
       "      <td>0</td>\n",
       "      <td>1.598872</td>\n",
       "      <td>0</td>\n",
       "      <td>NaN</td>\n",
       "      <td>Clear</td>\n",
       "      <td>113.39722716</td>\n",
       "      <td>7535591</td>\n",
       "    </tr>\n",
       "    <tr>\n",
       "      <th>2</th>\n",
       "      <td>WA</td>\n",
       "      <td>Olympia</td>\n",
       "      <td>Formation</td>\n",
       "      <td>14</td>\n",
       "      <td>11</td>\n",
       "      <td>1997</td>\n",
       "      <td>21</td>\n",
       "      <td>20.0</td>\n",
       "      <td>-0.163149</td>\n",
       "      <td>-1.618531</td>\n",
       "      <td>...</td>\n",
       "      <td>0</td>\n",
       "      <td>NaN</td>\n",
       "      <td>-0.357641</td>\n",
       "      <td>0</td>\n",
       "      <td>1.598872</td>\n",
       "      <td>0</td>\n",
       "      <td>NaN</td>\n",
       "      <td>Clear</td>\n",
       "      <td>113.39722716</td>\n",
       "      <td>7535591</td>\n",
       "    </tr>\n",
       "    <tr>\n",
       "      <th>3</th>\n",
       "      <td>MD</td>\n",
       "      <td>Salisbury</td>\n",
       "      <td>Oval</td>\n",
       "      <td>24</td>\n",
       "      <td>11</td>\n",
       "      <td>1997</td>\n",
       "      <td>2</td>\n",
       "      <td>20.0</td>\n",
       "      <td>-0.189379</td>\n",
       "      <td>-1.005539</td>\n",
       "      <td>...</td>\n",
       "      <td>0</td>\n",
       "      <td>NaN</td>\n",
       "      <td>-0.911239</td>\n",
       "      <td>0</td>\n",
       "      <td>0.980525</td>\n",
       "      <td>0</td>\n",
       "      <td>NaN</td>\n",
       "      <td>Mostly Cloudy</td>\n",
       "      <td>622.26172745</td>\n",
       "      <td>6042718</td>\n",
       "    </tr>\n",
       "    <tr>\n",
       "      <th>4</th>\n",
       "      <td>MD</td>\n",
       "      <td>Salisbury</td>\n",
       "      <td>Oval</td>\n",
       "      <td>24</td>\n",
       "      <td>11</td>\n",
       "      <td>1997</td>\n",
       "      <td>2</td>\n",
       "      <td>900.0</td>\n",
       "      <td>-0.189379</td>\n",
       "      <td>-1.005539</td>\n",
       "      <td>...</td>\n",
       "      <td>0</td>\n",
       "      <td>NaN</td>\n",
       "      <td>-0.911239</td>\n",
       "      <td>0</td>\n",
       "      <td>0.980525</td>\n",
       "      <td>0</td>\n",
       "      <td>NaN</td>\n",
       "      <td>Mostly Cloudy</td>\n",
       "      <td>622.26172745</td>\n",
       "      <td>6042718</td>\n",
       "    </tr>\n",
       "  </tbody>\n",
       "</table>\n",
       "<p>5 rows × 27 columns</p>\n",
       "</div>"
      ],
      "text/plain": [
       "  state       city      shape  mday  month  year  hour  duration  pressure  \\\n",
       "0    WA    Olympia  Formation    14     11  1997    21    2700.0 -0.163149   \n",
       "1    WA    Olympia   Fireball    14     11  1997    21    7200.0 -0.163149   \n",
       "2    WA    Olympia  Formation    14     11  1997    21      20.0 -0.163149   \n",
       "3    MD  Salisbury       Oval    24     11  1997     2      20.0 -0.189379   \n",
       "4    MD  Salisbury       Oval    24     11  1997     2     900.0 -0.189379   \n",
       "\n",
       "       temp  ...  fog  precip  wingspeed  tornado       hum  snow  wgust  \\\n",
       "0 -1.618531  ...    0     NaN  -0.357641        0  1.598872     0    NaN   \n",
       "1 -1.618531  ...    0     NaN  -0.357641        0  1.598872     0    NaN   \n",
       "2 -1.618531  ...    0     NaN  -0.357641        0  1.598872     0    NaN   \n",
       "3 -1.005539  ...    0     NaN  -0.911239        0  0.980525     0    NaN   \n",
       "4 -1.005539  ...    0     NaN  -0.911239        0  0.980525     0    NaN   \n",
       "\n",
       "       condition       density      pop  \n",
       "0          Clear  113.39722716  7535591  \n",
       "1          Clear  113.39722716  7535591  \n",
       "2          Clear  113.39722716  7535591  \n",
       "3  Mostly Cloudy  622.26172745  6042718  \n",
       "4  Mostly Cloudy  622.26172745  6042718  \n",
       "\n",
       "[5 rows x 27 columns]"
      ]
     },
     "execution_count": 61,
     "metadata": {},
     "output_type": "execute_result"
    }
   ],
   "source": [
    "ufo_final.head()"
   ]
  },
  {
   "cell_type": "code",
   "execution_count": 62,
   "metadata": {},
   "outputs": [
    {
     "name": "stdout",
     "output_type": "stream",
     "text": [
      "                            OLS Regression Results                            \n",
      "==============================================================================\n",
      "Dep. Variable:               duration   R-squared:                       0.000\n",
      "Model:                            OLS   Adj. R-squared:                 -0.000\n",
      "Method:                 Least Squares   F-statistic:                    0.3587\n",
      "Date:                Mon, 29 Jul 2019   Prob (F-statistic):              0.905\n",
      "Time:                        15:52:59   Log-Likelihood:            -6.7720e+05\n",
      "No. Observations:               46366   AIC:                         1.354e+06\n",
      "Df Residuals:                   46359   BIC:                         1.354e+06\n",
      "Df Model:                           6                                         \n",
      "Covariance Type:            nonrobust                                         \n",
      "==============================================================================\n",
      "                 coef    std err          t      P>|t|      [0.025      0.975]\n",
      "------------------------------------------------------------------------------\n",
      "Intercept   7705.9996   2476.115      3.112      0.002    2852.777    1.26e+04\n",
      "pressure    -208.8095   2604.493     -0.080      0.936   -5313.654    4896.035\n",
      "temp        1.071e+04   1.29e+04      0.830      0.406   -1.46e+04     3.6e+04\n",
      "wingspeed  -2248.8665   2520.236     -0.892      0.372   -7188.567    2690.834\n",
      "dewpoint   -1.042e+04   1.37e+04     -0.761      0.446   -3.73e+04    1.64e+04\n",
      "hum         7678.7027   8628.810      0.890      0.374   -9233.895    2.46e+04\n",
      "visibility   871.9079   2668.466      0.327      0.744   -4358.326    6102.141\n",
      "==============================================================================\n",
      "Omnibus:                   210523.901   Durbin-Watson:                   2.000\n",
      "Prob(Omnibus):                  0.000   Jarque-Bera (JB):    1357494128443.747\n",
      "Skew:                         154.850   Prob(JB):                         0.00\n",
      "Kurtosis:                   26509.058   Cond. No.                         11.6\n",
      "==============================================================================\n",
      "\n",
      "Warnings:\n",
      "[1] Standard Errors assume that the covariance matrix of the errors is correctly specified.\n"
     ]
    }
   ],
   "source": [
    "m = ols('duration ~ pressure + temp + wingspeed + dewpoint + hum + visibility', ufo_final).fit()\n",
    "print(m.summary())"
   ]
  },
  {
   "cell_type": "code",
   "execution_count": 63,
   "metadata": {},
   "outputs": [
    {
     "data": {
      "image/png": "[encoded data removed]",
      "text/plain": [
       "<Figure size 432x288 with 1 Axes>"
      ]
     },
     "metadata": {
      "needs_background": "light"
     },
     "output_type": "display_data"
    }
   ],
   "source": [
    "plt.plot(m.fittedvalues, m.resid, marker='.', linestyle='none')\n",
    "plt.ylabel('Residuals')\n",
    "plt.xlabel('Fit Values')\n",
    "plt.title('Residuals vs Fit Values')\n",
    "plt.show()"
   ]
  },
  {
   "cell_type": "code",
   "execution_count": 64,
   "metadata": {},
   "outputs": [
    {
     "data": {
      "image/png": "[encoded data removed]",
      "text/plain": [
       "<Figure size 432x288 with 1 Axes>"
      ]
     },
     "metadata": {
      "needs_background": "light"
     },
     "output_type": "display_data"
    }
   ],
   "source": [
    "sm.qqplot(m.resid, line='q')\n",
    "plt.show()"
   ]
  },
  {
   "cell_type": "markdown",
   "metadata": {},
   "source": [
    "# Random Forest"
   ]
  },
  {
   "cell_type": "code",
   "execution_count": 79,
   "metadata": {},
   "outputs": [
    {
     "name": "stdout",
     "output_type": "stream",
     "text": [
      "   mday  month  year  hour  duration  pressure      temp  visibility  \\\n",
      "0    14     11  1997    21        45 -0.163149 -1.618531   -2.461666   \n",
      "1    14     11  1997    21       120 -0.163149 -1.618531   -2.461666   \n",
      "2    14     11  1997    21         0 -0.163149 -1.618531   -2.461666   \n",
      "3    24     11  1997     2         0 -0.189379 -1.005539   -0.493176   \n",
      "4    24     11  1997     2        15 -0.189379 -1.005539   -0.493176   \n",
      "\n",
      "   dewpoint  wingspeed       hum        pop     density  \n",
      "0 -0.867472  -0.357641  1.598872  7535591.0  113.397227  \n",
      "1 -0.867472  -0.357641  1.598872  7535591.0  113.397227  \n",
      "2 -0.867472  -0.357641  1.598872  7535591.0  113.397227  \n",
      "3 -0.464073  -0.911239  0.980525  6042718.0  622.261727  \n",
      "4 -0.464073  -0.911239  0.980525  6042718.0  622.261727  \n"
     ]
    },
    {
     "name": "stderr",
     "output_type": "stream",
     "text": [
      "C:\\Users\\17520-1906\\Anaconda3\\lib\\site-packages\\ipykernel_launcher.py:1: SettingWithCopyWarning: \n",
      "A value is trying to be set on a copy of a slice from a DataFrame.\n",
      "Try using .loc[row_indexer,col_indexer] = value instead\n",
      "\n",
      "See the caveats in the documentation: http://pandas.pydata.org/pandas-docs/stable/indexing.html#indexing-view-versus-copy\n",
      "  \"\"\"Entry point for launching an IPython kernel.\n",
      "C:\\Users\\17520-1906\\Anaconda3\\lib\\site-packages\\ipykernel_launcher.py:2: SettingWithCopyWarning: \n",
      "A value is trying to be set on a copy of a slice from a DataFrame.\n",
      "Try using .loc[row_indexer,col_indexer] = value instead\n",
      "\n",
      "See the caveats in the documentation: http://pandas.pydata.org/pandas-docs/stable/indexing.html#indexing-view-versus-copy\n",
      "  \n"
     ]
    }
   ],
   "source": [
    "ufo_final['duration'] = ufo_final['duration'] / 60 \n",
    "ufo_final['duration'] = ufo_final['duration'].astype(int)\n",
    "features = ufo_final[['mday','month','year','hour','duration','pressure','temp','visibility','dewpoint', 'wingspeed','hum','pop','density']]\n",
    "print(features.head())"
   ]
  },
  {
   "cell_type": "code",
   "execution_count": 80,
   "metadata": {},
   "outputs": [],
   "source": [
    "import numpy as np\n",
    "\n",
    "labels = np.array(features['duration'])\n",
    "features= features.drop('duration', axis = 1)\n",
    "feature_list = list(features.columns)\n",
    "features = np.array(features)"
   ]
  },
  {
   "cell_type": "code",
   "execution_count": 81,
   "metadata": {},
   "outputs": [],
   "source": [
    "from sklearn.model_selection import train_test_split\n",
    "\n",
    "train_features, test_features, train_labels, test_labels = train_test_split(features, labels, test_size = 0.25, random_state = 42)"
   ]
  },
  {
   "cell_type": "code",
   "execution_count": 82,
   "metadata": {
    "scrolled": true
   },
   "outputs": [
    {
     "data": {
      "text/plain": [
       "RandomForestRegressor(bootstrap=True, criterion='mse', max_depth=None,\n",
       "           max_features='auto', max_leaf_nodes=None,\n",
       "           min_impurity_decrease=0.0, min_impurity_split=None,\n",
       "           min_samples_leaf=1, min_samples_split=2,\n",
       "           min_weight_fraction_leaf=0.0, n_estimators=1000, n_jobs=None,\n",
       "           oob_score=False, random_state=42, verbose=0, warm_start=False)"
      ]
     },
     "execution_count": 82,
     "metadata": {},
     "output_type": "execute_result"
    }
   ],
   "source": [
    "from sklearn.ensemble import RandomForestRegressor\n",
    "\n",
    "rf = RandomForestRegressor(n_estimators = 1000,random_state=42)\n",
    "rf.fit(train_features, train_labels)"
   ]
  },
  {
   "cell_type": "code",
   "execution_count": 83,
   "metadata": {},
   "outputs": [
    {
     "data": {
      "text/plain": [
       "101943711.87635319"
      ]
     },
     "execution_count": 83,
     "metadata": {},
     "output_type": "execute_result"
    }
   ],
   "source": [
    "import sklearn\n",
    "\n",
    "predictions = rf.predict(test_features)\n",
    "sklearn.metrics.mean_squared_error(test_labels, predictions)"
   ]
  },
  {
   "cell_type": "code",
   "execution_count": 84,
   "metadata": {},
   "outputs": [
    {
     "name": "stdout",
     "output_type": "stream",
     "text": [
      "Variable: pop                  Importance: 0.26\n",
      "Variable: density              Importance: 0.17\n",
      "Variable: mday                 Importance: 0.13\n",
      "Variable: pressure             Importance: 0.08\n",
      "Variable: temp                 Importance: 0.07\n",
      "Variable: month                Importance: 0.06\n",
      "Variable: dewpoint             Importance: 0.06\n",
      "Variable: year                 Importance: 0.05\n",
      "Variable: hum                  Importance: 0.04\n",
      "Variable: hour                 Importance: 0.03\n",
      "Variable: wingspeed            Importance: 0.03\n",
      "Variable: visibility           Importance: 0.02\n"
     ]
    },
    {
     "data": {
      "text/plain": [
       "[None, None, None, None, None, None, None, None, None, None, None, None]"
      ]
     },
     "execution_count": 84,
     "metadata": {},
     "output_type": "execute_result"
    }
   ],
   "source": [
    "importances = list(rf.feature_importances_)\n",
    "\n",
    "feature_importances = [(feature, round(importance, 2)) for feature, importance in zip(feature_list, importances)]\n",
    "\n",
    "feature_importances = sorted(feature_importances, key = lambda x: x[1], reverse = True)\n",
    "\n",
    "[print('Variable: {:20} Importance: {}'.format(*pair)) for pair in feature_importances]"
   ]
  },
  {
   "cell_type": "code",
   "execution_count": 85,
   "metadata": {},
   "outputs": [
    {
     "data": {
      "text/plain": [
       "Text(0.5, 1.0, 'Variable Importances')"
      ]
     },
     "execution_count": 85,
     "metadata": {},
     "output_type": "execute_result"
    },
    {
     "data": {
      "image/png": "[encoded data removed]",
      "text/plain": [
       "<Figure size 432x288 with 1 Axes>"
      ]
     },
     "metadata": {},
     "output_type": "display_data"
    }
   ],
   "source": [
    "import matplotlib.pyplot as plt\n",
    "%matplotlib inline\n",
    "\n",
    "plt.style.use('fivethirtyeight')\n",
    "x_values = list(range(len(importances)))\n",
    "plt.bar(x_values, importances, orientation = 'vertical')\n",
    "plt.xticks(x_values, feature_list, rotation='vertical')\n",
    "plt.ylabel('Importance'); plt.xlabel('Variable'); plt.title('Variable Importances')"
   ]
  },
  {
   "cell_type": "code",
   "execution_count": 86,
   "metadata": {},
   "outputs": [
    {
     "data": {
      "image/png": "[encoded data removed]",
      "text/plain": [
       "<Figure size 432x288 with 1 Axes>"
      ]
     },
     "metadata": {},
     "output_type": "display_data"
    }
   ],
   "source": [
    "import datetime\n",
    "\n",
    "months = features[:, feature_list.index('month')]\n",
    "days = features[:, feature_list.index('mday')]\n",
    "years = features[:, feature_list.index('year')]\n",
    "\n",
    "dates = [str(int(year)) + '-' + str(int(month)) + '-' + str(int(day)) for year, month, day in zip(years, months, days)]\n",
    "dates = [datetime.datetime.strptime(date, '%Y-%m-%d') for date in dates]\n",
    "\n",
    "true_data = pd.DataFrame(data = {'date': dates, 'actual': labels})\n",
    "months = test_features[:, feature_list.index('month')]\n",
    "days = test_features[:, feature_list.index('mday')]\n",
    "years = test_features[:, feature_list.index('year')]\n",
    "test_dates = [str(int(year)) + '-' + str(int(month)) + '-' + str(int(day)) for year, month, day in zip(years, months, days)]\n",
    "test_dates = [datetime.datetime.strptime(date, '%Y-%m-%d') for date in test_dates]\n",
    "\n",
    "predictions_data = pd.DataFrame(data = {'date': test_dates, 'prediction': predictions})\n",
    "\n",
    "plt.plot(true_data['date'], true_data['actual'], 'b-', label = 'actual')\n",
    "plt.plot(predictions_data['date'], predictions_data['prediction'], 'ro', label = 'prediction')\n",
    "plt.xticks(rotation = '60'); \n",
    "plt.legend()\n",
    "plt.xlabel('Date'); plt.ylabel('Duaration'); plt.title('Actual and Predicted Values');\n"
   ]
  },
  {
   "cell_type": "code",
   "execution_count": 26,
   "metadata": {},
   "outputs": [
    {
     "name": "stdout",
     "output_type": "stream",
     "text": [
      "Parameters currently in use:\n",
      "\n",
      "{'bootstrap': True,\n",
      " 'criterion': 'mse',\n",
      " 'max_depth': None,\n",
      " 'max_features': 'auto',\n",
      " 'max_leaf_nodes': None,\n",
      " 'min_impurity_decrease': 0.0,\n",
      " 'min_impurity_split': None,\n",
      " 'min_samples_leaf': 1,\n",
      " 'min_samples_split': 2,\n",
      " 'min_weight_fraction_leaf': 0.0,\n",
      " 'n_estimators': 'warn',\n",
      " 'n_jobs': None,\n",
      " 'oob_score': False,\n",
      " 'random_state': 42,\n",
      " 'verbose': 0,\n",
      " 'warm_start': False}\n"
     ]
    }
   ],
   "source": [
    "from sklearn.ensemble import RandomForestRegressor\n",
    "rf = RandomForestRegressor(random_state = 42)\n",
    "from pprint import pprint\n",
    "\n",
    "print('Parameters currently in use:\\n')\n",
    "pprint(rf.get_params())"
   ]
  },
  {
   "cell_type": "code",
   "execution_count": 42,
   "metadata": {},
   "outputs": [
    {
     "name": "stdout",
     "output_type": "stream",
     "text": [
      "{'n_estimators': [200, 400, 600, 800, 1000, 1200, 1400, 1600, 1800, 2000], 'max_features': ['auto', 'sqrt'], 'max_depth': [10, 20, 30, 40, 50, 60, 70, 80, 90, 100, 110, None], 'min_samples_split': [2, 5, 10], 'min_samples_leaf': [1, 2, 4], 'bootstrap': [True, False]}\n"
     ]
    }
   ],
   "source": [
    "from sklearn.model_selection import RandomizedSearchCV\n",
    "\n",
    "n_estimators = [int(x) for x in np.linspace(start = 200, stop = 2000, num = 10)]\n",
    "max_features = ['auto', 'sqrt']\n",
    "max_depth = [int(x) for x in np.linspace(10, 110, num = 11)]\n",
    "max_depth.append(None)\n",
    "min_samples_split = [2, 5, 10]\n",
    "min_samples_leaf = [1, 2, 4]\n",
    "bootstrap = [True, False]\n",
    "\n",
    "random_grid = {'n_estimators': n_estimators,\n",
    "               'max_features': max_features,\n",
    "               'max_depth': max_depth,\n",
    "               'min_samples_split': min_samples_split,\n",
    "               'min_samples_leaf': min_samples_leaf,\n",
    "               'bootstrap': bootstrap}\n",
    "print(random_grid)"
   ]
  },
  {
   "cell_type": "code",
   "execution_count": 43,
   "metadata": {},
   "outputs": [
    {
     "name": "stdout",
     "output_type": "stream",
     "text": [
      "Fitting 5 folds for each of 20 candidates, totalling 100 fits\n"
     ]
    },
    {
     "name": "stderr",
     "output_type": "stream",
     "text": [
      "[Parallel(n_jobs=-1)]: Using backend LokyBackend with 8 concurrent workers.\n",
      "[Parallel(n_jobs=-1)]: Done  25 tasks      | elapsed:  8.5min\n",
      "[Parallel(n_jobs=-1)]: Done 100 out of 100 | elapsed: 72.3min finished\n"
     ]
    },
    {
     "data": {
      "text/plain": [
       "RandomizedSearchCV(cv=5, error_score='raise-deprecating',\n",
       "          estimator=RandomForestRegressor(bootstrap=True, criterion='mse', max_depth=None,\n",
       "           max_features='auto', max_leaf_nodes=None,\n",
       "           min_impurity_decrease=0.0, min_impurity_split=None,\n",
       "           min_samples_leaf=1, min_samples_split=2,\n",
       "           min_weight_fraction_leaf=0.0, n_estimators='warn', n_jobs=None,\n",
       "           oob_score=False, random_state=None, verbose=0, warm_start=False),\n",
       "          fit_params=None, iid='warn', n_iter=20, n_jobs=-1,\n",
       "          param_distributions={'n_estimators': [200, 400, 600, 800, 1000, 1200, 1400, 1600, 1800, 2000], 'max_features': ['auto', 'sqrt'], 'max_depth': [10, 20, 30, 40, 50, 60, 70, 80, 90, 100, 110, None], 'min_samples_split': [2, 5, 10], 'min_samples_leaf': [1, 2, 4], 'bootstrap': [True, False]},\n",
       "          pre_dispatch='2*n_jobs', random_state=42, refit=True,\n",
       "          return_train_score='warn', scoring=None, verbose=2)"
      ]
     },
     "execution_count": 43,
     "metadata": {},
     "output_type": "execute_result"
    }
   ],
   "source": [
    "rf = RandomForestRegressor()\n",
    "rf_random = RandomizedSearchCV(estimator = rf, param_distributions = random_grid, n_iter = 20, cv = 5, verbose=2, random_state=42, n_jobs = -1)\n",
    "rf_random.fit(train_features, train_labels)"
   ]
  },
  {
   "cell_type": "code",
   "execution_count": 87,
   "metadata": {},
   "outputs": [
    {
     "data": {
      "text/plain": [
       "{'n_estimators': 600,\n",
       " 'min_samples_split': 10,\n",
       " 'min_samples_leaf': 4,\n",
       " 'max_features': 'sqrt',\n",
       " 'max_depth': 90,\n",
       " 'bootstrap': False}"
      ]
     },
     "execution_count": 87,
     "metadata": {},
     "output_type": "execute_result"
    }
   ],
   "source": [
    "rf_random.best_params_"
   ]
  },
  {
   "cell_type": "code",
   "execution_count": 88,
   "metadata": {},
   "outputs": [
    {
     "data": {
      "text/plain": [
       "-0.1696182261762792"
      ]
     },
     "execution_count": 88,
     "metadata": {},
     "output_type": "execute_result"
    }
   ],
   "source": [
    "rf_random.best_score_"
   ]
  },
  {
   "cell_type": "code",
   "execution_count": 89,
   "metadata": {},
   "outputs": [],
   "source": [
    "from sklearn.model_selection import GridSearchCV\n",
    "# Create the parameter grid based on the results of random search \n",
    "param_grid = {\n",
    "    'bootstrap': [False],\n",
    "    'max_depth': [80, 90, 100],\n",
    "    'max_features': ['sqrt'],\n",
    "    'min_samples_leaf': [3, 4, 5],\n",
    "    'min_samples_split': [8, 10, 12],\n",
    "    'n_estimators': [300, 600, 900]\n",
    "}\n",
    "# Create a based model\n",
    "rf = RandomForestRegressor()\n",
    "# Instantiate the grid search model\n",
    "grid_search = GridSearchCV(estimator = rf, param_grid = param_grid, \n",
    "                          cv = 5, n_jobs = -1, verbose = 2)"
   ]
  },
  {
   "cell_type": "code",
   "execution_count": 90,
   "metadata": {},
   "outputs": [
    {
     "name": "stdout",
     "output_type": "stream",
     "text": [
      "Fitting 5 folds for each of 81 candidates, totalling 405 fits\n"
     ]
    },
    {
     "name": "stderr",
     "output_type": "stream",
     "text": [
      "[Parallel(n_jobs=-1)]: Using backend LokyBackend with 8 concurrent workers.\n",
      "[Parallel(n_jobs=-1)]: Done  25 tasks      | elapsed:  5.3min\n",
      "[Parallel(n_jobs=-1)]: Done 146 tasks      | elapsed: 28.1min\n",
      "[Parallel(n_jobs=-1)]: Done 349 tasks      | elapsed: 64.7min\n",
      "[Parallel(n_jobs=-1)]: Done 405 out of 405 | elapsed: 74.8min finished\n"
     ]
    },
    {
     "data": {
      "text/plain": [
       "GridSearchCV(cv=5, error_score='raise-deprecating',\n",
       "       estimator=RandomForestRegressor(bootstrap=True, criterion='mse', max_depth=None,\n",
       "           max_features='auto', max_leaf_nodes=None,\n",
       "           min_impurity_decrease=0.0, min_impurity_split=None,\n",
       "           min_samples_leaf=1, min_samples_split=2,\n",
       "           min_weight_fraction_leaf=0.0, n_estimators='warn', n_jobs=None,\n",
       "           oob_score=False, random_state=None, verbose=0, warm_start=False),\n",
       "       fit_params=None, iid='warn', n_jobs=-1,\n",
       "       param_grid={'bootstrap': [False], 'max_depth': [80, 90, 100], 'max_features': ['sqrt'], 'min_samples_leaf': [3, 4, 5], 'min_samples_split': [8, 10, 12], 'n_estimators': [300, 600, 900]},\n",
       "       pre_dispatch='2*n_jobs', refit=True, return_train_score='warn',\n",
       "       scoring=None, verbose=2)"
      ]
     },
     "execution_count": 90,
     "metadata": {},
     "output_type": "execute_result"
    }
   ],
   "source": [
    "grid_search.fit(train_features, train_labels)"
   ]
  },
  {
   "cell_type": "code",
   "execution_count": 91,
   "metadata": {},
   "outputs": [
    {
     "data": {
      "text/plain": [
       "{'bootstrap': False,\n",
       " 'max_depth': 100,\n",
       " 'max_features': 'sqrt',\n",
       " 'min_samples_leaf': 5,\n",
       " 'min_samples_split': 12,\n",
       " 'n_estimators': 900}"
      ]
     },
     "execution_count": 91,
     "metadata": {},
     "output_type": "execute_result"
    }
   ],
   "source": [
    "grid_search.best_params_"
   ]
  },
  {
   "cell_type": "code",
   "execution_count": 92,
   "metadata": {},
   "outputs": [
    {
     "data": {
      "text/plain": [
       "-0.12948851224581978"
      ]
     },
     "execution_count": 92,
     "metadata": {},
     "output_type": "execute_result"
    }
   ],
   "source": [
    "grid_search.best_score_"
   ]
  },
  {
   "cell_type": "code",
   "execution_count": 93,
   "metadata": {},
   "outputs": [
    {
     "data": {
      "text/plain": [
       "RandomForestRegressor(bootstrap=False, criterion='mse', max_depth=100,\n",
       "           max_features='sqrt', max_leaf_nodes=None,\n",
       "           min_impurity_decrease=0.0, min_impurity_split=None,\n",
       "           min_samples_leaf=5, min_samples_split=12,\n",
       "           min_weight_fraction_leaf=0.0, n_estimators=900, n_jobs=-1,\n",
       "           oob_score=False, random_state=42, verbose=0, warm_start=False)"
      ]
     },
     "execution_count": 93,
     "metadata": {},
     "output_type": "execute_result"
    }
   ],
   "source": [
    "rfb = RandomForestRegressor(n_estimators = 900, bootstrap = False, max_depth = 100, max_features = 'sqrt', min_samples_leaf = 5, min_samples_split =12, \n",
    "                            random_state=42, n_jobs=-1)\n",
    "rfb.fit(train_features, train_labels)"
   ]
  },
  {
   "cell_type": "code",
   "execution_count": 94,
   "metadata": {},
   "outputs": [
    {
     "data": {
      "text/plain": [
       "74331481.31312479"
      ]
     },
     "execution_count": 94,
     "metadata": {},
     "output_type": "execute_result"
    }
   ],
   "source": [
    "predictions = rfb.predict(test_features)\n",
    "\n",
    "sklearn.metrics.mean_squared_error(test_labels, predictions)"
   ]
  }
 ],
 "metadata": {
  "kernelspec": {
   "display_name": "Python 3",
   "language": "python",
   "name": "python3"
  },
  "language_info": {
   "codemirror_mode": {
    "name": "ipython",
    "version": 3
   },
   "file_extension": ".py",
   "mimetype": "text/x-python",
   "name": "python",
   "nbconvert_exporter": "python",
   "pygments_lexer": "ipython3",
   "version": "3.7.3"
  }
 },
 "nbformat": 4,
 "nbformat_minor": 2
}
