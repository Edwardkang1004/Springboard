{
 "cells": [
  {
   "cell_type": "markdown",
   "metadata": {},
   "source": [
    "# Part 1 Data Wrangling"
   ]
  },
  {
   "cell_type": "code",
   "execution_count": 1,
   "metadata": {},
   "outputs": [
    {
     "data": {
      "text/html": [
       "<div>\n",
       "<style scoped>\n",
       "    .dataframe tbody tr th:only-of-type {\n",
       "        vertical-align: middle;\n",
       "    }\n",
       "\n",
       "    .dataframe tbody tr th {\n",
       "        vertical-align: top;\n",
       "    }\n",
       "\n",
       "    .dataframe thead th {\n",
       "        text-align: right;\n",
       "    }\n",
       "</style>\n",
       "<table border=\"1\" class=\"dataframe\">\n",
       "  <thead>\n",
       "    <tr style=\"text-align: right;\">\n",
       "      <th></th>\n",
       "      <th>state</th>\n",
       "      <th>city</th>\n",
       "      <th>colour</th>\n",
       "      <th>shape</th>\n",
       "      <th>mday</th>\n",
       "      <th>month</th>\n",
       "      <th>year</th>\n",
       "      <th>hour</th>\n",
       "      <th>id</th>\n",
       "      <th>duration (seconds)</th>\n",
       "      <th>...</th>\n",
       "      <th>dewpoint</th>\n",
       "      <th>thunder</th>\n",
       "      <th>fog</th>\n",
       "      <th>precip</th>\n",
       "      <th>wingspeed</th>\n",
       "      <th>tornado</th>\n",
       "      <th>hum</th>\n",
       "      <th>snow</th>\n",
       "      <th>wgust</th>\n",
       "      <th>condition</th>\n",
       "    </tr>\n",
       "  </thead>\n",
       "  <tbody>\n",
       "    <tr>\n",
       "      <th>0</th>\n",
       "      <td>WA</td>\n",
       "      <td>Olympia</td>\n",
       "      <td>NaN</td>\n",
       "      <td>Formation</td>\n",
       "      <td>14</td>\n",
       "      <td>11</td>\n",
       "      <td>1997</td>\n",
       "      <td>21</td>\n",
       "      <td>NaN</td>\n",
       "      <td>2700.0</td>\n",
       "      <td>...</td>\n",
       "      <td>-0.867472</td>\n",
       "      <td>0</td>\n",
       "      <td>0</td>\n",
       "      <td>NaN</td>\n",
       "      <td>-0.357641</td>\n",
       "      <td>0</td>\n",
       "      <td>1.598872</td>\n",
       "      <td>0</td>\n",
       "      <td>NaN</td>\n",
       "      <td>Clear</td>\n",
       "    </tr>\n",
       "    <tr>\n",
       "      <th>1</th>\n",
       "      <td>WA</td>\n",
       "      <td>Olympia</td>\n",
       "      <td>NaN</td>\n",
       "      <td>Fireball</td>\n",
       "      <td>14</td>\n",
       "      <td>11</td>\n",
       "      <td>1997</td>\n",
       "      <td>21</td>\n",
       "      <td>NaN</td>\n",
       "      <td>7200.0</td>\n",
       "      <td>...</td>\n",
       "      <td>-0.867472</td>\n",
       "      <td>0</td>\n",
       "      <td>0</td>\n",
       "      <td>NaN</td>\n",
       "      <td>-0.357641</td>\n",
       "      <td>0</td>\n",
       "      <td>1.598872</td>\n",
       "      <td>0</td>\n",
       "      <td>NaN</td>\n",
       "      <td>Clear</td>\n",
       "    </tr>\n",
       "    <tr>\n",
       "      <th>2</th>\n",
       "      <td>WA</td>\n",
       "      <td>Olympia</td>\n",
       "      <td>NaN</td>\n",
       "      <td>Formation</td>\n",
       "      <td>14</td>\n",
       "      <td>11</td>\n",
       "      <td>1997</td>\n",
       "      <td>21</td>\n",
       "      <td>NaN</td>\n",
       "      <td>20.0</td>\n",
       "      <td>...</td>\n",
       "      <td>-0.867472</td>\n",
       "      <td>0</td>\n",
       "      <td>0</td>\n",
       "      <td>NaN</td>\n",
       "      <td>-0.357641</td>\n",
       "      <td>0</td>\n",
       "      <td>1.598872</td>\n",
       "      <td>0</td>\n",
       "      <td>NaN</td>\n",
       "      <td>Clear</td>\n",
       "    </tr>\n",
       "    <tr>\n",
       "      <th>3</th>\n",
       "      <td>MD</td>\n",
       "      <td>Salisbury</td>\n",
       "      <td>NaN</td>\n",
       "      <td>Oval</td>\n",
       "      <td>24</td>\n",
       "      <td>11</td>\n",
       "      <td>1997</td>\n",
       "      <td>2</td>\n",
       "      <td>NaN</td>\n",
       "      <td>20.0</td>\n",
       "      <td>...</td>\n",
       "      <td>-0.464073</td>\n",
       "      <td>0</td>\n",
       "      <td>0</td>\n",
       "      <td>NaN</td>\n",
       "      <td>-0.911239</td>\n",
       "      <td>0</td>\n",
       "      <td>0.980525</td>\n",
       "      <td>0</td>\n",
       "      <td>NaN</td>\n",
       "      <td>Mostly Cloudy</td>\n",
       "    </tr>\n",
       "    <tr>\n",
       "      <th>4</th>\n",
       "      <td>MD</td>\n",
       "      <td>Salisbury</td>\n",
       "      <td>YELLOW</td>\n",
       "      <td>Oval</td>\n",
       "      <td>24</td>\n",
       "      <td>11</td>\n",
       "      <td>1997</td>\n",
       "      <td>2</td>\n",
       "      <td>NaN</td>\n",
       "      <td>900.0</td>\n",
       "      <td>...</td>\n",
       "      <td>-0.464073</td>\n",
       "      <td>0</td>\n",
       "      <td>0</td>\n",
       "      <td>NaN</td>\n",
       "      <td>-0.911239</td>\n",
       "      <td>0</td>\n",
       "      <td>0.980525</td>\n",
       "      <td>0</td>\n",
       "      <td>NaN</td>\n",
       "      <td>Mostly Cloudy</td>\n",
       "    </tr>\n",
       "  </tbody>\n",
       "</table>\n",
       "<p>5 rows × 29 columns</p>\n",
       "</div>"
      ],
      "text/plain": [
       "  state       city  colour      shape  mday  month  year  hour  id  \\\n",
       "0    WA    Olympia     NaN  Formation    14     11  1997    21 NaN   \n",
       "1    WA    Olympia     NaN   Fireball    14     11  1997    21 NaN   \n",
       "2    WA    Olympia     NaN  Formation    14     11  1997    21 NaN   \n",
       "3    MD  Salisbury     NaN       Oval    24     11  1997     2 NaN   \n",
       "4    MD  Salisbury  YELLOW       Oval    24     11  1997     2 NaN   \n",
       "\n",
       "   duration (seconds)      ...        dewpoint  thunder  fog  precip  \\\n",
       "0              2700.0      ...       -0.867472        0    0     NaN   \n",
       "1              7200.0      ...       -0.867472        0    0     NaN   \n",
       "2                20.0      ...       -0.867472        0    0     NaN   \n",
       "3                20.0      ...       -0.464073        0    0     NaN   \n",
       "4               900.0      ...       -0.464073        0    0     NaN   \n",
       "\n",
       "   wingspeed  tornado       hum  snow wgust      condition  \n",
       "0  -0.357641        0  1.598872     0   NaN          Clear  \n",
       "1  -0.357641        0  1.598872     0   NaN          Clear  \n",
       "2  -0.357641        0  1.598872     0   NaN          Clear  \n",
       "3  -0.911239        0  0.980525     0   NaN  Mostly Cloudy  \n",
       "4  -0.911239        0  0.980525     0   NaN  Mostly Cloudy  \n",
       "\n",
       "[5 rows x 29 columns]"
      ]
     },
     "execution_count": 1,
     "metadata": {},
     "output_type": "execute_result"
    }
   ],
   "source": [
    "import pandas as pd\n",
    "#read ufo.csv file into data frame\n",
    "ufo = pd.read_csv(\"ufo.csv\")\n",
    "ufo.head()"
   ]
  },
  {
   "cell_type": "code",
   "execution_count": 2,
   "metadata": {
    "scrolled": true
   },
   "outputs": [
    {
     "data": {
      "text/html": [
       "<div>\n",
       "<style scoped>\n",
       "    .dataframe tbody tr th:only-of-type {\n",
       "        vertical-align: middle;\n",
       "    }\n",
       "\n",
       "    .dataframe tbody tr th {\n",
       "        vertical-align: top;\n",
       "    }\n",
       "\n",
       "    .dataframe thead th {\n",
       "        text-align: right;\n",
       "    }\n",
       "</style>\n",
       "<table border=\"1\" class=\"dataframe\">\n",
       "  <thead>\n",
       "    <tr style=\"text-align: right;\">\n",
       "      <th></th>\n",
       "      <th>state</th>\n",
       "      <th>city</th>\n",
       "      <th>colour</th>\n",
       "      <th>shape</th>\n",
       "      <th>mday</th>\n",
       "      <th>month</th>\n",
       "      <th>year</th>\n",
       "      <th>hour</th>\n",
       "      <th>duration (seconds)</th>\n",
       "      <th>pressure</th>\n",
       "      <th>...</th>\n",
       "      <th>dewpoint</th>\n",
       "      <th>thunder</th>\n",
       "      <th>fog</th>\n",
       "      <th>precip</th>\n",
       "      <th>wingspeed</th>\n",
       "      <th>tornado</th>\n",
       "      <th>hum</th>\n",
       "      <th>snow</th>\n",
       "      <th>wgust</th>\n",
       "      <th>condition</th>\n",
       "    </tr>\n",
       "  </thead>\n",
       "  <tbody>\n",
       "    <tr>\n",
       "      <th>0</th>\n",
       "      <td>WA</td>\n",
       "      <td>Olympia</td>\n",
       "      <td>NaN</td>\n",
       "      <td>Formation</td>\n",
       "      <td>14</td>\n",
       "      <td>11</td>\n",
       "      <td>1997</td>\n",
       "      <td>21</td>\n",
       "      <td>2700.0</td>\n",
       "      <td>-0.163149</td>\n",
       "      <td>...</td>\n",
       "      <td>-0.867472</td>\n",
       "      <td>0</td>\n",
       "      <td>0</td>\n",
       "      <td>NaN</td>\n",
       "      <td>-0.357641</td>\n",
       "      <td>0</td>\n",
       "      <td>1.598872</td>\n",
       "      <td>0</td>\n",
       "      <td>NaN</td>\n",
       "      <td>Clear</td>\n",
       "    </tr>\n",
       "    <tr>\n",
       "      <th>1</th>\n",
       "      <td>WA</td>\n",
       "      <td>Olympia</td>\n",
       "      <td>NaN</td>\n",
       "      <td>Fireball</td>\n",
       "      <td>14</td>\n",
       "      <td>11</td>\n",
       "      <td>1997</td>\n",
       "      <td>21</td>\n",
       "      <td>7200.0</td>\n",
       "      <td>-0.163149</td>\n",
       "      <td>...</td>\n",
       "      <td>-0.867472</td>\n",
       "      <td>0</td>\n",
       "      <td>0</td>\n",
       "      <td>NaN</td>\n",
       "      <td>-0.357641</td>\n",
       "      <td>0</td>\n",
       "      <td>1.598872</td>\n",
       "      <td>0</td>\n",
       "      <td>NaN</td>\n",
       "      <td>Clear</td>\n",
       "    </tr>\n",
       "    <tr>\n",
       "      <th>2</th>\n",
       "      <td>WA</td>\n",
       "      <td>Olympia</td>\n",
       "      <td>NaN</td>\n",
       "      <td>Formation</td>\n",
       "      <td>14</td>\n",
       "      <td>11</td>\n",
       "      <td>1997</td>\n",
       "      <td>21</td>\n",
       "      <td>20.0</td>\n",
       "      <td>-0.163149</td>\n",
       "      <td>...</td>\n",
       "      <td>-0.867472</td>\n",
       "      <td>0</td>\n",
       "      <td>0</td>\n",
       "      <td>NaN</td>\n",
       "      <td>-0.357641</td>\n",
       "      <td>0</td>\n",
       "      <td>1.598872</td>\n",
       "      <td>0</td>\n",
       "      <td>NaN</td>\n",
       "      <td>Clear</td>\n",
       "    </tr>\n",
       "    <tr>\n",
       "      <th>3</th>\n",
       "      <td>MD</td>\n",
       "      <td>Salisbury</td>\n",
       "      <td>NaN</td>\n",
       "      <td>Oval</td>\n",
       "      <td>24</td>\n",
       "      <td>11</td>\n",
       "      <td>1997</td>\n",
       "      <td>2</td>\n",
       "      <td>20.0</td>\n",
       "      <td>-0.189379</td>\n",
       "      <td>...</td>\n",
       "      <td>-0.464073</td>\n",
       "      <td>0</td>\n",
       "      <td>0</td>\n",
       "      <td>NaN</td>\n",
       "      <td>-0.911239</td>\n",
       "      <td>0</td>\n",
       "      <td>0.980525</td>\n",
       "      <td>0</td>\n",
       "      <td>NaN</td>\n",
       "      <td>Mostly Cloudy</td>\n",
       "    </tr>\n",
       "    <tr>\n",
       "      <th>4</th>\n",
       "      <td>MD</td>\n",
       "      <td>Salisbury</td>\n",
       "      <td>YELLOW</td>\n",
       "      <td>Oval</td>\n",
       "      <td>24</td>\n",
       "      <td>11</td>\n",
       "      <td>1997</td>\n",
       "      <td>2</td>\n",
       "      <td>900.0</td>\n",
       "      <td>-0.189379</td>\n",
       "      <td>...</td>\n",
       "      <td>-0.464073</td>\n",
       "      <td>0</td>\n",
       "      <td>0</td>\n",
       "      <td>NaN</td>\n",
       "      <td>-0.911239</td>\n",
       "      <td>0</td>\n",
       "      <td>0.980525</td>\n",
       "      <td>0</td>\n",
       "      <td>NaN</td>\n",
       "      <td>Mostly Cloudy</td>\n",
       "    </tr>\n",
       "  </tbody>\n",
       "</table>\n",
       "<p>5 rows × 27 columns</p>\n",
       "</div>"
      ],
      "text/plain": [
       "  state       city  colour      shape  mday  month  year  hour  \\\n",
       "0    WA    Olympia     NaN  Formation    14     11  1997    21   \n",
       "1    WA    Olympia     NaN   Fireball    14     11  1997    21   \n",
       "2    WA    Olympia     NaN  Formation    14     11  1997    21   \n",
       "3    MD  Salisbury     NaN       Oval    24     11  1997     2   \n",
       "4    MD  Salisbury  YELLOW       Oval    24     11  1997     2   \n",
       "\n",
       "   duration (seconds)  pressure      ...        dewpoint  thunder  fog  \\\n",
       "0              2700.0 -0.163149      ...       -0.867472        0    0   \n",
       "1              7200.0 -0.163149      ...       -0.867472        0    0   \n",
       "2                20.0 -0.163149      ...       -0.867472        0    0   \n",
       "3                20.0 -0.189379      ...       -0.464073        0    0   \n",
       "4               900.0 -0.189379      ...       -0.464073        0    0   \n",
       "\n",
       "   precip  wingspeed  tornado       hum  snow  wgust      condition  \n",
       "0     NaN  -0.357641        0  1.598872     0    NaN          Clear  \n",
       "1     NaN  -0.357641        0  1.598872     0    NaN          Clear  \n",
       "2     NaN  -0.357641        0  1.598872     0    NaN          Clear  \n",
       "3     NaN  -0.911239        0  0.980525     0    NaN  Mostly Cloudy  \n",
       "4     NaN  -0.911239        0  0.980525     0    NaN  Mostly Cloudy  \n",
       "\n",
       "[5 rows x 27 columns]"
      ]
     },
     "execution_count": 2,
     "metadata": {},
     "output_type": "execute_result"
    }
   ],
   "source": [
    "# drop the usless columns\n",
    "ufo = ufo.drop(columns=['duration (hours/min)','id'],axis=1)\n",
    "ufo.head()"
   ]
  },
  {
   "cell_type": "code",
   "execution_count": 3,
   "metadata": {},
   "outputs": [
    {
     "data": {
      "text/html": [
       "<div>\n",
       "<style scoped>\n",
       "    .dataframe tbody tr th:only-of-type {\n",
       "        vertical-align: middle;\n",
       "    }\n",
       "\n",
       "    .dataframe tbody tr th {\n",
       "        vertical-align: top;\n",
       "    }\n",
       "\n",
       "    .dataframe thead th {\n",
       "        text-align: right;\n",
       "    }\n",
       "</style>\n",
       "<table border=\"1\" class=\"dataframe\">\n",
       "  <thead>\n",
       "    <tr style=\"text-align: right;\">\n",
       "      <th></th>\n",
       "      <th>state</th>\n",
       "      <th>city</th>\n",
       "      <th>colour</th>\n",
       "      <th>shape</th>\n",
       "      <th>mday</th>\n",
       "      <th>month</th>\n",
       "      <th>year</th>\n",
       "      <th>hour</th>\n",
       "      <th>duration</th>\n",
       "      <th>pressure</th>\n",
       "      <th>...</th>\n",
       "      <th>dewpoint</th>\n",
       "      <th>thunder</th>\n",
       "      <th>fog</th>\n",
       "      <th>precip</th>\n",
       "      <th>wingspeed</th>\n",
       "      <th>tornado</th>\n",
       "      <th>hum</th>\n",
       "      <th>snow</th>\n",
       "      <th>wgust</th>\n",
       "      <th>condition</th>\n",
       "    </tr>\n",
       "  </thead>\n",
       "  <tbody>\n",
       "    <tr>\n",
       "      <th>0</th>\n",
       "      <td>WA</td>\n",
       "      <td>Olympia</td>\n",
       "      <td>NaN</td>\n",
       "      <td>Formation</td>\n",
       "      <td>14</td>\n",
       "      <td>11</td>\n",
       "      <td>1997</td>\n",
       "      <td>21</td>\n",
       "      <td>2700.0</td>\n",
       "      <td>-0.163149</td>\n",
       "      <td>...</td>\n",
       "      <td>-0.867472</td>\n",
       "      <td>0</td>\n",
       "      <td>0</td>\n",
       "      <td>NaN</td>\n",
       "      <td>-0.357641</td>\n",
       "      <td>0</td>\n",
       "      <td>1.598872</td>\n",
       "      <td>0</td>\n",
       "      <td>NaN</td>\n",
       "      <td>Clear</td>\n",
       "    </tr>\n",
       "    <tr>\n",
       "      <th>1</th>\n",
       "      <td>WA</td>\n",
       "      <td>Olympia</td>\n",
       "      <td>NaN</td>\n",
       "      <td>Fireball</td>\n",
       "      <td>14</td>\n",
       "      <td>11</td>\n",
       "      <td>1997</td>\n",
       "      <td>21</td>\n",
       "      <td>7200.0</td>\n",
       "      <td>-0.163149</td>\n",
       "      <td>...</td>\n",
       "      <td>-0.867472</td>\n",
       "      <td>0</td>\n",
       "      <td>0</td>\n",
       "      <td>NaN</td>\n",
       "      <td>-0.357641</td>\n",
       "      <td>0</td>\n",
       "      <td>1.598872</td>\n",
       "      <td>0</td>\n",
       "      <td>NaN</td>\n",
       "      <td>Clear</td>\n",
       "    </tr>\n",
       "    <tr>\n",
       "      <th>2</th>\n",
       "      <td>WA</td>\n",
       "      <td>Olympia</td>\n",
       "      <td>NaN</td>\n",
       "      <td>Formation</td>\n",
       "      <td>14</td>\n",
       "      <td>11</td>\n",
       "      <td>1997</td>\n",
       "      <td>21</td>\n",
       "      <td>20.0</td>\n",
       "      <td>-0.163149</td>\n",
       "      <td>...</td>\n",
       "      <td>-0.867472</td>\n",
       "      <td>0</td>\n",
       "      <td>0</td>\n",
       "      <td>NaN</td>\n",
       "      <td>-0.357641</td>\n",
       "      <td>0</td>\n",
       "      <td>1.598872</td>\n",
       "      <td>0</td>\n",
       "      <td>NaN</td>\n",
       "      <td>Clear</td>\n",
       "    </tr>\n",
       "    <tr>\n",
       "      <th>3</th>\n",
       "      <td>MD</td>\n",
       "      <td>Salisbury</td>\n",
       "      <td>NaN</td>\n",
       "      <td>Oval</td>\n",
       "      <td>24</td>\n",
       "      <td>11</td>\n",
       "      <td>1997</td>\n",
       "      <td>2</td>\n",
       "      <td>20.0</td>\n",
       "      <td>-0.189379</td>\n",
       "      <td>...</td>\n",
       "      <td>-0.464073</td>\n",
       "      <td>0</td>\n",
       "      <td>0</td>\n",
       "      <td>NaN</td>\n",
       "      <td>-0.911239</td>\n",
       "      <td>0</td>\n",
       "      <td>0.980525</td>\n",
       "      <td>0</td>\n",
       "      <td>NaN</td>\n",
       "      <td>Mostly Cloudy</td>\n",
       "    </tr>\n",
       "    <tr>\n",
       "      <th>4</th>\n",
       "      <td>MD</td>\n",
       "      <td>Salisbury</td>\n",
       "      <td>YELLOW</td>\n",
       "      <td>Oval</td>\n",
       "      <td>24</td>\n",
       "      <td>11</td>\n",
       "      <td>1997</td>\n",
       "      <td>2</td>\n",
       "      <td>900.0</td>\n",
       "      <td>-0.189379</td>\n",
       "      <td>...</td>\n",
       "      <td>-0.464073</td>\n",
       "      <td>0</td>\n",
       "      <td>0</td>\n",
       "      <td>NaN</td>\n",
       "      <td>-0.911239</td>\n",
       "      <td>0</td>\n",
       "      <td>0.980525</td>\n",
       "      <td>0</td>\n",
       "      <td>NaN</td>\n",
       "      <td>Mostly Cloudy</td>\n",
       "    </tr>\n",
       "  </tbody>\n",
       "</table>\n",
       "<p>5 rows × 27 columns</p>\n",
       "</div>"
      ],
      "text/plain": [
       "  state       city  colour      shape  mday  month  year  hour  duration  \\\n",
       "0    WA    Olympia     NaN  Formation    14     11  1997    21    2700.0   \n",
       "1    WA    Olympia     NaN   Fireball    14     11  1997    21    7200.0   \n",
       "2    WA    Olympia     NaN  Formation    14     11  1997    21      20.0   \n",
       "3    MD  Salisbury     NaN       Oval    24     11  1997     2      20.0   \n",
       "4    MD  Salisbury  YELLOW       Oval    24     11  1997     2     900.0   \n",
       "\n",
       "   pressure      ...        dewpoint  thunder  fog  precip  wingspeed  \\\n",
       "0 -0.163149      ...       -0.867472        0    0     NaN  -0.357641   \n",
       "1 -0.163149      ...       -0.867472        0    0     NaN  -0.357641   \n",
       "2 -0.163149      ...       -0.867472        0    0     NaN  -0.357641   \n",
       "3 -0.189379      ...       -0.464073        0    0     NaN  -0.911239   \n",
       "4 -0.189379      ...       -0.464073        0    0     NaN  -0.911239   \n",
       "\n",
       "   tornado       hum  snow  wgust      condition  \n",
       "0        0  1.598872     0    NaN          Clear  \n",
       "1        0  1.598872     0    NaN          Clear  \n",
       "2        0  1.598872     0    NaN          Clear  \n",
       "3        0  0.980525     0    NaN  Mostly Cloudy  \n",
       "4        0  0.980525     0    NaN  Mostly Cloudy  \n",
       "\n",
       "[5 rows x 27 columns]"
      ]
     },
     "execution_count": 3,
     "metadata": {},
     "output_type": "execute_result"
    }
   ],
   "source": [
    "#rename 'duration (seconds)' columns\n",
    "ufo = ufo.rename(columns={'duration (seconds)': 'duration'})\n",
    "ufo.head()"
   ]
  },
  {
   "cell_type": "code",
   "execution_count": 4,
   "metadata": {},
   "outputs": [
    {
     "data": {
      "text/plain": [
       "(51870, 27)"
      ]
     },
     "execution_count": 4,
     "metadata": {},
     "output_type": "execute_result"
    }
   ],
   "source": [
    "#check how many rows in the data\n",
    "ufo.shape"
   ]
  },
  {
   "cell_type": "code",
   "execution_count": 5,
   "metadata": {},
   "outputs": [
    {
     "data": {
      "text/plain": [
       "state             0\n",
       "city              0\n",
       "colour        51790\n",
       "shape             2\n",
       "mday              0\n",
       "month             0\n",
       "year              0\n",
       "hour              0\n",
       "duration          1\n",
       "pressure        211\n",
       "temp            326\n",
       "hail              0\n",
       "heatindex     48281\n",
       "windchill     43152\n",
       "rain              0\n",
       "visibility      700\n",
       "winddire          7\n",
       "dewpoint        477\n",
       "thunder           0\n",
       "fog               0\n",
       "precip        49859\n",
       "wingspeed       347\n",
       "tornado           0\n",
       "hum             478\n",
       "snow              0\n",
       "wgust         48596\n",
       "condition         7\n",
       "dtype: int64"
      ]
     },
     "execution_count": 5,
     "metadata": {},
     "output_type": "execute_result"
    }
   ],
   "source": [
    "#check how many null values of every columns\n",
    "ufo.isnull().sum(axis = 0)"
   ]
  },
  {
   "cell_type": "code",
   "execution_count": 6,
   "metadata": {},
   "outputs": [
    {
     "data": {
      "text/html": [
       "<div>\n",
       "<style scoped>\n",
       "    .dataframe tbody tr th:only-of-type {\n",
       "        vertical-align: middle;\n",
       "    }\n",
       "\n",
       "    .dataframe tbody tr th {\n",
       "        vertical-align: top;\n",
       "    }\n",
       "\n",
       "    .dataframe thead th {\n",
       "        text-align: right;\n",
       "    }\n",
       "</style>\n",
       "<table border=\"1\" class=\"dataframe\">\n",
       "  <thead>\n",
       "    <tr style=\"text-align: right;\">\n",
       "      <th></th>\n",
       "      <th>state</th>\n",
       "      <th>city</th>\n",
       "      <th>shape</th>\n",
       "      <th>mday</th>\n",
       "      <th>month</th>\n",
       "      <th>year</th>\n",
       "      <th>hour</th>\n",
       "      <th>duration</th>\n",
       "      <th>pressure</th>\n",
       "      <th>temp</th>\n",
       "      <th>...</th>\n",
       "      <th>dewpoint</th>\n",
       "      <th>thunder</th>\n",
       "      <th>fog</th>\n",
       "      <th>precip</th>\n",
       "      <th>wingspeed</th>\n",
       "      <th>tornado</th>\n",
       "      <th>hum</th>\n",
       "      <th>snow</th>\n",
       "      <th>wgust</th>\n",
       "      <th>condition</th>\n",
       "    </tr>\n",
       "  </thead>\n",
       "  <tbody>\n",
       "    <tr>\n",
       "      <th>0</th>\n",
       "      <td>WA</td>\n",
       "      <td>Olympia</td>\n",
       "      <td>Formation</td>\n",
       "      <td>14</td>\n",
       "      <td>11</td>\n",
       "      <td>1997</td>\n",
       "      <td>21</td>\n",
       "      <td>2700.0</td>\n",
       "      <td>-0.163149</td>\n",
       "      <td>-1.618531</td>\n",
       "      <td>...</td>\n",
       "      <td>-0.867472</td>\n",
       "      <td>0</td>\n",
       "      <td>0</td>\n",
       "      <td>NaN</td>\n",
       "      <td>-0.357641</td>\n",
       "      <td>0</td>\n",
       "      <td>1.598872</td>\n",
       "      <td>0</td>\n",
       "      <td>NaN</td>\n",
       "      <td>Clear</td>\n",
       "    </tr>\n",
       "    <tr>\n",
       "      <th>1</th>\n",
       "      <td>WA</td>\n",
       "      <td>Olympia</td>\n",
       "      <td>Fireball</td>\n",
       "      <td>14</td>\n",
       "      <td>11</td>\n",
       "      <td>1997</td>\n",
       "      <td>21</td>\n",
       "      <td>7200.0</td>\n",
       "      <td>-0.163149</td>\n",
       "      <td>-1.618531</td>\n",
       "      <td>...</td>\n",
       "      <td>-0.867472</td>\n",
       "      <td>0</td>\n",
       "      <td>0</td>\n",
       "      <td>NaN</td>\n",
       "      <td>-0.357641</td>\n",
       "      <td>0</td>\n",
       "      <td>1.598872</td>\n",
       "      <td>0</td>\n",
       "      <td>NaN</td>\n",
       "      <td>Clear</td>\n",
       "    </tr>\n",
       "    <tr>\n",
       "      <th>2</th>\n",
       "      <td>WA</td>\n",
       "      <td>Olympia</td>\n",
       "      <td>Formation</td>\n",
       "      <td>14</td>\n",
       "      <td>11</td>\n",
       "      <td>1997</td>\n",
       "      <td>21</td>\n",
       "      <td>20.0</td>\n",
       "      <td>-0.163149</td>\n",
       "      <td>-1.618531</td>\n",
       "      <td>...</td>\n",
       "      <td>-0.867472</td>\n",
       "      <td>0</td>\n",
       "      <td>0</td>\n",
       "      <td>NaN</td>\n",
       "      <td>-0.357641</td>\n",
       "      <td>0</td>\n",
       "      <td>1.598872</td>\n",
       "      <td>0</td>\n",
       "      <td>NaN</td>\n",
       "      <td>Clear</td>\n",
       "    </tr>\n",
       "    <tr>\n",
       "      <th>3</th>\n",
       "      <td>MD</td>\n",
       "      <td>Salisbury</td>\n",
       "      <td>Oval</td>\n",
       "      <td>24</td>\n",
       "      <td>11</td>\n",
       "      <td>1997</td>\n",
       "      <td>2</td>\n",
       "      <td>20.0</td>\n",
       "      <td>-0.189379</td>\n",
       "      <td>-1.005539</td>\n",
       "      <td>...</td>\n",
       "      <td>-0.464073</td>\n",
       "      <td>0</td>\n",
       "      <td>0</td>\n",
       "      <td>NaN</td>\n",
       "      <td>-0.911239</td>\n",
       "      <td>0</td>\n",
       "      <td>0.980525</td>\n",
       "      <td>0</td>\n",
       "      <td>NaN</td>\n",
       "      <td>Mostly Cloudy</td>\n",
       "    </tr>\n",
       "    <tr>\n",
       "      <th>4</th>\n",
       "      <td>MD</td>\n",
       "      <td>Salisbury</td>\n",
       "      <td>Oval</td>\n",
       "      <td>24</td>\n",
       "      <td>11</td>\n",
       "      <td>1997</td>\n",
       "      <td>2</td>\n",
       "      <td>900.0</td>\n",
       "      <td>-0.189379</td>\n",
       "      <td>-1.005539</td>\n",
       "      <td>...</td>\n",
       "      <td>-0.464073</td>\n",
       "      <td>0</td>\n",
       "      <td>0</td>\n",
       "      <td>NaN</td>\n",
       "      <td>-0.911239</td>\n",
       "      <td>0</td>\n",
       "      <td>0.980525</td>\n",
       "      <td>0</td>\n",
       "      <td>NaN</td>\n",
       "      <td>Mostly Cloudy</td>\n",
       "    </tr>\n",
       "  </tbody>\n",
       "</table>\n",
       "<p>5 rows × 25 columns</p>\n",
       "</div>"
      ],
      "text/plain": [
       "  state       city      shape  mday  month  year  hour  duration  pressure  \\\n",
       "0    WA    Olympia  Formation    14     11  1997    21    2700.0 -0.163149   \n",
       "1    WA    Olympia   Fireball    14     11  1997    21    7200.0 -0.163149   \n",
       "2    WA    Olympia  Formation    14     11  1997    21      20.0 -0.163149   \n",
       "3    MD  Salisbury       Oval    24     11  1997     2      20.0 -0.189379   \n",
       "4    MD  Salisbury       Oval    24     11  1997     2     900.0 -0.189379   \n",
       "\n",
       "       temp      ...        dewpoint  thunder  fog  precip wingspeed  tornado  \\\n",
       "0 -1.618531      ...       -0.867472        0    0     NaN -0.357641        0   \n",
       "1 -1.618531      ...       -0.867472        0    0     NaN -0.357641        0   \n",
       "2 -1.618531      ...       -0.867472        0    0     NaN -0.357641        0   \n",
       "3 -1.005539      ...       -0.464073        0    0     NaN -0.911239        0   \n",
       "4 -1.005539      ...       -0.464073        0    0     NaN -0.911239        0   \n",
       "\n",
       "        hum  snow  wgust      condition  \n",
       "0  1.598872     0    NaN          Clear  \n",
       "1  1.598872     0    NaN          Clear  \n",
       "2  1.598872     0    NaN          Clear  \n",
       "3  0.980525     0    NaN  Mostly Cloudy  \n",
       "4  0.980525     0    NaN  Mostly Cloudy  \n",
       "\n",
       "[5 rows x 25 columns]"
      ]
     },
     "execution_count": 6,
     "metadata": {},
     "output_type": "execute_result"
    }
   ],
   "source": [
    "#drop the columns that have 80% or above null values\n",
    "ufo = ufo.drop(columns=['colour','heatindex'],axis=1)\n",
    "ufo.head()"
   ]
  },
  {
   "cell_type": "code",
   "execution_count": 7,
   "metadata": {},
   "outputs": [
    {
     "data": {
      "text/plain": [
       "duration    0\n",
       "dtype: int64"
      ]
     },
     "execution_count": 7,
     "metadata": {},
     "output_type": "execute_result"
    }
   ],
   "source": [
    "#drop the null value in 'duration' ,'shape','winddire','condition' columns\n",
    "ufo = ufo.dropna(subset=['duration'])\n",
    "ufo[['duration']].isnull().sum()"
   ]
  },
  {
   "cell_type": "code",
   "execution_count": 8,
   "metadata": {},
   "outputs": [],
   "source": [
    "#in the 'duration' column, the '0' rows are also null values\n",
    "ufo = ufo[ufo['duration'] != 0]"
   ]
  },
  {
   "cell_type": "code",
   "execution_count": 9,
   "metadata": {},
   "outputs": [],
   "source": [
    "import requests\n",
    "import json"
   ]
  },
  {
   "cell_type": "code",
   "execution_count": 10,
   "metadata": {},
   "outputs": [],
   "source": [
    "API_KEY = 'ce571b74b167ec66426ce321af16cc781191a5cc'\n",
    "url = 'https://api.census.gov/data/2018/pep/population?get=DENSITY,POP,GEONAME&for=state:*&key=' + API_KEY\n",
    "r = requests.get(url)\n",
    "r_json = r.json()"
   ]
  },
  {
   "cell_type": "code",
   "execution_count": 11,
   "metadata": {},
   "outputs": [
    {
     "name": "stdout",
     "output_type": "stream",
     "text": [
      "         DENSITY       POP               GEONAME state\n",
      "0    96.50938865   4887871               Alabama    01\n",
      "1   1.2915230609    737438                Alaska    02\n",
      "2   63.135855048   7171646               Arizona    04\n",
      "3   57.919684465   3013825              Arkansas    05\n",
      "4    253.9065023  39557045            California    06\n",
      "5   54.955977559   5695564              Colorado    08\n",
      "6   737.74459965   3572665           Connecticut    09\n",
      "7    496.4324605    967171              Delaware    10\n",
      "8    11490.11954    702455  District of Columbia    11\n",
      "9   397.01575445  21299325               Florida    12\n",
      "10  182.26478911  10519475               Georgia    13\n",
      "11  221.17691552   1420491                Hawaii    15\n",
      "12  21.225798536   1754208                 Idaho    16\n",
      "13  229.51115613  12741080              Illinois    17\n",
      "14  186.78751987   6691878               Indiana    18\n",
      "15  56.507023549   3156145                  Iowa    19\n",
      "16  35.610732968   2911505                Kansas    20\n",
      "17  113.15179107   4468402              Kentucky    21\n",
      "18  107.86011234   4659978             Louisiana    22\n",
      "19  43.391688419   1338404                 Maine    23\n",
      "20  622.26172745   6042718              Maryland    24\n",
      "21  884.74992172   6902149         Massachusetts    25\n",
      "22  176.59707779   9995915              Michigan    26\n",
      "23  70.469674696   5611179             Minnesota    27\n",
      "24  63.645625459   2986530           Mississippi    28\n",
      "25  89.117470789   6126452              Missouri    29\n",
      "26   7.298751095   1062305               Montana    30\n",
      "27  25.114922059   1929268              Nebraska    31\n",
      "28    27.6406025   3034392                Nevada    32\n",
      "29  151.50059716   1356458         New Hampshire    33\n",
      "30  1211.3172349   8908520            New Jersey    34\n",
      "31  17.273065483   2095428            New Mexico    35\n",
      "32  414.70249405  19542209              New York    36\n",
      "33  213.56949153  10383620        North Carolina    37\n",
      "34  11.015709613    760077          North Dakota    38\n",
      "35  286.07988455  11689442                  Ohio    39\n",
      "36  57.482602245   3943079              Oklahoma    40\n",
      "37  43.658853835   4190713                Oregon    41\n",
      "38  286.23455445  12807060          Pennsylvania    42\n",
      "39  1022.6505771   1057315          Rhode Island    44\n",
      "40  169.11117582   5084127        South Carolina    45\n",
      "41  11.637449389    882235          South Dakota    46\n",
      "42  164.17412699   6770010             Tennessee    47\n",
      "43  109.86046804  28701845                 Texas    48\n",
      "44  38.458214685   3161105                  Utah    49\n",
      "45  67.943995144    626299               Vermont    50\n",
      "46  215.73630393   8517685              Virginia    51\n",
      "47  113.39722716   7535591            Washington    53\n",
      "48   75.11398785   1805832         West Virginia    54\n",
      "49  107.32815663   5813568             Wisconsin    55\n",
      "50  5.9506106574    577737               Wyoming    56\n",
      "51          None   3195153           Puerto Rico    72\n"
     ]
    }
   ],
   "source": [
    "#convert the jason data into DataFrame\n",
    "population = pd.DataFrame(r_json[1:], columns = r_json[0])\n",
    "print(population)"
   ]
  },
  {
   "cell_type": "code",
   "execution_count": 12,
   "metadata": {},
   "outputs": [],
   "source": [
    "state = {\n",
    "    'Alabama': 'AL',\n",
    "    'Alaska': 'AK',\n",
    "    'Arizona': 'AZ',\n",
    "    'Arkansas': 'AR',\n",
    "    'California': 'CA',\n",
    "    'Colorado': 'CO',\n",
    "    'Connecticut': 'CT',\n",
    "    'Delaware': 'DE',\n",
    "    'Florida': 'FL',\n",
    "    'Georgia': 'GA',\n",
    "    'Hawaii': 'HI',\n",
    "    'Idaho': 'ID',\n",
    "    'Illinois': 'IL',\n",
    "    'Indiana': 'IN',\n",
    "    'Iowa': 'IA',\n",
    "    'Kansas': 'KS',\n",
    "    'Kentucky': 'KY',\n",
    "    'Louisiana': 'LA',\n",
    "    'Maine': 'ME',\n",
    "    'Maryland': 'MD',\n",
    "    'Massachusetts': 'MA',\n",
    "    'Michigan': 'MI',\n",
    "    'Minnesota': 'MN',\n",
    "    'Mississippi': 'MS',\n",
    "    'Missouri': 'MO',\n",
    "    'Montana': 'MT',\n",
    "    'Nebraska': 'NE',\n",
    "    'Nevada': 'NV',\n",
    "    'New Hampshire': 'NH',\n",
    "    'New Jersey': 'NJ',\n",
    "    'New Mexico': 'NM',\n",
    "    'New York': 'NY',\n",
    "    'North Carolina': 'NC',\n",
    "    'North Dakota': 'ND',\n",
    "    'Ohio': 'OH',\n",
    "    'Oklahoma': 'OK',\n",
    "    'Oregon': 'OR',\n",
    "    'Pennsylvania': 'PA',\n",
    "    'Rhode Island': 'RI',\n",
    "    'South Carolina': 'SC',\n",
    "    'South Dakota': 'SD',\n",
    "    'Tennessee': 'TN',\n",
    "    'Texas': 'TX',\n",
    "    'Utah': 'UT',\n",
    "    'Vermont': 'VT',\n",
    "    'Virginia': 'VA',\n",
    "    'Washington': 'WA',\n",
    "    'West Virginia': 'WV',\n",
    "    'Wisconsin': 'WI',\n",
    "    'Wyoming': 'WY',\n",
    "}"
   ]
  },
  {
   "cell_type": "code",
   "execution_count": 13,
   "metadata": {},
   "outputs": [],
   "source": [
    "population['state']= population['GEONAME'].map(state)"
   ]
  },
  {
   "cell_type": "code",
   "execution_count": 14,
   "metadata": {},
   "outputs": [
    {
     "name": "stdout",
     "output_type": "stream",
     "text": [
      "  state       city      shape  mday  month  year  hour  duration  pressure  \\\n",
      "0    WA    Olympia  Formation    14     11  1997    21    2700.0 -0.163149   \n",
      "1    WA    Olympia   Fireball    14     11  1997    21    7200.0 -0.163149   \n",
      "2    WA    Olympia  Formation    14     11  1997    21      20.0 -0.163149   \n",
      "3    MD  Salisbury       Oval    24     11  1997     2      20.0 -0.189379   \n",
      "4    MD  Salisbury       Oval    24     11  1997     2     900.0 -0.189379   \n",
      "\n",
      "       temp   ...     fog  precip  wingspeed  tornado       hum  snow  wgust  \\\n",
      "0 -1.618531   ...       0     NaN  -0.357641        0  1.598872     0    NaN   \n",
      "1 -1.618531   ...       0     NaN  -0.357641        0  1.598872     0    NaN   \n",
      "2 -1.618531   ...       0     NaN  -0.357641        0  1.598872     0    NaN   \n",
      "3 -1.005539   ...       0     NaN  -0.911239        0  0.980525     0    NaN   \n",
      "4 -1.005539   ...       0     NaN  -0.911239        0  0.980525     0    NaN   \n",
      "\n",
      "       condition       DENSITY      POP  \n",
      "0          Clear  113.39722716  7535591  \n",
      "1          Clear  113.39722716  7535591  \n",
      "2          Clear  113.39722716  7535591  \n",
      "3  Mostly Cloudy  622.26172745  6042718  \n",
      "4  Mostly Cloudy  622.26172745  6042718  \n",
      "\n",
      "[5 rows x 27 columns]\n"
     ]
    }
   ],
   "source": [
    "#merge the density and population data into ufo\n",
    "ufo_new = pd.merge(ufo, population[['DENSITY','POP','state']],on='state', how = 'left')\n",
    "print(ufo_new.head())"
   ]
  },
  {
   "cell_type": "code",
   "execution_count": 15,
   "metadata": {},
   "outputs": [],
   "source": [
    "#check if there are null values in 'DENSITY'and 'POP' coulumns\n",
    "ufo_new[['DENSITY','POP']].isnull().sum(axis = 0)\n",
    "ufo_new['POP'] = ufo_new['POP'].astype('float64')\n",
    "ufo_new['DENSITY'] = ufo_new['DENSITY'].astype('float64')"
   ]
  },
  {
   "cell_type": "code",
   "execution_count": 16,
   "metadata": {},
   "outputs": [
    {
     "name": "stdout",
     "output_type": "stream",
     "text": [
      "  state       city      shape  mday  month  year  hour  duration  pressure  \\\n",
      "0    WA    Olympia  Formation    14     11  1997    21    2700.0 -0.163149   \n",
      "1    WA    Olympia   Fireball    14     11  1997    21    7200.0 -0.163149   \n",
      "2    WA    Olympia  Formation    14     11  1997    21      20.0 -0.163149   \n",
      "3    MD  Salisbury       Oval    24     11  1997     2      20.0 -0.189379   \n",
      "4    MD  Salisbury       Oval    24     11  1997     2     900.0 -0.189379   \n",
      "\n",
      "       temp    ...      fog  precip  wingspeed  tornado       hum  snow  \\\n",
      "0 -1.618531    ...        0     NaN  -0.357641        0  1.598872     0   \n",
      "1 -1.618531    ...        0     NaN  -0.357641        0  1.598872     0   \n",
      "2 -1.618531    ...        0     NaN  -0.357641        0  1.598872     0   \n",
      "3 -1.005539    ...        0     NaN  -0.911239        0  0.980525     0   \n",
      "4 -1.005539    ...        0     NaN  -0.911239        0  0.980525     0   \n",
      "\n",
      "   wgust      condition     density        pop  \n",
      "0    NaN          Clear  113.397227  7535591.0  \n",
      "1    NaN          Clear  113.397227  7535591.0  \n",
      "2    NaN          Clear  113.397227  7535591.0  \n",
      "3    NaN  Mostly Cloudy  622.261727  6042718.0  \n",
      "4    NaN  Mostly Cloudy  622.261727  6042718.0  \n",
      "\n",
      "[5 rows x 27 columns]\n"
     ]
    },
    {
     "data": {
      "text/plain": [
       "(47498, 27)"
      ]
     },
     "execution_count": 16,
     "metadata": {},
     "output_type": "execute_result"
    }
   ],
   "source": [
    "#drop the null values row in 'DENSITY'and 'POP' coulumns\n",
    "ufo_final = ufo_new.dropna(subset=['DENSITY','POP'])\n",
    "ufo_final.columns = ufo_final.columns.str.lower()\n",
    "print(ufo_final.head())\n",
    "ufo_final.shape"
   ]
  },
  {
   "cell_type": "markdown",
   "metadata": {},
   "source": [
    "# Part 2 Data Story Telling"
   ]
  },
  {
   "cell_type": "code",
   "execution_count": 17,
   "metadata": {},
   "outputs": [],
   "source": [
    "import numpy as np\n",
    "import matplotlib.pyplot as plt\n",
    "import seaborn as sns"
   ]
  },
  {
   "cell_type": "code",
   "execution_count": 18,
   "metadata": {},
   "outputs": [
    {
     "data": {
      "image/png": "[encoded data removed]",
      "text/plain": [
       "<matplotlib.figure.Figure at 0x27c51cda5c0>"
      ]
     },
     "metadata": {},
     "output_type": "display_data"
    }
   ],
   "source": [
    "#plot the trend of ufo sighting every years\n",
    "ufo_peryear = ufo_final.groupby('year').year.count()\n",
    "year = ufo_final['year'].unique()\n",
    "plt.figure(figsize=(20,10))\n",
    "plt.xticks(year)\n",
    "plt.title('UFO Sightings per Year')\n",
    "plt.xlabel('Year')\n",
    "plt.ylabel('Number of Sightings')\n",
    "plt.plot(ufo_peryear)\n",
    "plt.show()"
   ]
  },
  {
   "cell_type": "markdown",
   "metadata": {},
   "source": [
    "From the plot we can see the unmber of UFO sighting has an upward trend from 1997 till 2014. 2014 was the year recorded sighting the most UFOs. The number of UFO sighting started decreasing after 2014."
   ]
  },
  {
   "cell_type": "code",
   "execution_count": 19,
   "metadata": {},
   "outputs": [
    {
     "data": {
      "image/png": "[encoded data removed]",
      "text/plain": [
       "<matplotlib.figure.Figure at 0x27c51e93518>"
      ]
     },
     "metadata": {},
     "output_type": "display_data"
    }
   ],
   "source": [
    "#plot to see which months sighted ufo\n",
    "plt.figure(figsize=(20,10))\n",
    "mc = ufo_final['month'].value_counts().sort_index()\n",
    "mci = mc.index\n",
    "mcy = mc.get_values()\n",
    "sns.barplot(x=mci, y=mcy)\n",
    "plt.xlabel('Month')\n",
    "plt.ylabel(\"Frequency\")\n",
    "plt.title(\"Sightings - Month\")\n",
    "plt.show()"
   ]
  },
  {
   "cell_type": "markdown",
   "metadata": {},
   "source": [
    "From the plot we can see Summer and Fall have higher frequency of UFO sighting."
   ]
  },
  {
   "cell_type": "code",
   "execution_count": 20,
   "metadata": {},
   "outputs": [
    {
     "data": {
      "image/png": "[encoded data removed]",
      "text/plain": [
       "<matplotlib.figure.Figure at 0x27c51e7d470>"
      ]
     },
     "metadata": {},
     "output_type": "display_data"
    }
   ],
   "source": [
    "#plot the trend of ufo sighting during a day\n",
    "ufo_perhour= ufo_final.groupby('hour').hour.count()\n",
    "year = ufo_final['hour'].unique()\n",
    "plt.figure(figsize=(20,10))\n",
    "plt.xticks(year)\n",
    "plt.title('UFO Sightings during a Day')\n",
    "plt.xlabel('Hour')\n",
    "plt.ylabel('Number of Sightings')\n",
    "plt.plot(ufo_perhour)\n",
    "plt.show()"
   ]
  },
  {
   "cell_type": "markdown",
   "metadata": {},
   "source": [
    "We can see UFO sightings mostly happened during night time from 6 pm to 12 am. The trend starts to drop down after 12 since people go to sleep."
   ]
  },
  {
   "cell_type": "code",
   "execution_count": 21,
   "metadata": {},
   "outputs": [
    {
     "data": {
      "image/png": "[encoded data removed]",
      "text/plain": [
       "<matplotlib.figure.Figure at 0x27c52525dd8>"
      ]
     },
     "metadata": {},
     "output_type": "display_data"
    }
   ],
   "source": [
    "#plot to see what shapes were sighted\n",
    "plt.figure(figsize=(20,10))\n",
    "plt.title('UFO Shape')\n",
    "plt.xlabel('Shape')\n",
    "plt.ylabel('Different Shape Counting')\n",
    "ufo_final['shape'].value_counts().plot('bar')\n",
    "plt.xticks(rotation=45)\n",
    "plt.show()"
   ]
  },
  {
   "cell_type": "markdown",
   "metadata": {},
   "source": [
    "From the plot we can see most of the UFOs shape is light."
   ]
  },
  {
   "cell_type": "code",
   "execution_count": 22,
   "metadata": {},
   "outputs": [
    {
     "data": {
      "image/png": "[encoded data removed]",
      "text/plain": [
       "<matplotlib.figure.Figure at 0x27c521978d0>"
      ]
     },
     "metadata": {},
     "output_type": "display_data"
    }
   ],
   "source": [
    "#how long did the sighting last \n",
    "plt.figure(figsize=(20,10))\n",
    "duration = [i for i in ufo_final['duration'].value_counts()]\n",
    "duration_list = []\n",
    "for i in duration:\n",
    "    if i in range(0,16):\n",
    "        duration_list.append(\"0-15\")\n",
    "    if i in range(15,31):\n",
    "        duration_list.append(\"15-30\")\n",
    "    if i in range(31,61):\n",
    "        duration_list.append(\"30-60\")\n",
    "    if i in range(60,121):\n",
    "        duration_list.append(\"60-120\")\n",
    "    if i in range(120,241):\n",
    "        duration_list.append(\"120-240\")\n",
    "    if i > 240:\n",
    "        duration_list.append(\">240\")\n",
    "duration_list = pd.Series(duration_list)\n",
    "di = duration_list.value_counts().index\n",
    "dv = duration_list.value_counts().get_values()\n",
    "sns.barplot(di,dv)\n",
    "plt.title('Duration')\n",
    "plt.xlabel('Seconds')\n",
    "plt.ylabel('Rates')\n",
    "plt.show()"
   ]
  },
  {
   "cell_type": "markdown",
   "metadata": {},
   "source": [
    "From the plot we can see most of the UFOs only last for 0-15 minitunes."
   ]
  },
  {
   "cell_type": "code",
   "execution_count": 23,
   "metadata": {},
   "outputs": [
    {
     "data": {
      "text/html": [
       "        <script type=\"text/javascript\">\n",
       "        window.PlotlyConfig = {MathJaxConfig: 'local'};\n",
       "        if (window.MathJax) {MathJax.Hub.Config({SVG: {font: \"STIX-Web\"}});}\n",
       "        if (typeof require !== 'undefined') {\n",
       "        require.undef(\"plotly\");\n",
       "        requirejs.config({\n",
       "            paths: {\n",
       "                'plotly': ['https://cdn.plot.ly/plotly-latest.min']\n",
       "            }\n",
       "        });\n",
       "        require(['plotly'], function(Plotly) {\n",
       "            window._Plotly = Plotly;\n",
       "        });\n",
       "        }\n",
       "        </script>\n",
       "        "
      ]
     },
     "metadata": {},
     "output_type": "display_data"
    },
    {
     "data": {
      "application/vnd.plotly.v1+json": {
       "config": {
        "linkText": "Export to plot.ly",
        "plotlyServerURL": "https://plot.ly",
        "showLink": false
       },
       "data": [
        {
         "colorbar": {
          "title": {
           "text": "Sighting rates by states"
          }
         },
         "locationmode": "USA-states",
         "locations": [
          "CA",
          "FL",
          "WA",
          "NY",
          "TX",
          "PA",
          "IL",
          "OH",
          "AZ",
          "NC",
          "MI",
          "OR",
          "MA",
          "VA",
          "NJ",
          "CO",
          "MO",
          "GA",
          "IN",
          "WI",
          "SC",
          "TN",
          "CT",
          "MN",
          "MD",
          "KY",
          "NV",
          "IA",
          "NM",
          "OK",
          "ID",
          "AL",
          "NH",
          "UT",
          "ME",
          "LA",
          "KS",
          "MT",
          "AR",
          "WV",
          "MS",
          "NE",
          "AK",
          "VT",
          "HI",
          "RI",
          "DE",
          "SD",
          "WY",
          "ND"
         ],
         "marker": {
          "line": {
           "color": "rgb(255,255,255)",
           "width": 2
          }
         },
         "text": "times",
         "type": "choropleth",
         "uid": "de8b6c39-a056-495a-9679-eefe53300896",
         "z": [
          6023,
          3098,
          2648,
          2189,
          2186,
          1872,
          1674,
          1612,
          1609,
          1457,
          1421,
          1318,
          1022,
          1020,
          1016,
          1004,
          991,
          930,
          920,
          919,
          890,
          827,
          663,
          663,
          651,
          625,
          550,
          522,
          500,
          492,
          460,
          457,
          451,
          449,
          440,
          436,
          431,
          368,
          366,
          336,
          288,
          258,
          247,
          240,
          231,
          216,
          157,
          132,
          130,
          93
         ]
        }
       ],
       "layout": {
        "geo": {
         "lakecolor": "rgb(255, 255, 255)",
         "projection": {
          "type": "albers usa"
         },
         "scope": "usa",
         "showlakes": true
        },
        "title": {
         "text": "UFO Sighting Rates in USA"
        }
       }
      },
      "text/html": [
       "<div>\n",
       "        \n",
       "        \n",
       "            <div id=\"064d5f31-b154-440b-b2f9-bc2cdf9eb680\" class=\"plotly-graph-div\" style=\"height:525px; width:100%;\"></div>\n",
       "            <script type=\"text/javascript\">\n",
       "                require([\"plotly\"], function(Plotly) {\n",
       "                    window.PLOTLYENV=window.PLOTLYENV || {};\n",
       "                    window.PLOTLYENV.BASE_URL='https://plot.ly';\n",
       "                    \n",
       "                if (document.getElementById(\"064d5f31-b154-440b-b2f9-bc2cdf9eb680\")) {\n",
       "                    Plotly.newPlot(\n",
       "                        '064d5f31-b154-440b-b2f9-bc2cdf9eb680',\n",
       "                        [{\"colorbar\": {\"title\": {\"text\": \"Sighting rates by states\"}}, \"locationmode\": \"USA-states\", \"locations\": [\"CA\", \"FL\", \"WA\", \"NY\", \"TX\", \"PA\", \"IL\", \"OH\", \"AZ\", \"NC\", \"MI\", \"OR\", \"MA\", \"VA\", \"NJ\", \"CO\", \"MO\", \"GA\", \"IN\", \"WI\", \"SC\", \"TN\", \"CT\", \"MN\", \"MD\", \"KY\", \"NV\", \"IA\", \"NM\", \"OK\", \"ID\", \"AL\", \"NH\", \"UT\", \"ME\", \"LA\", \"KS\", \"MT\", \"AR\", \"WV\", \"MS\", \"NE\", \"AK\", \"VT\", \"HI\", \"RI\", \"DE\", \"SD\", \"WY\", \"ND\"], \"marker\": {\"line\": {\"color\": \"rgb(255,255,255)\", \"width\": 2}}, \"text\": \"times\", \"type\": \"choropleth\", \"uid\": \"de8b6c39-a056-495a-9679-eefe53300896\", \"z\": [6023, 3098, 2648, 2189, 2186, 1872, 1674, 1612, 1609, 1457, 1421, 1318, 1022, 1020, 1016, 1004, 991, 930, 920, 919, 890, 827, 663, 663, 651, 625, 550, 522, 500, 492, 460, 457, 451, 449, 440, 436, 431, 368, 366, 336, 288, 258, 247, 240, 231, 216, 157, 132, 130, 93]}],\n",
       "                        {\"geo\": {\"lakecolor\": \"rgb(255, 255, 255)\", \"projection\": {\"type\": \"albers usa\"}, \"scope\": \"usa\", \"showlakes\": true}, \"title\": {\"text\": \"UFO Sighting Rates in USA\"}},\n",
       "                        {\"showLink\": false, \"linkText\": \"Export to plot.ly\", \"plotlyServerURL\": \"https://plot.ly\", \"responsive\": true}\n",
       "                    ).then(function(){\n",
       "                            \n",
       "var gd = document.getElementById('064d5f31-b154-440b-b2f9-bc2cdf9eb680');\n",
       "var x = new MutationObserver(function (mutations, observer) {{\n",
       "        var display = window.getComputedStyle(gd).display;\n",
       "        if (!display || display === 'none') {{\n",
       "            console.log([gd, 'removed!']);\n",
       "            Plotly.purge(gd);\n",
       "            observer.disconnect();\n",
       "        }}\n",
       "}});\n",
       "\n",
       "// Listen for the removal of the full notebook cells\n",
       "var notebookContainer = gd.closest('#notebook-container');\n",
       "if (notebookContainer) {{\n",
       "    x.observe(notebookContainer, {childList: true});\n",
       "}}\n",
       "\n",
       "// Listen for the clearing of the current output cell\n",
       "var outputEl = gd.closest('.output');\n",
       "if (outputEl) {{\n",
       "    x.observe(outputEl, {childList: true});\n",
       "}}\n",
       "\n",
       "                        })\n",
       "                };\n",
       "                });\n",
       "            </script>\n",
       "        </div>"
      ]
     },
     "metadata": {},
     "output_type": "display_data"
    }
   ],
   "source": [
    "#which States sighted the most UFO\n",
    "import plotly.offline as py\n",
    "import plotly.graph_objs as go\n",
    "from plotly.offline import init_notebook_mode\n",
    "init_notebook_mode(connected=True) \n",
    "states_us = ufo_final['state'].value_counts().index\n",
    "states_ratio = ufo_final['state'].value_counts().values\n",
    "data = [\n",
    "        dict(\n",
    "        type='choropleth',\n",
    "        locations = states_us,\n",
    "        z = states_ratio,\n",
    "        locationmode = 'USA-states',\n",
    "        text = 'times',\n",
    "        marker = dict(\n",
    "            line = dict (\n",
    "                color = 'rgb(255,255,255)',\n",
    "                width = 2\n",
    "            ) ),\n",
    "        colorbar = dict(\n",
    "            title = 'Sighting rates by states')\n",
    "        )\n",
    "        ]\n",
    "\n",
    "layout = dict(\n",
    "        title = 'UFO Sighting Rates in USA',\n",
    "        geo = dict(\n",
    "            scope='usa',\n",
    "            projection=dict( type='albers usa' ),\n",
    "            showlakes = True,\n",
    "            lakecolor = 'rgb(255, 255, 255)'),\n",
    "              )\n",
    "fig = go.Figure(data=data, layout=layout)\n",
    "py.iplot(fig)"
   ]
  },
  {
   "cell_type": "markdown",
   "metadata": {},
   "source": [
    "Most of the UFO sightings happened in California, the second highest UFO sightings occur in Florida."
   ]
  },
  {
   "cell_type": "code",
   "execution_count": 24,
   "metadata": {},
   "outputs": [
    {
     "data": {
      "image/png": "[encoded data removed]",
      "text/plain": [
       "<matplotlib.figure.Figure at 0x27c5288fcc0>"
      ]
     },
     "metadata": {},
     "output_type": "display_data"
    }
   ],
   "source": [
    "#see wether there is correlation between populations and the sighting rates\n",
    "states_us = np.array(states_us)\n",
    "states_ufo = {'state' : states_us, 'times': states_ratio}\n",
    "states_ufo = pd.DataFrame(states_ufo)\n",
    "states_ufo = pd.merge(states_ufo, population[['DENSITY','POP','state']],on='state', how = 'left')\n",
    "states_ufo['DENSITY'] = pd.to_numeric(states_ufo['DENSITY'])\n",
    "states_ufo['POP'] = pd.to_numeric(states_ufo['POP'])\n",
    "plt.figure(figsize=(20,10))\n",
    "plt.scatter(states_ufo['POP'], states_ufo['times'])\n",
    "plt.title('Population vs. Rates')\n",
    "plt.xlabel('Population')\n",
    "plt.ylabel('Rates')\n",
    "plt.show()"
   ]
  },
  {
   "cell_type": "markdown",
   "metadata": {},
   "source": [
    "We can see there is correlation between populations and the sighting rates. More population States are more likely to see UFOs."
   ]
  },
  {
   "cell_type": "code",
   "execution_count": 25,
   "metadata": {},
   "outputs": [
    {
     "data": {
      "image/png": "[encoded data removed]",
      "text/plain": [
       "<matplotlib.figure.Figure at 0x27c528b4fd0>"
      ]
     },
     "metadata": {},
     "output_type": "display_data"
    }
   ],
   "source": [
    "#see wether there is correlation between populations density and the sighting rates\n",
    "plt.figure(figsize=(20,10))\n",
    "plt.scatter(states_ufo['DENSITY'], states_ufo['times'])\n",
    "plt.title('Population Density vs. Rates')\n",
    "plt.xlabel('Density')\n",
    "plt.ylabel('Rates')\n",
    "plt.show()"
   ]
  },
  {
   "cell_type": "markdown",
   "metadata": {},
   "source": [
    "On the other hand, correlation relationship between populations density and the sighting rates is not that strong. There are a couples of outliers."
   ]
  },
  {
   "cell_type": "code",
   "execution_count": 26,
   "metadata": {},
   "outputs": [
    {
     "data": {
      "image/png": "[encoded data removed]",
      "text/plain": [
       "<matplotlib.figure.Figure at 0x27c547d86d8>"
      ]
     },
     "metadata": {},
     "output_type": "display_data"
    }
   ],
   "source": [
    "#what weather other than sunny would sighting happen\n",
    "plt.figure(figsize=(20,10))\n",
    "hail = len(ufo_final[ufo_final['hail']==1])\n",
    "snow = len(ufo_final[ufo_final['snow']==1])\n",
    "rain = len(ufo_final[ufo_final['rain']==1])\n",
    "thunder = len(ufo_final[ufo_final['thunder']==1])\n",
    "snow = len(ufo_final[ufo_final['snow']==1])\n",
    "fog = len(ufo_final[ufo_final['fog']==1])\n",
    "tornado = len(ufo_final[ufo_final['tornado']==1])\n",
    "wv = [hail,snow,rain,thunder,snow,fog,tornado]\n",
    "wi = ['hail','snow','rain','thunder','snow','fog','tornado']\n",
    "sns.barplot(wi,wv)\n",
    "plt.title('Weather')\n",
    "plt.xlabel('Weather')\n",
    "plt.ylabel('Rates')\n",
    "plt.show()"
   ]
  },
  {
   "cell_type": "markdown",
   "metadata": {},
   "source": [
    "Other than sunny weather, UFO sightings most occur in rainy weather. There is no UFO sighting during hail."
   ]
  },
  {
   "cell_type": "code",
   "execution_count": 27,
   "metadata": {},
   "outputs": [
    {
     "data": {
      "text/plain": [
       "<matplotlib.axes._subplots.AxesSubplot at 0x27c547d8240>"
      ]
     },
     "execution_count": 27,
     "metadata": {},
     "output_type": "execute_result"
    },
    {
     "data": {
      "image/png": "[encoded data removed]",
      "text/plain": [
       "<matplotlib.figure.Figure at 0x27c528b4e10>"
      ]
     },
     "metadata": {},
     "output_type": "display_data"
    }
   ],
   "source": [
    "#does duration of sightings correlate with weather factors\n",
    "d = ufo_final[['duration','pressure','temp','visibility','dewpoint','wingspeed','hum','pop','density']]\n",
    "corr = d.corr()\n",
    "mask = np.zeros_like(corr, dtype=np.bool)\n",
    "mask[np.triu_indices_from(mask)] = True\n",
    "plt.figure(figsize=(20,10))\n",
    "cmap = sns.diverging_palette(220, 10, as_cmap=True)\n",
    "sns.heatmap(corr, mask=mask, cmap=cmap, vmax=.3, center=0,square=True, linewidths=.5, cbar_kws={\"shrink\": .5})"
   ]
  },
  {
   "cell_type": "markdown",
   "metadata": {},
   "source": [
    "The plot shows that duration does not have correlation relationship with the weather factors and populations."
   ]
  },
  {
   "cell_type": "code",
   "execution_count": 28,
   "metadata": {},
   "outputs": [
    {
     "data": {
      "image/png": "[encoded data removed]",
      "text/plain": [
       "<matplotlib.figure.Figure at 0x27c547b2860>"
      ]
     },
     "metadata": {},
     "output_type": "display_data"
    }
   ],
   "source": [
    "#what is the wind direction during UFO sightings\n",
    "plt.figure(figsize=(20,10))\n",
    "plt.title('Wind Direction')\n",
    "plt.xlabel('Wind Direction')\n",
    "plt.ylabel('Rates')\n",
    "ufo_final['winddire'].value_counts().plot('bar')\n",
    "plt.xticks(rotation=45)\n",
    "plt.show()"
   ]
  },
  {
   "cell_type": "markdown",
   "metadata": {},
   "source": [
    "Most UFOs were sighted during North wind direction. "
   ]
  },
  {
   "cell_type": "code",
   "execution_count": 29,
   "metadata": {},
   "outputs": [
    {
     "data": {
      "image/png": "[encoded data removed]",
      "text/plain": [
       "<matplotlib.figure.Figure at 0x27c54b0ccf8>"
      ]
     },
     "metadata": {},
     "output_type": "display_data"
    }
   ],
   "source": [
    "#what are the weather conditions during UFO sightings\n",
    "plt.figure(figsize=(20,10))\n",
    "plt.title('Weather Condition')\n",
    "plt.xlabel('Conditions')\n",
    "plt.ylabel('Rates')\n",
    "ufo_final['condition'].value_counts().plot('bar')\n",
    "plt.xticks(rotation=90)\n",
    "plt.show()"
   ]
  },
  {
   "cell_type": "markdown",
   "metadata": {},
   "source": [
    "The weather conditions during the sightings are mostly clear."
   ]
  }
 ],
 "metadata": {
  "kernelspec": {
   "display_name": "Python 3",
   "language": "python",
   "name": "python3"
  },
  "language_info": {
   "codemirror_mode": {
    "name": "ipython",
    "version": 3
   },
   "file_extension": ".py",
   "mimetype": "text/x-python",
   "name": "python",
   "nbconvert_exporter": "python",
   "pygments_lexer": "ipython3",
   "version": "3.6.4"
  }
 },
 "nbformat": 4,
 "nbformat_minor": 2
}
